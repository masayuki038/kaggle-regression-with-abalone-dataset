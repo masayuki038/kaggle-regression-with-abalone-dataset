{
  "metadata": {
    "kernelspec": {
      "language": "python",
      "display_name": "Python 3",
      "name": "python3"
    },
    "language_info": {
      "name": "python",
      "version": "3.10.13",
      "mimetype": "text/x-python",
      "codemirror_mode": {
        "name": "ipython",
        "version": 3
      },
      "pygments_lexer": "ipython3",
      "nbconvert_exporter": "python",
      "file_extension": ".py"
    },
    "kaggle": {
      "accelerator": "none",
      "dataSources": [
        {
          "sourceId": 72489,
          "databundleVersionId": 8096274,
          "sourceType": "competition"
        }
      ],
      "dockerImageVersionId": 30673,
      "isInternetEnabled": true,
      "language": "python",
      "sourceType": "notebook",
      "isGpuEnabled": false
    },
    "colab": {
      "name": "LightGBM: Getting Started Notebook 🏆",
      "provenance": [],
      "include_colab_link": true
    }
  },
  "nbformat_minor": 0,
  "nbformat": 4,
  "cells": [
    {
      "cell_type": "markdown",
      "metadata": {
        "id": "view-in-github",
        "colab_type": "text"
      },
      "source": [
        "<a href=\"https://colab.research.google.com/github/masayuki038/kaggle-regression-with-abalone-dataset/blob/main/kaggle-regression-with-abalone-dataset.ipynb\" target=\"_parent\"><img src=\"https://colab.research.google.com/assets/colab-badge.svg\" alt=\"Open In Colab\"/></a>"
      ]
    },
    {
      "source": [
        "\n",
        "# IMPORTANT: RUN THIS CELL IN ORDER TO IMPORT YOUR KAGGLE DATA SOURCES\n",
        "# TO THE CORRECT LOCATION (/kaggle/input) IN YOUR NOTEBOOK,\n",
        "# THEN FEEL FREE TO DELETE THIS CELL.\n",
        "# NOTE: THIS NOTEBOOK ENVIRONMENT DIFFERS FROM KAGGLE'S PYTHON\n",
        "# ENVIRONMENT SO THERE MAY BE MISSING LIBRARIES USED BY YOUR\n",
        "# NOTEBOOK.\n",
        "\n",
        "import os\n",
        "import sys\n",
        "from tempfile import NamedTemporaryFile\n",
        "from urllib.request import urlopen\n",
        "from urllib.parse import unquote, urlparse\n",
        "from urllib.error import HTTPError\n",
        "from zipfile import ZipFile\n",
        "import tarfile\n",
        "import shutil\n",
        "\n",
        "CHUNK_SIZE = 40960\n",
        "DATA_SOURCE_MAPPING = 'playground-series-s4e4:https%3A%2F%2Fstorage.googleapis.com%2Fkaggle-competitions-data%2Fkaggle-v2%2F72489%2F8096274%2Fbundle%2Farchive.zip%3FX-Goog-Algorithm%3DGOOG4-RSA-SHA256%26X-Goog-Credential%3Dgcp-kaggle-com%2540kaggle-161607.iam.gserviceaccount.com%252F20240404%252Fauto%252Fstorage%252Fgoog4_request%26X-Goog-Date%3D20240404T150044Z%26X-Goog-Expires%3D259200%26X-Goog-SignedHeaders%3Dhost%26X-Goog-Signature%3D6a9aa0bc7fd9ff0364a494a1a6e23006d17d9bf94541bc17d376166d87b9618ae0c55dbd5bccc800798f300dbd20116212d8e6aa2b1c3425c0080dbc60e6afd6efa4dd07ef72bb7bae64e45bc4353a4e8411af30e6c0462a63126fbc1e227dad9389ba9c0bdbe8e9c88332c2a89853574bb637387857b4d60cc9d4aa2bed5bb0314ca5e8282f2964a798c135a4b2bd3d6b6f1fc9b102e4309650c82d45694080d34331ac8f6a80c565ca3651570c1c10d6010c55c78d23f4d520cba968a98242d366dd528e9a0b43e85ed70c70d57728fe151e276482ebf2ecb959e23a35b53b91d55330aebbe1783203e0784b11afbc3814a821647ac0fbf84a82bbe0c6e3ad'\n",
        "\n",
        "KAGGLE_INPUT_PATH='/kaggle/input'\n",
        "KAGGLE_WORKING_PATH='/kaggle/working'\n",
        "KAGGLE_SYMLINK='kaggle'\n",
        "\n",
        "!umount /kaggle/input/ 2> /dev/null\n",
        "shutil.rmtree('/kaggle/input', ignore_errors=True)\n",
        "os.makedirs(KAGGLE_INPUT_PATH, 0o777, exist_ok=True)\n",
        "os.makedirs(KAGGLE_WORKING_PATH, 0o777, exist_ok=True)\n",
        "\n",
        "try:\n",
        "  os.symlink(KAGGLE_INPUT_PATH, os.path.join(\"..\", 'input'), target_is_directory=True)\n",
        "except FileExistsError:\n",
        "  pass\n",
        "try:\n",
        "  os.symlink(KAGGLE_WORKING_PATH, os.path.join(\"..\", 'working'), target_is_directory=True)\n",
        "except FileExistsError:\n",
        "  pass\n",
        "\n",
        "for data_source_mapping in DATA_SOURCE_MAPPING.split(','):\n",
        "    directory, download_url_encoded = data_source_mapping.split(':')\n",
        "    download_url = unquote(download_url_encoded)\n",
        "    filename = urlparse(download_url).path\n",
        "    destination_path = os.path.join(KAGGLE_INPUT_PATH, directory)\n",
        "    try:\n",
        "        with urlopen(download_url) as fileres, NamedTemporaryFile() as tfile:\n",
        "            total_length = fileres.headers['content-length']\n",
        "            print(f'Downloading {directory}, {total_length} bytes compressed')\n",
        "            dl = 0\n",
        "            data = fileres.read(CHUNK_SIZE)\n",
        "            while len(data) > 0:\n",
        "                dl += len(data)\n",
        "                tfile.write(data)\n",
        "                done = int(50 * dl / int(total_length))\n",
        "                sys.stdout.write(f\"\\r[{'=' * done}{' ' * (50-done)}] {dl} bytes downloaded\")\n",
        "                sys.stdout.flush()\n",
        "                data = fileres.read(CHUNK_SIZE)\n",
        "            if filename.endswith('.zip'):\n",
        "              with ZipFile(tfile) as zfile:\n",
        "                zfile.extractall(destination_path)\n",
        "            else:\n",
        "              with tarfile.open(tfile.name) as tarfile:\n",
        "                tarfile.extractall(destination_path)\n",
        "            print(f'\\nDownloaded and uncompressed: {directory}')\n",
        "    except HTTPError as e:\n",
        "        print(f'Failed to load (likely expired) {download_url} to path {destination_path}')\n",
        "        continue\n",
        "    except OSError as e:\n",
        "        print(f'Failed to load {download_url} to path {destination_path}')\n",
        "        continue\n",
        "\n",
        "print('Data source import complete.')\n"
      ],
      "metadata": {
        "id": "JTK2p0z8oHK6"
      },
      "cell_type": "code",
      "outputs": [],
      "execution_count": null
    },
    {
      "cell_type": "markdown",
      "source": [
        "<div style=\"border-radius: 15px;\n",
        "            border: 2px solid red;\n",
        "            color:white;\n",
        "            font-family: Helvetica;\n",
        "            text-align: center;\n",
        "            padding: 20px;\n",
        "            width: 800px;\n",
        "            text-align: center;\n",
        "            background-color: #FF7F7F;\n",
        "            font-size: 44px;\n",
        "            text-shadow: 2px 2px 4px #000;\">\n",
        "    Short & Easy Notebook </br>\n",
        "    to get </br>\n",
        "    Started\n",
        "</div>\n"
      ],
      "metadata": {
        "execution": {
          "iopub.status.busy": "2024-04-01T14:40:19.686278Z",
          "iopub.execute_input": "2024-04-01T14:40:19.686684Z",
          "iopub.status.idle": "2024-04-01T14:40:19.698411Z",
          "shell.execute_reply.started": "2024-04-01T14:40:19.686655Z",
          "shell.execute_reply": "2024-04-01T14:40:19.695884Z"
        },
        "id": "56AlxFVpoHK_"
      }
    },
    {
      "cell_type": "code",
      "source": [
        "# This Python 3 environment comes with many helpful analytics libraries installed\n",
        "# It is defined by the kaggle/python Docker image: https://github.com/kaggle/docker-python\n",
        "# For example, here's several helpful packages to load\n",
        "\n",
        "import numpy as np # linear algebra\n",
        "import pandas as pd # data processing, CSV file I/O (e.g. pd.read_csv)\n",
        "\n",
        "# Input data files are available in the read-only \"../input/\" directory\n",
        "# For example, running this (by clicking run or pressing Shift+Enter) will list all files under the input directory\n",
        "\n",
        "import os\n",
        "for dirname, _, filenames in os.walk('/kaggle/input'):\n",
        "    for filename in filenames:\n",
        "        print(os.path.join(dirname, filename))\n",
        "\n",
        "# You can write up to 20GB to the current directory (/kaggle/working/) that gets preserved as output when you create a version using \"Save & Run All\"\n",
        "# You can also write temporary files to /kaggle/temp/, but they won't be saved outside of the current session"
      ],
      "metadata": {
        "execution": {
          "iopub.status.busy": "2024-04-04T11:31:15.462126Z",
          "iopub.execute_input": "2024-04-04T11:31:15.462871Z",
          "iopub.status.idle": "2024-04-04T11:31:16.797855Z",
          "shell.execute_reply.started": "2024-04-04T11:31:15.462828Z",
          "shell.execute_reply": "2024-04-04T11:31:16.79669Z"
        },
        "trusted": true,
        "id": "1SsGHFkGoHLA"
      },
      "execution_count": null,
      "outputs": []
    },
    {
      "cell_type": "markdown",
      "source": [
        "<div style=\"border-radius: 15px;\n",
        "            border: 2px solid blue;\n",
        "            color:white;\n",
        "            font-family: Helvetica;\n",
        "            text-align: center;\n",
        "            padding: 20px;\n",
        "            width: 800px;\n",
        "            text-align: center;\n",
        "            background-color: #ADD8E6;\n",
        "            font-size: 44px;\n",
        "            text-shadow: 2px 2px 4px #000;\">\n",
        "    Load Data\n",
        "</div>\n"
      ],
      "metadata": {
        "id": "w1-PF-IsoHLB"
      }
    },
    {
      "cell_type": "code",
      "source": [
        "train_data = pd.read_csv('/kaggle/input/playground-series-s4e4/train.csv')\n",
        "test_data = pd.read_csv('/kaggle/input/playground-series-s4e4/test.csv')"
      ],
      "metadata": {
        "execution": {
          "iopub.status.busy": "2024-04-04T11:31:16.800591Z",
          "iopub.execute_input": "2024-04-04T11:31:16.801232Z",
          "iopub.status.idle": "2024-04-04T11:31:17.128932Z",
          "shell.execute_reply.started": "2024-04-04T11:31:16.801189Z",
          "shell.execute_reply": "2024-04-04T11:31:17.127638Z"
        },
        "trusted": true,
        "id": "JZJoyCeUoHLB"
      },
      "execution_count": null,
      "outputs": []
    },
    {
      "cell_type": "code",
      "source": [
        "train_data.head().style.background_gradient()"
      ],
      "metadata": {
        "execution": {
          "iopub.status.busy": "2024-04-04T11:31:17.130455Z",
          "iopub.execute_input": "2024-04-04T11:31:17.130923Z",
          "iopub.status.idle": "2024-04-04T11:31:17.265975Z",
          "shell.execute_reply.started": "2024-04-04T11:31:17.130856Z",
          "shell.execute_reply": "2024-04-04T11:31:17.264773Z"
        },
        "trusted": true,
        "id": "L49EGu1NoHLC"
      },
      "execution_count": null,
      "outputs": []
    },
    {
      "cell_type": "code",
      "source": [
        "test_data.head().style.background_gradient()"
      ],
      "metadata": {
        "execution": {
          "iopub.status.busy": "2024-04-04T11:31:17.268159Z",
          "iopub.execute_input": "2024-04-04T11:31:17.268628Z",
          "iopub.status.idle": "2024-04-04T11:31:17.29537Z",
          "shell.execute_reply.started": "2024-04-04T11:31:17.268597Z",
          "shell.execute_reply": "2024-04-04T11:31:17.294095Z"
        },
        "trusted": true,
        "id": "-XB1auEloHLC"
      },
      "execution_count": null,
      "outputs": []
    },
    {
      "cell_type": "markdown",
      "source": [
        "<div style=\"border-radius: 15px;\n",
        "            border: 2px solid blue;\n",
        "            color:white;\n",
        "            font-family: Helvetica;\n",
        "            text-align: center;\n",
        "            padding: 20px;\n",
        "            width: 800px;\n",
        "            text-align: center;\n",
        "            background-color: #ADD8E6;\n",
        "            font-size: 44px;\n",
        "            text-shadow: 2px 2px 4px #000;\">\n",
        "    Remove Duplicates & replace null values\n",
        "</div>"
      ],
      "metadata": {
        "id": "HAUPiLCaoHLD"
      }
    },
    {
      "cell_type": "code",
      "source": [
        "train_data.nunique()"
      ],
      "metadata": {
        "execution": {
          "iopub.status.busy": "2024-04-04T11:31:17.762149Z",
          "iopub.execute_input": "2024-04-04T11:31:17.762573Z",
          "iopub.status.idle": "2024-04-04T11:31:17.795614Z",
          "shell.execute_reply.started": "2024-04-04T11:31:17.762531Z",
          "shell.execute_reply": "2024-04-04T11:31:17.794317Z"
        },
        "trusted": true,
        "id": "R5flJeWnoHLE"
      },
      "execution_count": null,
      "outputs": []
    },
    {
      "cell_type": "code",
      "source": [
        "train_data.isnull().sum().sum()"
      ],
      "metadata": {
        "execution": {
          "iopub.status.busy": "2024-04-04T11:31:18.245502Z",
          "iopub.execute_input": "2024-04-04T11:31:18.245909Z",
          "iopub.status.idle": "2024-04-04T11:31:18.266012Z",
          "shell.execute_reply.started": "2024-04-04T11:31:18.245864Z",
          "shell.execute_reply": "2024-04-04T11:31:18.26492Z"
        },
        "trusted": true,
        "id": "cTjDF73YoHLE"
      },
      "execution_count": null,
      "outputs": []
    },
    {
      "cell_type": "code",
      "source": [
        "test_data.isnull().sum().sum()"
      ],
      "metadata": {
        "execution": {
          "iopub.status.busy": "2024-04-04T11:31:18.643129Z",
          "iopub.execute_input": "2024-04-04T11:31:18.643525Z",
          "iopub.status.idle": "2024-04-04T11:31:18.659555Z",
          "shell.execute_reply.started": "2024-04-04T11:31:18.643494Z",
          "shell.execute_reply": "2024-04-04T11:31:18.658193Z"
        },
        "trusted": true,
        "id": "CzqvQbLyoHLF"
      },
      "execution_count": null,
      "outputs": []
    },
    {
      "cell_type": "code",
      "source": [
        "cols = [col for col in train_data.columns]\n",
        "\n",
        "for col in cols:\n",
        "    print(f\"dtype of {col}: {train_data[col].dtype}\")"
      ],
      "metadata": {
        "execution": {
          "iopub.status.busy": "2024-04-04T11:31:19.074858Z",
          "iopub.execute_input": "2024-04-04T11:31:19.075309Z",
          "iopub.status.idle": "2024-04-04T11:31:19.081831Z",
          "shell.execute_reply.started": "2024-04-04T11:31:19.075274Z",
          "shell.execute_reply": "2024-04-04T11:31:19.080966Z"
        },
        "trusted": true,
        "id": "fnTDr0zqoHLF"
      },
      "execution_count": null,
      "outputs": []
    },
    {
      "cell_type": "markdown",
      "source": [
        "<div style=\"border-radius: 15px;\n",
        "            border: 2px solid blue;\n",
        "            color:white;\n",
        "            font-family: Helvetica;\n",
        "            text-align: center;\n",
        "            padding: 20px;\n",
        "            width: 800px;\n",
        "            text-align: center;\n",
        "            background-color: #ADD8E6;\n",
        "            font-size: 44px;\n",
        "            text-shadow: 2px 2px 4px #000;\">\n",
        "    Preprocessing\n",
        "</div>"
      ],
      "metadata": {
        "id": "VdCot0PJoHLF"
      }
    },
    {
      "cell_type": "code",
      "source": [
        "from sklearn.compose import ColumnTransformer, make_column_selector\n",
        "from sklearn.preprocessing import OneHotEncoder, StandardScaler"
      ],
      "metadata": {
        "execution": {
          "iopub.status.busy": "2024-04-04T11:31:20.124808Z",
          "iopub.execute_input": "2024-04-04T11:31:20.125227Z",
          "iopub.status.idle": "2024-04-04T11:31:21.604247Z",
          "shell.execute_reply.started": "2024-04-04T11:31:20.125195Z",
          "shell.execute_reply": "2024-04-04T11:31:21.602816Z"
        },
        "trusted": true,
        "id": "ZVge7TAjoHLF"
      },
      "execution_count": null,
      "outputs": []
    },
    {
      "cell_type": "code",
      "source": [
        "preprocess = ColumnTransformer([\n",
        "    ('One Hot', OneHotEncoder(handle_unknown = 'ignore'), make_column_selector(dtype_include = 'object')),\n",
        "    ('Scale', StandardScaler(), make_column_selector(dtype_include = 'float64'))\n",
        "])"
      ],
      "metadata": {
        "execution": {
          "iopub.status.busy": "2024-04-04T11:31:21.606615Z",
          "iopub.execute_input": "2024-04-04T11:31:21.607757Z",
          "iopub.status.idle": "2024-04-04T11:31:21.614337Z",
          "shell.execute_reply.started": "2024-04-04T11:31:21.60771Z",
          "shell.execute_reply": "2024-04-04T11:31:21.612934Z"
        },
        "trusted": true,
        "id": "i6E7VNHnoHLG"
      },
      "execution_count": null,
      "outputs": []
    },
    {
      "cell_type": "code",
      "source": [
        "Y_train = train_data['Rings']\n",
        "X_train = train_data.drop(['id', 'Rings'], axis = 1)\n",
        "\n",
        "X_test = test_data.drop(['id'], axis = 1)\n",
        "\n",
        "train_cols = np.array(X_train.columns)\n",
        "test_cols = np.array(X_test.columns)"
      ],
      "metadata": {
        "execution": {
          "iopub.status.busy": "2024-04-04T11:31:21.616033Z",
          "iopub.execute_input": "2024-04-04T11:31:21.617078Z",
          "iopub.status.idle": "2024-04-04T11:31:21.651214Z",
          "shell.execute_reply.started": "2024-04-04T11:31:21.617034Z",
          "shell.execute_reply": "2024-04-04T11:31:21.649994Z"
        },
        "trusted": true,
        "id": "tykc8BatoHLG"
      },
      "execution_count": null,
      "outputs": []
    },
    {
      "cell_type": "code",
      "source": [
        "preprocess.fit(pd.concat([X_train, X_test]))\n",
        "\n",
        "X_train = pd.DataFrame(preprocess.transform(X_train))\n",
        "X_test = pd.DataFrame(preprocess.transform(X_test))"
      ],
      "metadata": {
        "execution": {
          "iopub.status.busy": "2024-04-04T11:31:21.653912Z",
          "iopub.execute_input": "2024-04-04T11:31:21.654372Z",
          "iopub.status.idle": "2024-04-04T11:31:21.900874Z",
          "shell.execute_reply.started": "2024-04-04T11:31:21.654332Z",
          "shell.execute_reply": "2024-04-04T11:31:21.899927Z"
        },
        "trusted": true,
        "id": "Rf1gaXIkoHLG"
      },
      "execution_count": null,
      "outputs": []
    },
    {
      "cell_type": "code",
      "source": [
        "cat_one_hot_cols = np.array(['Sex_F', 'Sex_I', 'Sex_M'])\n",
        "\n",
        "train_cols = np.concatenate((cat_one_hot_cols, train_cols[1:]), axis = 0)\n",
        "test_cols = np.concatenate((cat_one_hot_cols, test_cols[1:]), axis = 0)\n",
        "\n",
        "X_train.columns = train_cols\n",
        "X_test.columns = test_cols"
      ],
      "metadata": {
        "execution": {
          "iopub.status.busy": "2024-04-04T11:31:22.224354Z",
          "iopub.execute_input": "2024-04-04T11:31:22.225323Z",
          "iopub.status.idle": "2024-04-04T11:31:22.232386Z",
          "shell.execute_reply.started": "2024-04-04T11:31:22.225284Z",
          "shell.execute_reply": "2024-04-04T11:31:22.230981Z"
        },
        "trusted": true,
        "id": "-UUAlwLmoHLG"
      },
      "execution_count": null,
      "outputs": []
    },
    {
      "cell_type": "code",
      "source": [
        "X_train.head().style.background_gradient()"
      ],
      "metadata": {
        "execution": {
          "iopub.status.busy": "2024-04-04T11:31:22.718067Z",
          "iopub.execute_input": "2024-04-04T11:31:22.718497Z",
          "iopub.status.idle": "2024-04-04T11:31:22.748749Z",
          "shell.execute_reply.started": "2024-04-04T11:31:22.718463Z",
          "shell.execute_reply": "2024-04-04T11:31:22.747573Z"
        },
        "trusted": true,
        "id": "EkxuXUt-oHLG"
      },
      "execution_count": null,
      "outputs": []
    },
    {
      "cell_type": "code",
      "source": [
        "X_test.head().style.background_gradient()"
      ],
      "metadata": {
        "execution": {
          "iopub.status.busy": "2024-04-04T11:31:23.642307Z",
          "iopub.execute_input": "2024-04-04T11:31:23.642691Z",
          "iopub.status.idle": "2024-04-04T11:31:23.673927Z",
          "shell.execute_reply.started": "2024-04-04T11:31:23.642661Z",
          "shell.execute_reply": "2024-04-04T11:31:23.672718Z"
        },
        "trusted": true,
        "id": "rrv8rZh0oHLG"
      },
      "execution_count": null,
      "outputs": []
    },
    {
      "cell_type": "code",
      "source": [
        "import seaborn as sns\n",
        "import matplotlib.pyplot as plt"
      ],
      "metadata": {
        "execution": {
          "iopub.status.busy": "2024-04-04T11:31:24.449823Z",
          "iopub.execute_input": "2024-04-04T11:31:24.450306Z",
          "iopub.status.idle": "2024-04-04T11:31:24.909069Z",
          "shell.execute_reply.started": "2024-04-04T11:31:24.450272Z",
          "shell.execute_reply": "2024-04-04T11:31:24.9078Z"
        },
        "trusted": true,
        "id": "kSKQZaq8oHLH"
      },
      "execution_count": null,
      "outputs": []
    },
    {
      "cell_type": "code",
      "source": [
        "corr = X_train.corr()\n",
        "\n",
        "plt.figure(figsize = (10, 10), dpi = 200)\n",
        "sns.heatmap(corr, cmap = 'YlGnBu', fmt = '.2f', annot = True)\n",
        "plt.title('Correlation Heatmap')\n",
        "plt.show()"
      ],
      "metadata": {
        "execution": {
          "iopub.status.busy": "2024-04-04T11:31:25.010391Z",
          "iopub.execute_input": "2024-04-04T11:31:25.010799Z",
          "iopub.status.idle": "2024-04-04T11:31:26.038418Z",
          "shell.execute_reply.started": "2024-04-04T11:31:25.010767Z",
          "shell.execute_reply": "2024-04-04T11:31:26.03708Z"
        },
        "trusted": true,
        "id": "4jHjq57JoHLH"
      },
      "execution_count": null,
      "outputs": []
    },
    {
      "cell_type": "markdown",
      "source": [
        "<div style=\"border-radius: 15px;\n",
        "            border: 2px solid blue;\n",
        "            color:white;\n",
        "            font-family: Helvetica;\n",
        "            text-align: center;\n",
        "            padding: 20px;\n",
        "            width: 800px;\n",
        "            text-align: center;\n",
        "            background-color: #ADD8E6;\n",
        "            font-size: 44px;\n",
        "            text-shadow: 2px 2px 4px #000;\">\n",
        "    Model training & predictions\n",
        "</div>"
      ],
      "metadata": {
        "id": "VTzuWQovoHLH"
      }
    },
    {
      "cell_type": "code",
      "source": [
        "from sklearn.model_selection import train_test_split\n",
        "from sklearn.metrics import mean_squared_error\n",
        "import lightgbm as lgb"
      ],
      "metadata": {
        "execution": {
          "iopub.status.busy": "2024-04-04T11:41:20.218078Z",
          "iopub.execute_input": "2024-04-04T11:41:20.218703Z",
          "iopub.status.idle": "2024-04-04T11:41:20.225859Z",
          "shell.execute_reply.started": "2024-04-04T11:41:20.218659Z",
          "shell.execute_reply": "2024-04-04T11:41:20.22417Z"
        },
        "trusted": true,
        "id": "_AhNXDJcoHLH"
      },
      "execution_count": null,
      "outputs": []
    },
    {
      "cell_type": "code",
      "source": [
        "X_train1, X_test1, Y_train1, Y_test = train_test_split(X_train, Y_train, test_size = 0.2, random_state = 42)"
      ],
      "metadata": {
        "execution": {
          "iopub.status.busy": "2024-04-04T11:31:33.204411Z",
          "iopub.execute_input": "2024-04-04T11:31:33.204752Z",
          "iopub.status.idle": "2024-04-04T11:31:33.224318Z",
          "shell.execute_reply.started": "2024-04-04T11:31:33.204723Z",
          "shell.execute_reply": "2024-04-04T11:31:33.222948Z"
        },
        "trusted": true,
        "id": "ms22OfdZoHLH"
      },
      "execution_count": null,
      "outputs": []
    },
    {
      "cell_type": "code",
      "source": [
        "params = {\n",
        "    'n_estimators': 150,\n",
        "    'n_jobs': -1,\n",
        "    'lambda_l1': 0.02,\n",
        "    'lambda_l2': 0.06,\n",
        "    'metric': 'rmse',\n",
        "    'verbose': -1,\n",
        "    'random_state': 42\n",
        "}\n",
        "\n",
        "model = lgb.LGBMRegressor(**params)"
      ],
      "metadata": {
        "execution": {
          "iopub.status.busy": "2024-04-04T11:31:33.226056Z",
          "iopub.execute_input": "2024-04-04T11:31:33.227538Z",
          "iopub.status.idle": "2024-04-04T11:31:33.234358Z",
          "shell.execute_reply.started": "2024-04-04T11:31:33.227493Z",
          "shell.execute_reply": "2024-04-04T11:31:33.232969Z"
        },
        "trusted": true,
        "id": "TUudnmsnoHLH"
      },
      "execution_count": null,
      "outputs": []
    },
    {
      "cell_type": "code",
      "source": [
        "model.fit(X_train1, Y_train1)\n",
        "\n",
        "lgb.plot_importance(model, importance_type=\"gain\", figsize=(12,8), max_num_features=12,\n",
        "                    title=\"LightGBM Feature Importance (Gain)\")\n",
        "\n",
        "plt.show()"
      ],
      "metadata": {
        "execution": {
          "iopub.status.busy": "2024-04-04T11:31:33.237538Z",
          "iopub.execute_input": "2024-04-04T11:31:33.238069Z",
          "iopub.status.idle": "2024-04-04T11:31:34.931421Z",
          "shell.execute_reply.started": "2024-04-04T11:31:33.238029Z",
          "shell.execute_reply": "2024-04-04T11:31:34.930213Z"
        },
        "trusted": true,
        "id": "JTzxJSxxoHLH"
      },
      "execution_count": null,
      "outputs": []
    },
    {
      "cell_type": "code",
      "source": [
        "preds = model.predict(X_test1)\n",
        "\n",
        "print(f'RMSLE Score: {np.sqrt(mean_squared_error(np.log1p(preds), np.log1p(Y_test)))}')"
      ],
      "metadata": {
        "execution": {
          "iopub.status.busy": "2024-04-04T11:44:45.446453Z",
          "iopub.execute_input": "2024-04-04T11:44:45.446955Z",
          "iopub.status.idle": "2024-04-04T11:44:45.597686Z",
          "shell.execute_reply.started": "2024-04-04T11:44:45.446917Z",
          "shell.execute_reply": "2024-04-04T11:44:45.596209Z"
        },
        "trusted": true,
        "id": "-gSdiYVRoHLH"
      },
      "execution_count": null,
      "outputs": []
    },
    {
      "cell_type": "code",
      "source": [
        "preds = model.predict(X_test)"
      ],
      "metadata": {
        "execution": {
          "iopub.status.busy": "2024-04-04T11:44:48.989141Z",
          "iopub.execute_input": "2024-04-04T11:44:48.989629Z",
          "iopub.status.idle": "2024-04-04T11:44:49.454948Z",
          "shell.execute_reply.started": "2024-04-04T11:44:48.98959Z",
          "shell.execute_reply": "2024-04-04T11:44:49.453642Z"
        },
        "trusted": true,
        "id": "34vDhU1AoHLI"
      },
      "execution_count": null,
      "outputs": []
    },
    {
      "cell_type": "code",
      "source": [
        "submission = pd.DataFrame({'id': test_data.id, 'Rings': preds})\n",
        "submission.to_csv('submission.csv', index = False)"
      ],
      "metadata": {
        "execution": {
          "iopub.status.busy": "2024-04-04T11:44:50.849936Z",
          "iopub.execute_input": "2024-04-04T11:44:50.850422Z",
          "iopub.status.idle": "2024-04-04T11:44:51.067813Z",
          "shell.execute_reply.started": "2024-04-04T11:44:50.850386Z",
          "shell.execute_reply": "2024-04-04T11:44:51.066639Z"
        },
        "trusted": true,
        "id": "fTwSTzfjoHLI"
      },
      "execution_count": null,
      "outputs": []
    },
    {
      "cell_type": "code",
      "source": [],
      "metadata": {
        "id": "B5KpwS4_oHLI"
      },
      "execution_count": null,
      "outputs": []
    }
  ]
}
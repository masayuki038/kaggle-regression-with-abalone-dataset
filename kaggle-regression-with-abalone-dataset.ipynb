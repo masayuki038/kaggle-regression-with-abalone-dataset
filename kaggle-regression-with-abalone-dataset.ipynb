{
  "metadata": {
    "kernelspec": {
      "language": "python",
      "display_name": "Python 3",
      "name": "python3"
    },
    "language_info": {
      "name": "python",
      "version": "3.10.13",
      "mimetype": "text/x-python",
      "codemirror_mode": {
        "name": "ipython",
        "version": 3
      },
      "pygments_lexer": "ipython3",
      "nbconvert_exporter": "python",
      "file_extension": ".py"
    },
    "kaggle": {
      "accelerator": "none",
      "dataSources": [
        {
          "sourceId": 72489,
          "databundleVersionId": 8096274,
          "sourceType": "competition"
        }
      ],
      "dockerImageVersionId": 30673,
      "isInternetEnabled": true,
      "language": "python",
      "sourceType": "notebook",
      "isGpuEnabled": false
    },
    "colab": {
      "name": "LightGBM: Getting Started Notebook 🏆",
      "provenance": [],
      "include_colab_link": true
    }
  },
  "nbformat_minor": 0,
  "nbformat": 4,
  "cells": [
    {
      "cell_type": "markdown",
      "metadata": {
        "id": "view-in-github",
        "colab_type": "text"
      },
      "source": [
        "<a href=\"https://colab.research.google.com/github/masayuki038/kaggle-regression-with-abalone-dataset/blob/main/kaggle-regression-with-abalone-dataset.ipynb\" target=\"_parent\"><img src=\"https://colab.research.google.com/assets/colab-badge.svg\" alt=\"Open In Colab\"/></a>"
      ]
    },
    {
      "source": [
        "\n",
        "# IMPORTANT: RUN THIS CELL IN ORDER TO IMPORT YOUR KAGGLE DATA SOURCES\n",
        "# TO THE CORRECT LOCATION (/kaggle/input) IN YOUR NOTEBOOK,\n",
        "# THEN FEEL FREE TO DELETE THIS CELL.\n",
        "# NOTE: THIS NOTEBOOK ENVIRONMENT DIFFERS FROM KAGGLE'S PYTHON\n",
        "# ENVIRONMENT SO THERE MAY BE MISSING LIBRARIES USED BY YOUR\n",
        "# NOTEBOOK.\n",
        "\n",
        "import os\n",
        "import sys\n",
        "from tempfile import NamedTemporaryFile\n",
        "from urllib.request import urlopen\n",
        "from urllib.parse import unquote, urlparse\n",
        "from urllib.error import HTTPError\n",
        "from zipfile import ZipFile\n",
        "import tarfile\n",
        "import shutil\n",
        "\n",
        "CHUNK_SIZE = 40960\n",
        "DATA_SOURCE_MAPPING = 'playground-series-s4e4:https%3A%2F%2Fstorage.googleapis.com%2Fkaggle-competitions-data%2Fkaggle-v2%2F72489%2F8096274%2Fbundle%2Farchive.zip%3FX-Goog-Algorithm%3DGOOG4-RSA-SHA256%26X-Goog-Credential%3Dgcp-kaggle-com%2540kaggle-161607.iam.gserviceaccount.com%252F20240404%252Fauto%252Fstorage%252Fgoog4_request%26X-Goog-Date%3D20240404T150044Z%26X-Goog-Expires%3D259200%26X-Goog-SignedHeaders%3Dhost%26X-Goog-Signature%3D6a9aa0bc7fd9ff0364a494a1a6e23006d17d9bf94541bc17d376166d87b9618ae0c55dbd5bccc800798f300dbd20116212d8e6aa2b1c3425c0080dbc60e6afd6efa4dd07ef72bb7bae64e45bc4353a4e8411af30e6c0462a63126fbc1e227dad9389ba9c0bdbe8e9c88332c2a89853574bb637387857b4d60cc9d4aa2bed5bb0314ca5e8282f2964a798c135a4b2bd3d6b6f1fc9b102e4309650c82d45694080d34331ac8f6a80c565ca3651570c1c10d6010c55c78d23f4d520cba968a98242d366dd528e9a0b43e85ed70c70d57728fe151e276482ebf2ecb959e23a35b53b91d55330aebbe1783203e0784b11afbc3814a821647ac0fbf84a82bbe0c6e3ad'\n",
        "\n",
        "KAGGLE_INPUT_PATH='/kaggle/input'\n",
        "KAGGLE_WORKING_PATH='/kaggle/working'\n",
        "KAGGLE_SYMLINK='kaggle'\n",
        "\n",
        "!umount /kaggle/input/ 2> /dev/null\n",
        "shutil.rmtree('/kaggle/input', ignore_errors=True)\n",
        "os.makedirs(KAGGLE_INPUT_PATH, 0o777, exist_ok=True)\n",
        "os.makedirs(KAGGLE_WORKING_PATH, 0o777, exist_ok=True)\n",
        "\n",
        "try:\n",
        "  os.symlink(KAGGLE_INPUT_PATH, os.path.join(\"..\", 'input'), target_is_directory=True)\n",
        "except FileExistsError:\n",
        "  pass\n",
        "try:\n",
        "  os.symlink(KAGGLE_WORKING_PATH, os.path.join(\"..\", 'working'), target_is_directory=True)\n",
        "except FileExistsError:\n",
        "  pass\n",
        "\n",
        "for data_source_mapping in DATA_SOURCE_MAPPING.split(','):\n",
        "    directory, download_url_encoded = data_source_mapping.split(':')\n",
        "    download_url = unquote(download_url_encoded)\n",
        "    filename = urlparse(download_url).path\n",
        "    destination_path = os.path.join(KAGGLE_INPUT_PATH, directory)\n",
        "    try:\n",
        "        with urlopen(download_url) as fileres, NamedTemporaryFile() as tfile:\n",
        "            total_length = fileres.headers['content-length']\n",
        "            print(f'Downloading {directory}, {total_length} bytes compressed')\n",
        "            dl = 0\n",
        "            data = fileres.read(CHUNK_SIZE)\n",
        "            while len(data) > 0:\n",
        "                dl += len(data)\n",
        "                tfile.write(data)\n",
        "                done = int(50 * dl / int(total_length))\n",
        "                sys.stdout.write(f\"\\r[{'=' * done}{' ' * (50-done)}] {dl} bytes downloaded\")\n",
        "                sys.stdout.flush()\n",
        "                data = fileres.read(CHUNK_SIZE)\n",
        "            if filename.endswith('.zip'):\n",
        "              with ZipFile(tfile) as zfile:\n",
        "                zfile.extractall(destination_path)\n",
        "            else:\n",
        "              with tarfile.open(tfile.name) as tarfile:\n",
        "                tarfile.extractall(destination_path)\n",
        "            print(f'\\nDownloaded and uncompressed: {directory}')\n",
        "    except HTTPError as e:\n",
        "        print(f'Failed to load (likely expired) {download_url} to path {destination_path}')\n",
        "        continue\n",
        "    except OSError as e:\n",
        "        print(f'Failed to load {download_url} to path {destination_path}')\n",
        "        continue\n",
        "\n",
        "print('Data source import complete.')\n"
      ],
      "metadata": {
        "colab": {
          "base_uri": "https://localhost:8080/"
        },
        "id": "JTK2p0z8oHK6",
        "outputId": "96c9833e-e6c0-4259-eb0b-0fd60400d642"
      },
      "cell_type": "code",
      "outputs": [
        {
          "output_type": "stream",
          "name": "stdout",
          "text": [
            "Downloading playground-series-s4e4, 2529839 bytes compressed\n",
            "[==================================================] 2529839 bytes downloaded\n",
            "Downloaded and uncompressed: playground-series-s4e4\n",
            "Data source import complete.\n"
          ]
        }
      ],
      "execution_count": 20
    },
    {
      "cell_type": "markdown",
      "source": [
        "<div style=\"border-radius: 15px;\n",
        "            border: 2px solid red;\n",
        "            color:white;\n",
        "            font-family: Helvetica;\n",
        "            text-align: center;\n",
        "            padding: 20px;\n",
        "            width: 800px;\n",
        "            text-align: center;\n",
        "            background-color: #FF7F7F;\n",
        "            font-size: 44px;\n",
        "            text-shadow: 2px 2px 4px #000;\">\n",
        "    Short & Easy Notebook </br>\n",
        "    to get </br>\n",
        "    Started\n",
        "</div>\n"
      ],
      "metadata": {
        "execution": {
          "iopub.status.busy": "2024-04-01T14:40:19.686278Z",
          "iopub.execute_input": "2024-04-01T14:40:19.686684Z",
          "iopub.status.idle": "2024-04-01T14:40:19.698411Z",
          "shell.execute_reply.started": "2024-04-01T14:40:19.686655Z",
          "shell.execute_reply": "2024-04-01T14:40:19.695884Z"
        },
        "id": "56AlxFVpoHK_"
      }
    },
    {
      "cell_type": "code",
      "source": [
        "# This Python 3 environment comes with many helpful analytics libraries installed\n",
        "# It is defined by the kaggle/python Docker image: https://github.com/kaggle/docker-python\n",
        "# For example, here's several helpful packages to load\n",
        "\n",
        "import numpy as np # linear algebra\n",
        "import pandas as pd # data processing, CSV file I/O (e.g. pd.read_csv)\n",
        "\n",
        "# Input data files are available in the read-only \"../input/\" directory\n",
        "# For example, running this (by clicking run or pressing Shift+Enter) will list all files under the input directory\n",
        "\n",
        "import os\n",
        "for dirname, _, filenames in os.walk('/kaggle/input'):\n",
        "    for filename in filenames:\n",
        "        print(os.path.join(dirname, filename))\n",
        "\n",
        "# You can write up to 20GB to the current directory (/kaggle/working/) that gets preserved as output when you create a version using \"Save & Run All\"\n",
        "# You can also write temporary files to /kaggle/temp/, but they won't be saved outside of the current session"
      ],
      "metadata": {
        "execution": {
          "iopub.status.busy": "2024-04-04T11:31:15.462126Z",
          "iopub.execute_input": "2024-04-04T11:31:15.462871Z",
          "iopub.status.idle": "2024-04-04T11:31:16.797855Z",
          "shell.execute_reply.started": "2024-04-04T11:31:15.462828Z",
          "shell.execute_reply": "2024-04-04T11:31:16.79669Z"
        },
        "trusted": true,
        "colab": {
          "base_uri": "https://localhost:8080/"
        },
        "id": "1SsGHFkGoHLA",
        "outputId": "6b01039f-99d8-48d4-8762-e56b2b5ebc43"
      },
      "execution_count": 21,
      "outputs": [
        {
          "output_type": "stream",
          "name": "stdout",
          "text": [
            "/kaggle/input/playground-series-s4e4/train.csv\n",
            "/kaggle/input/playground-series-s4e4/sample_submission.csv\n",
            "/kaggle/input/playground-series-s4e4/test.csv\n"
          ]
        }
      ]
    },
    {
      "cell_type": "markdown",
      "source": [
        "<div style=\"border-radius: 15px;\n",
        "            border: 2px solid blue;\n",
        "            color:white;\n",
        "            font-family: Helvetica;\n",
        "            text-align: center;\n",
        "            padding: 20px;\n",
        "            width: 800px;\n",
        "            text-align: center;\n",
        "            background-color: #ADD8E6;\n",
        "            font-size: 44px;\n",
        "            text-shadow: 2px 2px 4px #000;\">\n",
        "    Load Data\n",
        "</div>\n"
      ],
      "metadata": {
        "id": "w1-PF-IsoHLB"
      }
    },
    {
      "cell_type": "code",
      "source": [
        "train_data = pd.read_csv('/kaggle/input/playground-series-s4e4/train.csv')\n",
        "test_data = pd.read_csv('/kaggle/input/playground-series-s4e4/test.csv')"
      ],
      "metadata": {
        "execution": {
          "iopub.status.busy": "2024-04-04T11:31:16.800591Z",
          "iopub.execute_input": "2024-04-04T11:31:16.801232Z",
          "iopub.status.idle": "2024-04-04T11:31:17.128932Z",
          "shell.execute_reply.started": "2024-04-04T11:31:16.801189Z",
          "shell.execute_reply": "2024-04-04T11:31:17.127638Z"
        },
        "trusted": true,
        "id": "JZJoyCeUoHLB"
      },
      "execution_count": 22,
      "outputs": []
    },
    {
      "cell_type": "code",
      "source": [
        "train_data.head().style.background_gradient()"
      ],
      "metadata": {
        "execution": {
          "iopub.status.busy": "2024-04-04T11:31:17.130455Z",
          "iopub.execute_input": "2024-04-04T11:31:17.130923Z",
          "iopub.status.idle": "2024-04-04T11:31:17.265975Z",
          "shell.execute_reply.started": "2024-04-04T11:31:17.130856Z",
          "shell.execute_reply": "2024-04-04T11:31:17.264773Z"
        },
        "trusted": true,
        "colab": {
          "base_uri": "https://localhost:8080/",
          "height": 206
        },
        "id": "L49EGu1NoHLC",
        "outputId": "f9db6cfb-c96b-457a-9eb0-148a793e2046"
      },
      "execution_count": 23,
      "outputs": [
        {
          "output_type": "execute_result",
          "data": {
            "text/plain": [
              "<pandas.io.formats.style.Styler at 0x7b764b664220>"
            ],
            "text/html": [
              "<style type=\"text/css\">\n",
              "#T_0e44a_row0_col0, #T_0e44a_row2_col2, #T_0e44a_row2_col3, #T_0e44a_row2_col4, #T_0e44a_row2_col5, #T_0e44a_row2_col6, #T_0e44a_row2_col7, #T_0e44a_row2_col8, #T_0e44a_row2_col9 {\n",
              "  background-color: #fff7fb;\n",
              "  color: #000000;\n",
              "}\n",
              "#T_0e44a_row0_col2, #T_0e44a_row4_col3 {\n",
              "  background-color: #046299;\n",
              "  color: #f1f1f1;\n",
              "}\n",
              "#T_0e44a_row0_col3, #T_0e44a_row4_col2, #T_0e44a_row4_col4 {\n",
              "  background-color: #046096;\n",
              "  color: #f1f1f1;\n",
              "}\n",
              "#T_0e44a_row0_col4, #T_0e44a_row0_col9, #T_0e44a_row1_col2, #T_0e44a_row1_col3, #T_0e44a_row1_col5, #T_0e44a_row1_col6, #T_0e44a_row1_col7, #T_0e44a_row1_col8, #T_0e44a_row1_col9, #T_0e44a_row3_col4, #T_0e44a_row4_col0 {\n",
              "  background-color: #023858;\n",
              "  color: #f1f1f1;\n",
              "}\n",
              "#T_0e44a_row0_col5 {\n",
              "  background-color: #2182b9;\n",
              "  color: #f1f1f1;\n",
              "}\n",
              "#T_0e44a_row0_col6 {\n",
              "  background-color: #1379b5;\n",
              "  color: #f1f1f1;\n",
              "}\n",
              "#T_0e44a_row0_col7 {\n",
              "  background-color: #67a4cc;\n",
              "  color: #f1f1f1;\n",
              "}\n",
              "#T_0e44a_row0_col8 {\n",
              "  background-color: #0771b1;\n",
              "  color: #f1f1f1;\n",
              "}\n",
              "#T_0e44a_row1_col0 {\n",
              "  background-color: #d0d1e6;\n",
              "  color: #000000;\n",
              "}\n",
              "#T_0e44a_row1_col4, #T_0e44a_row3_col3 {\n",
              "  background-color: #034369;\n",
              "  color: #f1f1f1;\n",
              "}\n",
              "#T_0e44a_row2_col0 {\n",
              "  background-color: #73a9cf;\n",
              "  color: #f1f1f1;\n",
              "}\n",
              "#T_0e44a_row3_col0 {\n",
              "  background-color: #056faf;\n",
              "  color: #f1f1f1;\n",
              "}\n",
              "#T_0e44a_row3_col2 {\n",
              "  background-color: #034c78;\n",
              "  color: #f1f1f1;\n",
              "}\n",
              "#T_0e44a_row3_col5 {\n",
              "  background-color: #0566a0;\n",
              "  color: #f1f1f1;\n",
              "}\n",
              "#T_0e44a_row3_col6 {\n",
              "  background-color: #04649d;\n",
              "  color: #f1f1f1;\n",
              "}\n",
              "#T_0e44a_row3_col7 {\n",
              "  background-color: #0872b1;\n",
              "  color: #f1f1f1;\n",
              "}\n",
              "#T_0e44a_row3_col8 {\n",
              "  background-color: #056ba7;\n",
              "  color: #f1f1f1;\n",
              "}\n",
              "#T_0e44a_row3_col9 {\n",
              "  background-color: #0567a2;\n",
              "  color: #f1f1f1;\n",
              "}\n",
              "#T_0e44a_row4_col5 {\n",
              "  background-color: #1e80b8;\n",
              "  color: #f1f1f1;\n",
              "}\n",
              "#T_0e44a_row4_col6 {\n",
              "  background-color: #0567a1;\n",
              "  color: #f1f1f1;\n",
              "}\n",
              "#T_0e44a_row4_col7 {\n",
              "  background-color: #509ac6;\n",
              "  color: #f1f1f1;\n",
              "}\n",
              "#T_0e44a_row4_col8 {\n",
              "  background-color: #3d93c2;\n",
              "  color: #f1f1f1;\n",
              "}\n",
              "#T_0e44a_row4_col9 {\n",
              "  background-color: #4295c3;\n",
              "  color: #f1f1f1;\n",
              "}\n",
              "</style>\n",
              "<table id=\"T_0e44a\" class=\"dataframe\">\n",
              "  <thead>\n",
              "    <tr>\n",
              "      <th class=\"blank level0\" >&nbsp;</th>\n",
              "      <th id=\"T_0e44a_level0_col0\" class=\"col_heading level0 col0\" >id</th>\n",
              "      <th id=\"T_0e44a_level0_col1\" class=\"col_heading level0 col1\" >Sex</th>\n",
              "      <th id=\"T_0e44a_level0_col2\" class=\"col_heading level0 col2\" >Length</th>\n",
              "      <th id=\"T_0e44a_level0_col3\" class=\"col_heading level0 col3\" >Diameter</th>\n",
              "      <th id=\"T_0e44a_level0_col4\" class=\"col_heading level0 col4\" >Height</th>\n",
              "      <th id=\"T_0e44a_level0_col5\" class=\"col_heading level0 col5\" >Whole weight</th>\n",
              "      <th id=\"T_0e44a_level0_col6\" class=\"col_heading level0 col6\" >Whole weight.1</th>\n",
              "      <th id=\"T_0e44a_level0_col7\" class=\"col_heading level0 col7\" >Whole weight.2</th>\n",
              "      <th id=\"T_0e44a_level0_col8\" class=\"col_heading level0 col8\" >Shell weight</th>\n",
              "      <th id=\"T_0e44a_level0_col9\" class=\"col_heading level0 col9\" >Rings</th>\n",
              "    </tr>\n",
              "  </thead>\n",
              "  <tbody>\n",
              "    <tr>\n",
              "      <th id=\"T_0e44a_level0_row0\" class=\"row_heading level0 row0\" >0</th>\n",
              "      <td id=\"T_0e44a_row0_col0\" class=\"data row0 col0\" >0</td>\n",
              "      <td id=\"T_0e44a_row0_col1\" class=\"data row0 col1\" >F</td>\n",
              "      <td id=\"T_0e44a_row0_col2\" class=\"data row0 col2\" >0.550000</td>\n",
              "      <td id=\"T_0e44a_row0_col3\" class=\"data row0 col3\" >0.430000</td>\n",
              "      <td id=\"T_0e44a_row0_col4\" class=\"data row0 col4\" >0.150000</td>\n",
              "      <td id=\"T_0e44a_row0_col5\" class=\"data row0 col5\" >0.771500</td>\n",
              "      <td id=\"T_0e44a_row0_col6\" class=\"data row0 col6\" >0.328500</td>\n",
              "      <td id=\"T_0e44a_row0_col7\" class=\"data row0 col7\" >0.146500</td>\n",
              "      <td id=\"T_0e44a_row0_col8\" class=\"data row0 col8\" >0.240000</td>\n",
              "      <td id=\"T_0e44a_row0_col9\" class=\"data row0 col9\" >11</td>\n",
              "    </tr>\n",
              "    <tr>\n",
              "      <th id=\"T_0e44a_level0_row1\" class=\"row_heading level0 row1\" >1</th>\n",
              "      <td id=\"T_0e44a_row1_col0\" class=\"data row1 col0\" >1</td>\n",
              "      <td id=\"T_0e44a_row1_col1\" class=\"data row1 col1\" >F</td>\n",
              "      <td id=\"T_0e44a_row1_col2\" class=\"data row1 col2\" >0.630000</td>\n",
              "      <td id=\"T_0e44a_row1_col3\" class=\"data row1 col3\" >0.490000</td>\n",
              "      <td id=\"T_0e44a_row1_col4\" class=\"data row1 col4\" >0.145000</td>\n",
              "      <td id=\"T_0e44a_row1_col5\" class=\"data row1 col5\" >1.130000</td>\n",
              "      <td id=\"T_0e44a_row1_col6\" class=\"data row1 col6\" >0.458000</td>\n",
              "      <td id=\"T_0e44a_row1_col7\" class=\"data row1 col7\" >0.276500</td>\n",
              "      <td id=\"T_0e44a_row1_col8\" class=\"data row1 col8\" >0.320000</td>\n",
              "      <td id=\"T_0e44a_row1_col9\" class=\"data row1 col9\" >11</td>\n",
              "    </tr>\n",
              "    <tr>\n",
              "      <th id=\"T_0e44a_level0_row2\" class=\"row_heading level0 row2\" >2</th>\n",
              "      <td id=\"T_0e44a_row2_col0\" class=\"data row2 col0\" >2</td>\n",
              "      <td id=\"T_0e44a_row2_col1\" class=\"data row2 col1\" >I</td>\n",
              "      <td id=\"T_0e44a_row2_col2\" class=\"data row2 col2\" >0.160000</td>\n",
              "      <td id=\"T_0e44a_row2_col3\" class=\"data row2 col3\" >0.110000</td>\n",
              "      <td id=\"T_0e44a_row2_col4\" class=\"data row2 col4\" >0.025000</td>\n",
              "      <td id=\"T_0e44a_row2_col5\" class=\"data row2 col5\" >0.021000</td>\n",
              "      <td id=\"T_0e44a_row2_col6\" class=\"data row2 col6\" >0.005500</td>\n",
              "      <td id=\"T_0e44a_row2_col7\" class=\"data row2 col7\" >0.003000</td>\n",
              "      <td id=\"T_0e44a_row2_col8\" class=\"data row2 col8\" >0.005000</td>\n",
              "      <td id=\"T_0e44a_row2_col9\" class=\"data row2 col9\" >6</td>\n",
              "    </tr>\n",
              "    <tr>\n",
              "      <th id=\"T_0e44a_level0_row3\" class=\"row_heading level0 row3\" >3</th>\n",
              "      <td id=\"T_0e44a_row3_col0\" class=\"data row3 col0\" >3</td>\n",
              "      <td id=\"T_0e44a_row3_col1\" class=\"data row3 col1\" >M</td>\n",
              "      <td id=\"T_0e44a_row3_col2\" class=\"data row3 col2\" >0.595000</td>\n",
              "      <td id=\"T_0e44a_row3_col3\" class=\"data row3 col3\" >0.475000</td>\n",
              "      <td id=\"T_0e44a_row3_col4\" class=\"data row3 col4\" >0.150000</td>\n",
              "      <td id=\"T_0e44a_row3_col5\" class=\"data row3 col5\" >0.914500</td>\n",
              "      <td id=\"T_0e44a_row3_col6\" class=\"data row3 col6\" >0.375500</td>\n",
              "      <td id=\"T_0e44a_row3_col7\" class=\"data row3 col7\" >0.205500</td>\n",
              "      <td id=\"T_0e44a_row3_col8\" class=\"data row3 col8\" >0.250000</td>\n",
              "      <td id=\"T_0e44a_row3_col9\" class=\"data row3 col9\" >10</td>\n",
              "    </tr>\n",
              "    <tr>\n",
              "      <th id=\"T_0e44a_level0_row4\" class=\"row_heading level0 row4\" >4</th>\n",
              "      <td id=\"T_0e44a_row4_col0\" class=\"data row4 col0\" >4</td>\n",
              "      <td id=\"T_0e44a_row4_col1\" class=\"data row4 col1\" >I</td>\n",
              "      <td id=\"T_0e44a_row4_col2\" class=\"data row4 col2\" >0.555000</td>\n",
              "      <td id=\"T_0e44a_row4_col3\" class=\"data row4 col3\" >0.425000</td>\n",
              "      <td id=\"T_0e44a_row4_col4\" class=\"data row4 col4\" >0.130000</td>\n",
              "      <td id=\"T_0e44a_row4_col5\" class=\"data row4 col5\" >0.782000</td>\n",
              "      <td id=\"T_0e44a_row4_col6\" class=\"data row4 col6\" >0.369500</td>\n",
              "      <td id=\"T_0e44a_row4_col7\" class=\"data row4 col7\" >0.160000</td>\n",
              "      <td id=\"T_0e44a_row4_col8\" class=\"data row4 col8\" >0.197500</td>\n",
              "      <td id=\"T_0e44a_row4_col9\" class=\"data row4 col9\" >9</td>\n",
              "    </tr>\n",
              "  </tbody>\n",
              "</table>\n"
            ]
          },
          "metadata": {},
          "execution_count": 23
        }
      ]
    },
    {
      "cell_type": "code",
      "source": [
        "test_data.head().style.background_gradient()"
      ],
      "metadata": {
        "execution": {
          "iopub.status.busy": "2024-04-04T11:31:17.268159Z",
          "iopub.execute_input": "2024-04-04T11:31:17.268628Z",
          "iopub.status.idle": "2024-04-04T11:31:17.29537Z",
          "shell.execute_reply.started": "2024-04-04T11:31:17.268597Z",
          "shell.execute_reply": "2024-04-04T11:31:17.294095Z"
        },
        "trusted": true,
        "colab": {
          "base_uri": "https://localhost:8080/",
          "height": 206
        },
        "id": "-XB1auEloHLC",
        "outputId": "2bf9d3b9-a210-44ce-8251-bf8ccd84ae6b"
      },
      "execution_count": 24,
      "outputs": [
        {
          "output_type": "execute_result",
          "data": {
            "text/plain": [
              "<pandas.io.formats.style.Styler at 0x7b764b664b80>"
            ],
            "text/html": [
              "<style type=\"text/css\">\n",
              "#T_48637_row0_col0, #T_48637_row4_col2, #T_48637_row4_col3, #T_48637_row4_col4, #T_48637_row4_col5, #T_48637_row4_col6, #T_48637_row4_col7, #T_48637_row4_col8 {\n",
              "  background-color: #fff7fb;\n",
              "  color: #000000;\n",
              "}\n",
              "#T_48637_row0_col2, #T_48637_row0_col5, #T_48637_row0_col6, #T_48637_row0_col7, #T_48637_row0_col8, #T_48637_row1_col4, #T_48637_row3_col3, #T_48637_row4_col0 {\n",
              "  background-color: #023858;\n",
              "  color: #f1f1f1;\n",
              "}\n",
              "#T_48637_row0_col3 {\n",
              "  background-color: #03517e;\n",
              "  color: #f1f1f1;\n",
              "}\n",
              "#T_48637_row0_col4 {\n",
              "  background-color: #045382;\n",
              "  color: #f1f1f1;\n",
              "}\n",
              "#T_48637_row1_col0 {\n",
              "  background-color: #d0d1e6;\n",
              "  color: #000000;\n",
              "}\n",
              "#T_48637_row1_col2 {\n",
              "  background-color: #1278b4;\n",
              "  color: #f1f1f1;\n",
              "}\n",
              "#T_48637_row1_col3 {\n",
              "  background-color: #04649d;\n",
              "  color: #f1f1f1;\n",
              "}\n",
              "#T_48637_row1_col5 {\n",
              "  background-color: #157ab5;\n",
              "  color: #f1f1f1;\n",
              "}\n",
              "#T_48637_row1_col6 {\n",
              "  background-color: #197db7;\n",
              "  color: #f1f1f1;\n",
              "}\n",
              "#T_48637_row1_col7 {\n",
              "  background-color: #3790c0;\n",
              "  color: #f1f1f1;\n",
              "}\n",
              "#T_48637_row1_col8 {\n",
              "  background-color: #045b8e;\n",
              "  color: #f1f1f1;\n",
              "}\n",
              "#T_48637_row2_col0 {\n",
              "  background-color: #73a9cf;\n",
              "  color: #f1f1f1;\n",
              "}\n",
              "#T_48637_row2_col2 {\n",
              "  background-color: #348ebf;\n",
              "  color: #f1f1f1;\n",
              "}\n",
              "#T_48637_row2_col3 {\n",
              "  background-color: #4e9ac6;\n",
              "  color: #f1f1f1;\n",
              "}\n",
              "#T_48637_row2_col4 {\n",
              "  background-color: #4295c3;\n",
              "  color: #f1f1f1;\n",
              "}\n",
              "#T_48637_row2_col5 {\n",
              "  background-color: #5c9fc9;\n",
              "  color: #f1f1f1;\n",
              "}\n",
              "#T_48637_row2_col6, #T_48637_row3_col6 {\n",
              "  background-color: #93b5d6;\n",
              "  color: #000000;\n",
              "}\n",
              "#T_48637_row2_col7 {\n",
              "  background-color: #7dacd1;\n",
              "  color: #f1f1f1;\n",
              "}\n",
              "#T_48637_row2_col8 {\n",
              "  background-color: #1b7eb7;\n",
              "  color: #f1f1f1;\n",
              "}\n",
              "#T_48637_row3_col0 {\n",
              "  background-color: #056faf;\n",
              "  color: #f1f1f1;\n",
              "}\n",
              "#T_48637_row3_col2 {\n",
              "  background-color: #2383ba;\n",
              "  color: #f1f1f1;\n",
              "}\n",
              "#T_48637_row3_col4 {\n",
              "  background-color: #187cb6;\n",
              "  color: #f1f1f1;\n",
              "}\n",
              "#T_48637_row3_col5 {\n",
              "  background-color: #4897c4;\n",
              "  color: #f1f1f1;\n",
              "}\n",
              "#T_48637_row3_col7 {\n",
              "  background-color: #79abd0;\n",
              "  color: #f1f1f1;\n",
              "}\n",
              "#T_48637_row3_col8 {\n",
              "  background-color: #2685bb;\n",
              "  color: #f1f1f1;\n",
              "}\n",
              "</style>\n",
              "<table id=\"T_48637\" class=\"dataframe\">\n",
              "  <thead>\n",
              "    <tr>\n",
              "      <th class=\"blank level0\" >&nbsp;</th>\n",
              "      <th id=\"T_48637_level0_col0\" class=\"col_heading level0 col0\" >id</th>\n",
              "      <th id=\"T_48637_level0_col1\" class=\"col_heading level0 col1\" >Sex</th>\n",
              "      <th id=\"T_48637_level0_col2\" class=\"col_heading level0 col2\" >Length</th>\n",
              "      <th id=\"T_48637_level0_col3\" class=\"col_heading level0 col3\" >Diameter</th>\n",
              "      <th id=\"T_48637_level0_col4\" class=\"col_heading level0 col4\" >Height</th>\n",
              "      <th id=\"T_48637_level0_col5\" class=\"col_heading level0 col5\" >Whole weight</th>\n",
              "      <th id=\"T_48637_level0_col6\" class=\"col_heading level0 col6\" >Whole weight.1</th>\n",
              "      <th id=\"T_48637_level0_col7\" class=\"col_heading level0 col7\" >Whole weight.2</th>\n",
              "      <th id=\"T_48637_level0_col8\" class=\"col_heading level0 col8\" >Shell weight</th>\n",
              "    </tr>\n",
              "  </thead>\n",
              "  <tbody>\n",
              "    <tr>\n",
              "      <th id=\"T_48637_level0_row0\" class=\"row_heading level0 row0\" >0</th>\n",
              "      <td id=\"T_48637_row0_col0\" class=\"data row0 col0\" >90615</td>\n",
              "      <td id=\"T_48637_row0_col1\" class=\"data row0 col1\" >M</td>\n",
              "      <td id=\"T_48637_row0_col2\" class=\"data row0 col2\" >0.645000</td>\n",
              "      <td id=\"T_48637_row0_col3\" class=\"data row0 col3\" >0.475000</td>\n",
              "      <td id=\"T_48637_row0_col4\" class=\"data row0 col4\" >0.155000</td>\n",
              "      <td id=\"T_48637_row0_col5\" class=\"data row0 col5\" >1.238000</td>\n",
              "      <td id=\"T_48637_row0_col6\" class=\"data row0 col6\" >0.618500</td>\n",
              "      <td id=\"T_48637_row0_col7\" class=\"data row0 col7\" >0.312500</td>\n",
              "      <td id=\"T_48637_row0_col8\" class=\"data row0 col8\" >0.300500</td>\n",
              "    </tr>\n",
              "    <tr>\n",
              "      <th id=\"T_48637_level0_row1\" class=\"row_heading level0 row1\" >1</th>\n",
              "      <td id=\"T_48637_row1_col0\" class=\"data row1 col0\" >90616</td>\n",
              "      <td id=\"T_48637_row1_col1\" class=\"data row1 col1\" >M</td>\n",
              "      <td id=\"T_48637_row1_col2\" class=\"data row1 col2\" >0.580000</td>\n",
              "      <td id=\"T_48637_row1_col3\" class=\"data row1 col3\" >0.460000</td>\n",
              "      <td id=\"T_48637_row1_col4\" class=\"data row1 col4\" >0.160000</td>\n",
              "      <td id=\"T_48637_row1_col5\" class=\"data row1 col5\" >0.983000</td>\n",
              "      <td id=\"T_48637_row1_col6\" class=\"data row1 col6\" >0.478500</td>\n",
              "      <td id=\"T_48637_row1_col7\" class=\"data row1 col7\" >0.219500</td>\n",
              "      <td id=\"T_48637_row1_col8\" class=\"data row1 col8\" >0.275000</td>\n",
              "    </tr>\n",
              "    <tr>\n",
              "      <th id=\"T_48637_level0_row2\" class=\"row_heading level0 row2\" >2</th>\n",
              "      <td id=\"T_48637_row2_col0\" class=\"data row2 col0\" >90617</td>\n",
              "      <td id=\"T_48637_row2_col1\" class=\"data row2 col1\" >M</td>\n",
              "      <td id=\"T_48637_row2_col2\" class=\"data row2 col2\" >0.560000</td>\n",
              "      <td id=\"T_48637_row2_col3\" class=\"data row2 col3\" >0.420000</td>\n",
              "      <td id=\"T_48637_row2_col4\" class=\"data row2 col4\" >0.140000</td>\n",
              "      <td id=\"T_48637_row2_col5\" class=\"data row2 col5\" >0.839500</td>\n",
              "      <td id=\"T_48637_row2_col6\" class=\"data row2 col6\" >0.352500</td>\n",
              "      <td id=\"T_48637_row2_col7\" class=\"data row2 col7\" >0.184500</td>\n",
              "      <td id=\"T_48637_row2_col8\" class=\"data row2 col8\" >0.240500</td>\n",
              "    </tr>\n",
              "    <tr>\n",
              "      <th id=\"T_48637_level0_row3\" class=\"row_heading level0 row3\" >3</th>\n",
              "      <td id=\"T_48637_row3_col0\" class=\"data row3 col0\" >90618</td>\n",
              "      <td id=\"T_48637_row3_col1\" class=\"data row3 col1\" >M</td>\n",
              "      <td id=\"T_48637_row3_col2\" class=\"data row3 col2\" >0.570000</td>\n",
              "      <td id=\"T_48637_row3_col3\" class=\"data row3 col3\" >0.490000</td>\n",
              "      <td id=\"T_48637_row3_col4\" class=\"data row3 col4\" >0.145000</td>\n",
              "      <td id=\"T_48637_row3_col5\" class=\"data row3 col5\" >0.874000</td>\n",
              "      <td id=\"T_48637_row3_col6\" class=\"data row3 col6\" >0.352500</td>\n",
              "      <td id=\"T_48637_row3_col7\" class=\"data row3 col7\" >0.186500</td>\n",
              "      <td id=\"T_48637_row3_col8\" class=\"data row3 col8\" >0.235000</td>\n",
              "    </tr>\n",
              "    <tr>\n",
              "      <th id=\"T_48637_level0_row4\" class=\"row_heading level0 row4\" >4</th>\n",
              "      <td id=\"T_48637_row4_col0\" class=\"data row4 col0\" >90619</td>\n",
              "      <td id=\"T_48637_row4_col1\" class=\"data row4 col1\" >I</td>\n",
              "      <td id=\"T_48637_row4_col2\" class=\"data row4 col2\" >0.415000</td>\n",
              "      <td id=\"T_48637_row4_col3\" class=\"data row4 col3\" >0.325000</td>\n",
              "      <td id=\"T_48637_row4_col4\" class=\"data row4 col4\" >0.110000</td>\n",
              "      <td id=\"T_48637_row4_col5\" class=\"data row4 col5\" >0.358000</td>\n",
              "      <td id=\"T_48637_row4_col6\" class=\"data row4 col6\" >0.157500</td>\n",
              "      <td id=\"T_48637_row4_col7\" class=\"data row4 col7\" >0.067000</td>\n",
              "      <td id=\"T_48637_row4_col8\" class=\"data row4 col8\" >0.105000</td>\n",
              "    </tr>\n",
              "  </tbody>\n",
              "</table>\n"
            ]
          },
          "metadata": {},
          "execution_count": 24
        }
      ]
    },
    {
      "cell_type": "markdown",
      "source": [
        "<div style=\"border-radius: 15px;\n",
        "            border: 2px solid blue;\n",
        "            color:white;\n",
        "            font-family: Helvetica;\n",
        "            text-align: center;\n",
        "            padding: 20px;\n",
        "            width: 800px;\n",
        "            text-align: center;\n",
        "            background-color: #ADD8E6;\n",
        "            font-size: 44px;\n",
        "            text-shadow: 2px 2px 4px #000;\">\n",
        "    Remove Duplicates & replace null values\n",
        "</div>"
      ],
      "metadata": {
        "id": "HAUPiLCaoHLD"
      }
    },
    {
      "cell_type": "code",
      "source": [
        "train_data.nunique()"
      ],
      "metadata": {
        "execution": {
          "iopub.status.busy": "2024-04-04T11:31:17.762149Z",
          "iopub.execute_input": "2024-04-04T11:31:17.762573Z",
          "iopub.status.idle": "2024-04-04T11:31:17.795614Z",
          "shell.execute_reply.started": "2024-04-04T11:31:17.762531Z",
          "shell.execute_reply": "2024-04-04T11:31:17.794317Z"
        },
        "trusted": true,
        "colab": {
          "base_uri": "https://localhost:8080/"
        },
        "id": "R5flJeWnoHLE",
        "outputId": "785d0f98-aeb6-414d-ec88-ee980143345a"
      },
      "execution_count": 25,
      "outputs": [
        {
          "output_type": "execute_result",
          "data": {
            "text/plain": [
              "id                90615\n",
              "Sex                   3\n",
              "Length              157\n",
              "Diameter            126\n",
              "Height               90\n",
              "Whole weight       3175\n",
              "Whole weight.1     1799\n",
              "Whole weight.2      979\n",
              "Shell weight       1129\n",
              "Rings                28\n",
              "dtype: int64"
            ]
          },
          "metadata": {},
          "execution_count": 25
        }
      ]
    },
    {
      "cell_type": "code",
      "source": [
        "train_data.isnull().sum().sum()"
      ],
      "metadata": {
        "execution": {
          "iopub.status.busy": "2024-04-04T11:31:18.245502Z",
          "iopub.execute_input": "2024-04-04T11:31:18.245909Z",
          "iopub.status.idle": "2024-04-04T11:31:18.266012Z",
          "shell.execute_reply.started": "2024-04-04T11:31:18.245864Z",
          "shell.execute_reply": "2024-04-04T11:31:18.26492Z"
        },
        "trusted": true,
        "colab": {
          "base_uri": "https://localhost:8080/"
        },
        "id": "cTjDF73YoHLE",
        "outputId": "a6b94ff1-17e6-4b5f-da89-65e26b305a7b"
      },
      "execution_count": 26,
      "outputs": [
        {
          "output_type": "execute_result",
          "data": {
            "text/plain": [
              "0"
            ]
          },
          "metadata": {},
          "execution_count": 26
        }
      ]
    },
    {
      "cell_type": "code",
      "source": [
        "test_data.isnull().sum().sum()"
      ],
      "metadata": {
        "execution": {
          "iopub.status.busy": "2024-04-04T11:31:18.643129Z",
          "iopub.execute_input": "2024-04-04T11:31:18.643525Z",
          "iopub.status.idle": "2024-04-04T11:31:18.659555Z",
          "shell.execute_reply.started": "2024-04-04T11:31:18.643494Z",
          "shell.execute_reply": "2024-04-04T11:31:18.658193Z"
        },
        "trusted": true,
        "colab": {
          "base_uri": "https://localhost:8080/"
        },
        "id": "CzqvQbLyoHLF",
        "outputId": "fa50471c-3432-48cc-c9c0-7a6b4a11ecfb"
      },
      "execution_count": 27,
      "outputs": [
        {
          "output_type": "execute_result",
          "data": {
            "text/plain": [
              "0"
            ]
          },
          "metadata": {},
          "execution_count": 27
        }
      ]
    },
    {
      "cell_type": "code",
      "source": [
        "cols = [col for col in train_data.columns]\n",
        "\n",
        "for col in cols:\n",
        "    print(f\"dtype of {col}: {train_data[col].dtype}\")"
      ],
      "metadata": {
        "execution": {
          "iopub.status.busy": "2024-04-04T11:31:19.074858Z",
          "iopub.execute_input": "2024-04-04T11:31:19.075309Z",
          "iopub.status.idle": "2024-04-04T11:31:19.081831Z",
          "shell.execute_reply.started": "2024-04-04T11:31:19.075274Z",
          "shell.execute_reply": "2024-04-04T11:31:19.080966Z"
        },
        "trusted": true,
        "colab": {
          "base_uri": "https://localhost:8080/"
        },
        "id": "fnTDr0zqoHLF",
        "outputId": "4fad4374-0ca5-411b-afd0-606d58904b19"
      },
      "execution_count": 28,
      "outputs": [
        {
          "output_type": "stream",
          "name": "stdout",
          "text": [
            "dtype of id: int64\n",
            "dtype of Sex: object\n",
            "dtype of Length: float64\n",
            "dtype of Diameter: float64\n",
            "dtype of Height: float64\n",
            "dtype of Whole weight: float64\n",
            "dtype of Whole weight.1: float64\n",
            "dtype of Whole weight.2: float64\n",
            "dtype of Shell weight: float64\n",
            "dtype of Rings: int64\n"
          ]
        }
      ]
    },
    {
      "cell_type": "markdown",
      "source": [
        "<div style=\"border-radius: 15px;\n",
        "            border: 2px solid blue;\n",
        "            color:white;\n",
        "            font-family: Helvetica;\n",
        "            text-align: center;\n",
        "            padding: 20px;\n",
        "            width: 800px;\n",
        "            text-align: center;\n",
        "            background-color: #ADD8E6;\n",
        "            font-size: 44px;\n",
        "            text-shadow: 2px 2px 4px #000;\">\n",
        "    Preprocessing\n",
        "</div>"
      ],
      "metadata": {
        "id": "VdCot0PJoHLF"
      }
    },
    {
      "cell_type": "code",
      "source": [
        "from sklearn.compose import ColumnTransformer, make_column_selector\n",
        "from sklearn.preprocessing import OneHotEncoder, StandardScaler"
      ],
      "metadata": {
        "execution": {
          "iopub.status.busy": "2024-04-04T11:31:20.124808Z",
          "iopub.execute_input": "2024-04-04T11:31:20.125227Z",
          "iopub.status.idle": "2024-04-04T11:31:21.604247Z",
          "shell.execute_reply.started": "2024-04-04T11:31:20.125195Z",
          "shell.execute_reply": "2024-04-04T11:31:21.602816Z"
        },
        "trusted": true,
        "id": "ZVge7TAjoHLF"
      },
      "execution_count": 29,
      "outputs": []
    },
    {
      "cell_type": "code",
      "source": [
        "preprocess = ColumnTransformer([\n",
        "    ('One Hot', OneHotEncoder(handle_unknown = 'ignore'), make_column_selector(dtype_include = 'object')),\n",
        "    ('Scale', StandardScaler(), make_column_selector(dtype_include = 'float64'))\n",
        "])"
      ],
      "metadata": {
        "execution": {
          "iopub.status.busy": "2024-04-04T11:31:21.606615Z",
          "iopub.execute_input": "2024-04-04T11:31:21.607757Z",
          "iopub.status.idle": "2024-04-04T11:31:21.614337Z",
          "shell.execute_reply.started": "2024-04-04T11:31:21.60771Z",
          "shell.execute_reply": "2024-04-04T11:31:21.612934Z"
        },
        "trusted": true,
        "id": "i6E7VNHnoHLG"
      },
      "execution_count": 30,
      "outputs": []
    },
    {
      "cell_type": "code",
      "source": [
        "Y_train = train_data['Rings']\n",
        "X_train = train_data.drop(['id', 'Rings'], axis = 1)\n",
        "\n",
        "X_test = test_data.drop(['id'], axis = 1)\n",
        "\n",
        "train_cols = np.array(X_train.columns)\n",
        "test_cols = np.array(X_test.columns)"
      ],
      "metadata": {
        "execution": {
          "iopub.status.busy": "2024-04-04T11:31:21.616033Z",
          "iopub.execute_input": "2024-04-04T11:31:21.617078Z",
          "iopub.status.idle": "2024-04-04T11:31:21.651214Z",
          "shell.execute_reply.started": "2024-04-04T11:31:21.617034Z",
          "shell.execute_reply": "2024-04-04T11:31:21.649994Z"
        },
        "trusted": true,
        "id": "tykc8BatoHLG"
      },
      "execution_count": 31,
      "outputs": []
    },
    {
      "cell_type": "code",
      "source": [
        "preprocess.fit(pd.concat([X_train, X_test]))\n",
        "\n",
        "X_train = pd.DataFrame(preprocess.transform(X_train))\n",
        "X_test = pd.DataFrame(preprocess.transform(X_test))"
      ],
      "metadata": {
        "execution": {
          "iopub.status.busy": "2024-04-04T11:31:21.653912Z",
          "iopub.execute_input": "2024-04-04T11:31:21.654372Z",
          "iopub.status.idle": "2024-04-04T11:31:21.900874Z",
          "shell.execute_reply.started": "2024-04-04T11:31:21.654332Z",
          "shell.execute_reply": "2024-04-04T11:31:21.899927Z"
        },
        "trusted": true,
        "id": "Rf1gaXIkoHLG"
      },
      "execution_count": 32,
      "outputs": []
    },
    {
      "cell_type": "code",
      "source": [
        "X_train.head()"
      ],
      "metadata": {
        "id": "YGzbMyANtGs4",
        "outputId": "b1f9eec7-99bf-46b0-bf00-9c822b01eaac",
        "colab": {
          "base_uri": "https://localhost:8080/",
          "height": 206
        }
      },
      "execution_count": 33,
      "outputs": [
        {
          "output_type": "execute_result",
          "data": {
            "text/plain": [
              "     0    1    2         3         4         5         6         7         8  \\\n",
              "0  1.0  0.0  0.0  0.277772  0.288415  0.378761 -0.039214 -0.060964 -0.227315   \n",
              "1  1.0  0.0  0.0  0.955892  0.901890  0.247439  0.744160  0.572771  1.061947   \n",
              "2  0.0  1.0  0.0 -3.028063 -2.983452 -2.904273 -1.679164 -1.641631 -1.650462   \n",
              "3  0.0  0.0  1.0  0.659215  0.748521  0.378761  0.273261  0.169040  0.357811   \n",
              "4  0.0  1.0  0.0  0.320155  0.237292 -0.146525 -0.016270  0.139678 -0.093430   \n",
              "\n",
              "          9  \n",
              "0  0.107737  \n",
              "1  0.722876  \n",
              "2 -1.699234  \n",
              "3  0.184629  \n",
              "4 -0.219056  "
            ],
            "text/html": [
              "\n",
              "  <div id=\"df-090d91ef-5d49-49aa-b0e0-45ebfeb4d739\" class=\"colab-df-container\">\n",
              "    <div>\n",
              "<style scoped>\n",
              "    .dataframe tbody tr th:only-of-type {\n",
              "        vertical-align: middle;\n",
              "    }\n",
              "\n",
              "    .dataframe tbody tr th {\n",
              "        vertical-align: top;\n",
              "    }\n",
              "\n",
              "    .dataframe thead th {\n",
              "        text-align: right;\n",
              "    }\n",
              "</style>\n",
              "<table border=\"1\" class=\"dataframe\">\n",
              "  <thead>\n",
              "    <tr style=\"text-align: right;\">\n",
              "      <th></th>\n",
              "      <th>0</th>\n",
              "      <th>1</th>\n",
              "      <th>2</th>\n",
              "      <th>3</th>\n",
              "      <th>4</th>\n",
              "      <th>5</th>\n",
              "      <th>6</th>\n",
              "      <th>7</th>\n",
              "      <th>8</th>\n",
              "      <th>9</th>\n",
              "    </tr>\n",
              "  </thead>\n",
              "  <tbody>\n",
              "    <tr>\n",
              "      <th>0</th>\n",
              "      <td>1.0</td>\n",
              "      <td>0.0</td>\n",
              "      <td>0.0</td>\n",
              "      <td>0.277772</td>\n",
              "      <td>0.288415</td>\n",
              "      <td>0.378761</td>\n",
              "      <td>-0.039214</td>\n",
              "      <td>-0.060964</td>\n",
              "      <td>-0.227315</td>\n",
              "      <td>0.107737</td>\n",
              "    </tr>\n",
              "    <tr>\n",
              "      <th>1</th>\n",
              "      <td>1.0</td>\n",
              "      <td>0.0</td>\n",
              "      <td>0.0</td>\n",
              "      <td>0.955892</td>\n",
              "      <td>0.901890</td>\n",
              "      <td>0.247439</td>\n",
              "      <td>0.744160</td>\n",
              "      <td>0.572771</td>\n",
              "      <td>1.061947</td>\n",
              "      <td>0.722876</td>\n",
              "    </tr>\n",
              "    <tr>\n",
              "      <th>2</th>\n",
              "      <td>0.0</td>\n",
              "      <td>1.0</td>\n",
              "      <td>0.0</td>\n",
              "      <td>-3.028063</td>\n",
              "      <td>-2.983452</td>\n",
              "      <td>-2.904273</td>\n",
              "      <td>-1.679164</td>\n",
              "      <td>-1.641631</td>\n",
              "      <td>-1.650462</td>\n",
              "      <td>-1.699234</td>\n",
              "    </tr>\n",
              "    <tr>\n",
              "      <th>3</th>\n",
              "      <td>0.0</td>\n",
              "      <td>0.0</td>\n",
              "      <td>1.0</td>\n",
              "      <td>0.659215</td>\n",
              "      <td>0.748521</td>\n",
              "      <td>0.378761</td>\n",
              "      <td>0.273261</td>\n",
              "      <td>0.169040</td>\n",
              "      <td>0.357811</td>\n",
              "      <td>0.184629</td>\n",
              "    </tr>\n",
              "    <tr>\n",
              "      <th>4</th>\n",
              "      <td>0.0</td>\n",
              "      <td>1.0</td>\n",
              "      <td>0.0</td>\n",
              "      <td>0.320155</td>\n",
              "      <td>0.237292</td>\n",
              "      <td>-0.146525</td>\n",
              "      <td>-0.016270</td>\n",
              "      <td>0.139678</td>\n",
              "      <td>-0.093430</td>\n",
              "      <td>-0.219056</td>\n",
              "    </tr>\n",
              "  </tbody>\n",
              "</table>\n",
              "</div>\n",
              "    <div class=\"colab-df-buttons\">\n",
              "\n",
              "  <div class=\"colab-df-container\">\n",
              "    <button class=\"colab-df-convert\" onclick=\"convertToInteractive('df-090d91ef-5d49-49aa-b0e0-45ebfeb4d739')\"\n",
              "            title=\"Convert this dataframe to an interactive table.\"\n",
              "            style=\"display:none;\">\n",
              "\n",
              "  <svg xmlns=\"http://www.w3.org/2000/svg\" height=\"24px\" viewBox=\"0 -960 960 960\">\n",
              "    <path d=\"M120-120v-720h720v720H120Zm60-500h600v-160H180v160Zm220 220h160v-160H400v160Zm0 220h160v-160H400v160ZM180-400h160v-160H180v160Zm440 0h160v-160H620v160ZM180-180h160v-160H180v160Zm440 0h160v-160H620v160Z\"/>\n",
              "  </svg>\n",
              "    </button>\n",
              "\n",
              "  <style>\n",
              "    .colab-df-container {\n",
              "      display:flex;\n",
              "      gap: 12px;\n",
              "    }\n",
              "\n",
              "    .colab-df-convert {\n",
              "      background-color: #E8F0FE;\n",
              "      border: none;\n",
              "      border-radius: 50%;\n",
              "      cursor: pointer;\n",
              "      display: none;\n",
              "      fill: #1967D2;\n",
              "      height: 32px;\n",
              "      padding: 0 0 0 0;\n",
              "      width: 32px;\n",
              "    }\n",
              "\n",
              "    .colab-df-convert:hover {\n",
              "      background-color: #E2EBFA;\n",
              "      box-shadow: 0px 1px 2px rgba(60, 64, 67, 0.3), 0px 1px 3px 1px rgba(60, 64, 67, 0.15);\n",
              "      fill: #174EA6;\n",
              "    }\n",
              "\n",
              "    .colab-df-buttons div {\n",
              "      margin-bottom: 4px;\n",
              "    }\n",
              "\n",
              "    [theme=dark] .colab-df-convert {\n",
              "      background-color: #3B4455;\n",
              "      fill: #D2E3FC;\n",
              "    }\n",
              "\n",
              "    [theme=dark] .colab-df-convert:hover {\n",
              "      background-color: #434B5C;\n",
              "      box-shadow: 0px 1px 3px 1px rgba(0, 0, 0, 0.15);\n",
              "      filter: drop-shadow(0px 1px 2px rgba(0, 0, 0, 0.3));\n",
              "      fill: #FFFFFF;\n",
              "    }\n",
              "  </style>\n",
              "\n",
              "    <script>\n",
              "      const buttonEl =\n",
              "        document.querySelector('#df-090d91ef-5d49-49aa-b0e0-45ebfeb4d739 button.colab-df-convert');\n",
              "      buttonEl.style.display =\n",
              "        google.colab.kernel.accessAllowed ? 'block' : 'none';\n",
              "\n",
              "      async function convertToInteractive(key) {\n",
              "        const element = document.querySelector('#df-090d91ef-5d49-49aa-b0e0-45ebfeb4d739');\n",
              "        const dataTable =\n",
              "          await google.colab.kernel.invokeFunction('convertToInteractive',\n",
              "                                                    [key], {});\n",
              "        if (!dataTable) return;\n",
              "\n",
              "        const docLinkHtml = 'Like what you see? Visit the ' +\n",
              "          '<a target=\"_blank\" href=https://colab.research.google.com/notebooks/data_table.ipynb>data table notebook</a>'\n",
              "          + ' to learn more about interactive tables.';\n",
              "        element.innerHTML = '';\n",
              "        dataTable['output_type'] = 'display_data';\n",
              "        await google.colab.output.renderOutput(dataTable, element);\n",
              "        const docLink = document.createElement('div');\n",
              "        docLink.innerHTML = docLinkHtml;\n",
              "        element.appendChild(docLink);\n",
              "      }\n",
              "    </script>\n",
              "  </div>\n",
              "\n",
              "\n",
              "<div id=\"df-1fb3fcfa-402d-4b74-b961-ce23067a8450\">\n",
              "  <button class=\"colab-df-quickchart\" onclick=\"quickchart('df-1fb3fcfa-402d-4b74-b961-ce23067a8450')\"\n",
              "            title=\"Suggest charts\"\n",
              "            style=\"display:none;\">\n",
              "\n",
              "<svg xmlns=\"http://www.w3.org/2000/svg\" height=\"24px\"viewBox=\"0 0 24 24\"\n",
              "     width=\"24px\">\n",
              "    <g>\n",
              "        <path d=\"M19 3H5c-1.1 0-2 .9-2 2v14c0 1.1.9 2 2 2h14c1.1 0 2-.9 2-2V5c0-1.1-.9-2-2-2zM9 17H7v-7h2v7zm4 0h-2V7h2v10zm4 0h-2v-4h2v4z\"/>\n",
              "    </g>\n",
              "</svg>\n",
              "  </button>\n",
              "\n",
              "<style>\n",
              "  .colab-df-quickchart {\n",
              "      --bg-color: #E8F0FE;\n",
              "      --fill-color: #1967D2;\n",
              "      --hover-bg-color: #E2EBFA;\n",
              "      --hover-fill-color: #174EA6;\n",
              "      --disabled-fill-color: #AAA;\n",
              "      --disabled-bg-color: #DDD;\n",
              "  }\n",
              "\n",
              "  [theme=dark] .colab-df-quickchart {\n",
              "      --bg-color: #3B4455;\n",
              "      --fill-color: #D2E3FC;\n",
              "      --hover-bg-color: #434B5C;\n",
              "      --hover-fill-color: #FFFFFF;\n",
              "      --disabled-bg-color: #3B4455;\n",
              "      --disabled-fill-color: #666;\n",
              "  }\n",
              "\n",
              "  .colab-df-quickchart {\n",
              "    background-color: var(--bg-color);\n",
              "    border: none;\n",
              "    border-radius: 50%;\n",
              "    cursor: pointer;\n",
              "    display: none;\n",
              "    fill: var(--fill-color);\n",
              "    height: 32px;\n",
              "    padding: 0;\n",
              "    width: 32px;\n",
              "  }\n",
              "\n",
              "  .colab-df-quickchart:hover {\n",
              "    background-color: var(--hover-bg-color);\n",
              "    box-shadow: 0 1px 2px rgba(60, 64, 67, 0.3), 0 1px 3px 1px rgba(60, 64, 67, 0.15);\n",
              "    fill: var(--button-hover-fill-color);\n",
              "  }\n",
              "\n",
              "  .colab-df-quickchart-complete:disabled,\n",
              "  .colab-df-quickchart-complete:disabled:hover {\n",
              "    background-color: var(--disabled-bg-color);\n",
              "    fill: var(--disabled-fill-color);\n",
              "    box-shadow: none;\n",
              "  }\n",
              "\n",
              "  .colab-df-spinner {\n",
              "    border: 2px solid var(--fill-color);\n",
              "    border-color: transparent;\n",
              "    border-bottom-color: var(--fill-color);\n",
              "    animation:\n",
              "      spin 1s steps(1) infinite;\n",
              "  }\n",
              "\n",
              "  @keyframes spin {\n",
              "    0% {\n",
              "      border-color: transparent;\n",
              "      border-bottom-color: var(--fill-color);\n",
              "      border-left-color: var(--fill-color);\n",
              "    }\n",
              "    20% {\n",
              "      border-color: transparent;\n",
              "      border-left-color: var(--fill-color);\n",
              "      border-top-color: var(--fill-color);\n",
              "    }\n",
              "    30% {\n",
              "      border-color: transparent;\n",
              "      border-left-color: var(--fill-color);\n",
              "      border-top-color: var(--fill-color);\n",
              "      border-right-color: var(--fill-color);\n",
              "    }\n",
              "    40% {\n",
              "      border-color: transparent;\n",
              "      border-right-color: var(--fill-color);\n",
              "      border-top-color: var(--fill-color);\n",
              "    }\n",
              "    60% {\n",
              "      border-color: transparent;\n",
              "      border-right-color: var(--fill-color);\n",
              "    }\n",
              "    80% {\n",
              "      border-color: transparent;\n",
              "      border-right-color: var(--fill-color);\n",
              "      border-bottom-color: var(--fill-color);\n",
              "    }\n",
              "    90% {\n",
              "      border-color: transparent;\n",
              "      border-bottom-color: var(--fill-color);\n",
              "    }\n",
              "  }\n",
              "</style>\n",
              "\n",
              "  <script>\n",
              "    async function quickchart(key) {\n",
              "      const quickchartButtonEl =\n",
              "        document.querySelector('#' + key + ' button');\n",
              "      quickchartButtonEl.disabled = true;  // To prevent multiple clicks.\n",
              "      quickchartButtonEl.classList.add('colab-df-spinner');\n",
              "      try {\n",
              "        const charts = await google.colab.kernel.invokeFunction(\n",
              "            'suggestCharts', [key], {});\n",
              "      } catch (error) {\n",
              "        console.error('Error during call to suggestCharts:', error);\n",
              "      }\n",
              "      quickchartButtonEl.classList.remove('colab-df-spinner');\n",
              "      quickchartButtonEl.classList.add('colab-df-quickchart-complete');\n",
              "    }\n",
              "    (() => {\n",
              "      let quickchartButtonEl =\n",
              "        document.querySelector('#df-1fb3fcfa-402d-4b74-b961-ce23067a8450 button');\n",
              "      quickchartButtonEl.style.display =\n",
              "        google.colab.kernel.accessAllowed ? 'block' : 'none';\n",
              "    })();\n",
              "  </script>\n",
              "</div>\n",
              "\n",
              "    </div>\n",
              "  </div>\n"
            ],
            "application/vnd.google.colaboratory.intrinsic+json": {
              "type": "dataframe",
              "variable_name": "X_train",
              "summary": "{\n  \"name\": \"X_train\",\n  \"rows\": 90615,\n  \"fields\": [\n    {\n      \"column\": 0,\n      \"properties\": {\n        \"dtype\": \"number\",\n        \"std\": 0.45486342836132687,\n        \"min\": 0.0,\n        \"max\": 1.0,\n        \"num_unique_values\": 2,\n        \"samples\": [\n          0.0,\n          1.0\n        ],\n        \"semantic_type\": \"\",\n        \"description\": \"\"\n      }\n    },\n    {\n      \"column\": 1,\n      \"properties\": {\n        \"dtype\": \"number\",\n        \"std\": 0.4814900979844864,\n        \"min\": 0.0,\n        \"max\": 1.0,\n        \"num_unique_values\": 2,\n        \"samples\": [\n          1.0,\n          0.0\n        ],\n        \"semantic_type\": \"\",\n        \"description\": \"\"\n      }\n    },\n    {\n      \"column\": 2,\n      \"properties\": {\n        \"dtype\": \"number\",\n        \"std\": 0.47451680656098094,\n        \"min\": 0.0,\n        \"max\": 1.0,\n        \"num_unique_values\": 2,\n        \"samples\": [\n          1.0,\n          0.0\n        ],\n        \"semantic_type\": \"\",\n        \"description\": \"\"\n      }\n    },\n    {\n      \"column\": 3,\n      \"properties\": {\n        \"dtype\": \"number\",\n        \"std\": 1.0020640166971604,\n        \"min\": -3.74856565577856,\n        \"max\": 2.5240448620809364,\n        \"num_unique_values\": 157,\n        \"samples\": [\n          2.1426023305894812,\n          0.15062466613410047\n        ],\n        \"semantic_type\": \"\",\n        \"description\": \"\"\n      }\n    },\n    {\n      \"column\": 4,\n      \"properties\": {\n        \"dtype\": \"number\",\n        \"std\": 1.002278253652132,\n        \"min\": -3.545803972593737,\n        \"max\": 2.5378230026228037,\n        \"num_unique_values\": 126,\n        \"samples\": [\n          1.719856350492848,\n          1.259750108669749\n        ],\n        \"semantic_type\": \"\",\n        \"description\": \"\"\n      }\n    },\n    {\n      \"column\": 5,\n      \"properties\": {\n        \"dtype\": \"number\",\n        \"std\": 0.998240972866346,\n        \"min\": -3.56088029544807,\n        \"max\": 26.117747476812987,\n        \"num_unique_values\": 90,\n        \"samples\": [\n          1.9546169011668169,\n          -0.4091676116681347\n        ],\n        \"semantic_type\": \"\",\n        \"description\": \"\"\n      }\n    },\n    {\n      \"column\": 6,\n      \"properties\": {\n        \"dtype\": \"number\",\n        \"std\": 1.0000760426053057,\n        \"min\": -1.7206820995280694,\n        \"max\": 4.44906991721852,\n        \"num_unique_values\": 3175,\n        \"samples\": [\n          1.2183355957168973,\n          -1.2967643055670852\n        ],\n        \"semantic_type\": \"\",\n        \"description\": \"\"\n      }\n    },\n    {\n      \"column\": 7,\n      \"properties\": {\n        \"dtype\": \"number\",\n        \"std\": 1.0004126318412854,\n        \"min\": -1.663652218055364,\n        \"max\": 5.61328686063703,\n        \"num_unique_values\": 1799,\n        \"samples\": [\n          -1.1767285877057383,\n          0.8345840964520113\n        ],\n        \"semantic_type\": \"\",\n        \"description\": \"\"\n      }\n    },\n    {\n      \"column\": 8,\n      \"properties\": {\n        \"dtype\": \"number\",\n        \"std\": 1.0007536729191802,\n        \"min\": -1.6752553507580952,\n        \"max\": 5.857008913227742,\n        \"num_unique_values\": 979,\n        \"samples\": [\n          -0.5149197103547473,\n          1.1512032604808293\n        ],\n        \"semantic_type\": \"\",\n        \"description\": \"\"\n      }\n    },\n    {\n      \"column\": 9,\n      \"properties\": {\n        \"dtype\": \"number\",\n        \"std\": 1.0011643882810974,\n        \"min\": -1.726146077083987,\n        \"max\": 5.99000370334407,\n        \"num_unique_values\": 1129,\n        \"samples\": [\n          0.3345695593432372,\n          5.99000370334407\n        ],\n        \"semantic_type\": \"\",\n        \"description\": \"\"\n      }\n    }\n  ]\n}"
            }
          },
          "metadata": {},
          "execution_count": 33
        }
      ]
    },
    {
      "cell_type": "code",
      "source": [
        "cat_one_hot_cols = np.array(['Sex_F', 'Sex_I', 'Sex_M'])\n",
        "\n",
        "train_cols = np.concatenate((cat_one_hot_cols, train_cols[1:]), axis = 0)\n",
        "test_cols = np.concatenate((cat_one_hot_cols, test_cols[1:]), axis = 0)\n",
        "\n",
        "X_train.columns = train_cols\n",
        "X_test.columns = test_cols"
      ],
      "metadata": {
        "execution": {
          "iopub.status.busy": "2024-04-04T11:31:22.224354Z",
          "iopub.execute_input": "2024-04-04T11:31:22.225323Z",
          "iopub.status.idle": "2024-04-04T11:31:22.232386Z",
          "shell.execute_reply.started": "2024-04-04T11:31:22.225284Z",
          "shell.execute_reply": "2024-04-04T11:31:22.230981Z"
        },
        "trusted": true,
        "id": "-UUAlwLmoHLG"
      },
      "execution_count": 34,
      "outputs": []
    },
    {
      "cell_type": "code",
      "source": [
        "X_train.head().style.background_gradient()"
      ],
      "metadata": {
        "execution": {
          "iopub.status.busy": "2024-04-04T11:31:22.718067Z",
          "iopub.execute_input": "2024-04-04T11:31:22.718497Z",
          "iopub.status.idle": "2024-04-04T11:31:22.748749Z",
          "shell.execute_reply.started": "2024-04-04T11:31:22.718463Z",
          "shell.execute_reply": "2024-04-04T11:31:22.747573Z"
        },
        "trusted": true,
        "colab": {
          "base_uri": "https://localhost:8080/",
          "height": 206
        },
        "id": "EkxuXUt-oHLG",
        "outputId": "c9884bb4-fa7c-416f-987e-bef4f1b3ac66"
      },
      "execution_count": 35,
      "outputs": [
        {
          "output_type": "execute_result",
          "data": {
            "text/plain": [
              "<pandas.io.formats.style.Styler at 0x7b764b666dd0>"
            ],
            "text/html": [
              "<style type=\"text/css\">\n",
              "#T_d6344_row0_col0, #T_d6344_row0_col5, #T_d6344_row1_col0, #T_d6344_row1_col3, #T_d6344_row1_col4, #T_d6344_row1_col6, #T_d6344_row1_col7, #T_d6344_row1_col8, #T_d6344_row1_col9, #T_d6344_row2_col1, #T_d6344_row3_col2, #T_d6344_row3_col5, #T_d6344_row4_col1 {\n",
              "  background-color: #023858;\n",
              "  color: #f1f1f1;\n",
              "}\n",
              "#T_d6344_row0_col1, #T_d6344_row0_col2, #T_d6344_row1_col1, #T_d6344_row1_col2, #T_d6344_row2_col0, #T_d6344_row2_col2, #T_d6344_row2_col3, #T_d6344_row2_col4, #T_d6344_row2_col5, #T_d6344_row2_col6, #T_d6344_row2_col7, #T_d6344_row2_col8, #T_d6344_row2_col9, #T_d6344_row3_col0, #T_d6344_row3_col1, #T_d6344_row4_col0, #T_d6344_row4_col2 {\n",
              "  background-color: #fff7fb;\n",
              "  color: #000000;\n",
              "}\n",
              "#T_d6344_row0_col3, #T_d6344_row4_col4 {\n",
              "  background-color: #046299;\n",
              "  color: #f1f1f1;\n",
              "}\n",
              "#T_d6344_row0_col4, #T_d6344_row4_col3, #T_d6344_row4_col5 {\n",
              "  background-color: #046096;\n",
              "  color: #f1f1f1;\n",
              "}\n",
              "#T_d6344_row0_col6 {\n",
              "  background-color: #2182b9;\n",
              "  color: #f1f1f1;\n",
              "}\n",
              "#T_d6344_row0_col7 {\n",
              "  background-color: #1379b5;\n",
              "  color: #f1f1f1;\n",
              "}\n",
              "#T_d6344_row0_col8 {\n",
              "  background-color: #67a4cc;\n",
              "  color: #f1f1f1;\n",
              "}\n",
              "#T_d6344_row0_col9 {\n",
              "  background-color: #0771b1;\n",
              "  color: #f1f1f1;\n",
              "}\n",
              "#T_d6344_row1_col5, #T_d6344_row3_col4 {\n",
              "  background-color: #034369;\n",
              "  color: #f1f1f1;\n",
              "}\n",
              "#T_d6344_row3_col3 {\n",
              "  background-color: #034c78;\n",
              "  color: #f1f1f1;\n",
              "}\n",
              "#T_d6344_row3_col6 {\n",
              "  background-color: #0566a0;\n",
              "  color: #f1f1f1;\n",
              "}\n",
              "#T_d6344_row3_col7 {\n",
              "  background-color: #04649d;\n",
              "  color: #f1f1f1;\n",
              "}\n",
              "#T_d6344_row3_col8 {\n",
              "  background-color: #0872b1;\n",
              "  color: #f1f1f1;\n",
              "}\n",
              "#T_d6344_row3_col9 {\n",
              "  background-color: #056ba7;\n",
              "  color: #f1f1f1;\n",
              "}\n",
              "#T_d6344_row4_col6 {\n",
              "  background-color: #1e80b8;\n",
              "  color: #f1f1f1;\n",
              "}\n",
              "#T_d6344_row4_col7 {\n",
              "  background-color: #0567a1;\n",
              "  color: #f1f1f1;\n",
              "}\n",
              "#T_d6344_row4_col8 {\n",
              "  background-color: #509ac6;\n",
              "  color: #f1f1f1;\n",
              "}\n",
              "#T_d6344_row4_col9 {\n",
              "  background-color: #3d93c2;\n",
              "  color: #f1f1f1;\n",
              "}\n",
              "</style>\n",
              "<table id=\"T_d6344\" class=\"dataframe\">\n",
              "  <thead>\n",
              "    <tr>\n",
              "      <th class=\"blank level0\" >&nbsp;</th>\n",
              "      <th id=\"T_d6344_level0_col0\" class=\"col_heading level0 col0\" >Sex_F</th>\n",
              "      <th id=\"T_d6344_level0_col1\" class=\"col_heading level0 col1\" >Sex_I</th>\n",
              "      <th id=\"T_d6344_level0_col2\" class=\"col_heading level0 col2\" >Sex_M</th>\n",
              "      <th id=\"T_d6344_level0_col3\" class=\"col_heading level0 col3\" >Length</th>\n",
              "      <th id=\"T_d6344_level0_col4\" class=\"col_heading level0 col4\" >Diameter</th>\n",
              "      <th id=\"T_d6344_level0_col5\" class=\"col_heading level0 col5\" >Height</th>\n",
              "      <th id=\"T_d6344_level0_col6\" class=\"col_heading level0 col6\" >Whole weight</th>\n",
              "      <th id=\"T_d6344_level0_col7\" class=\"col_heading level0 col7\" >Whole weight.1</th>\n",
              "      <th id=\"T_d6344_level0_col8\" class=\"col_heading level0 col8\" >Whole weight.2</th>\n",
              "      <th id=\"T_d6344_level0_col9\" class=\"col_heading level0 col9\" >Shell weight</th>\n",
              "    </tr>\n",
              "  </thead>\n",
              "  <tbody>\n",
              "    <tr>\n",
              "      <th id=\"T_d6344_level0_row0\" class=\"row_heading level0 row0\" >0</th>\n",
              "      <td id=\"T_d6344_row0_col0\" class=\"data row0 col0\" >1.000000</td>\n",
              "      <td id=\"T_d6344_row0_col1\" class=\"data row0 col1\" >0.000000</td>\n",
              "      <td id=\"T_d6344_row0_col2\" class=\"data row0 col2\" >0.000000</td>\n",
              "      <td id=\"T_d6344_row0_col3\" class=\"data row0 col3\" >0.277772</td>\n",
              "      <td id=\"T_d6344_row0_col4\" class=\"data row0 col4\" >0.288415</td>\n",
              "      <td id=\"T_d6344_row0_col5\" class=\"data row0 col5\" >0.378761</td>\n",
              "      <td id=\"T_d6344_row0_col6\" class=\"data row0 col6\" >-0.039214</td>\n",
              "      <td id=\"T_d6344_row0_col7\" class=\"data row0 col7\" >-0.060964</td>\n",
              "      <td id=\"T_d6344_row0_col8\" class=\"data row0 col8\" >-0.227315</td>\n",
              "      <td id=\"T_d6344_row0_col9\" class=\"data row0 col9\" >0.107737</td>\n",
              "    </tr>\n",
              "    <tr>\n",
              "      <th id=\"T_d6344_level0_row1\" class=\"row_heading level0 row1\" >1</th>\n",
              "      <td id=\"T_d6344_row1_col0\" class=\"data row1 col0\" >1.000000</td>\n",
              "      <td id=\"T_d6344_row1_col1\" class=\"data row1 col1\" >0.000000</td>\n",
              "      <td id=\"T_d6344_row1_col2\" class=\"data row1 col2\" >0.000000</td>\n",
              "      <td id=\"T_d6344_row1_col3\" class=\"data row1 col3\" >0.955892</td>\n",
              "      <td id=\"T_d6344_row1_col4\" class=\"data row1 col4\" >0.901890</td>\n",
              "      <td id=\"T_d6344_row1_col5\" class=\"data row1 col5\" >0.247439</td>\n",
              "      <td id=\"T_d6344_row1_col6\" class=\"data row1 col6\" >0.744160</td>\n",
              "      <td id=\"T_d6344_row1_col7\" class=\"data row1 col7\" >0.572771</td>\n",
              "      <td id=\"T_d6344_row1_col8\" class=\"data row1 col8\" >1.061947</td>\n",
              "      <td id=\"T_d6344_row1_col9\" class=\"data row1 col9\" >0.722876</td>\n",
              "    </tr>\n",
              "    <tr>\n",
              "      <th id=\"T_d6344_level0_row2\" class=\"row_heading level0 row2\" >2</th>\n",
              "      <td id=\"T_d6344_row2_col0\" class=\"data row2 col0\" >0.000000</td>\n",
              "      <td id=\"T_d6344_row2_col1\" class=\"data row2 col1\" >1.000000</td>\n",
              "      <td id=\"T_d6344_row2_col2\" class=\"data row2 col2\" >0.000000</td>\n",
              "      <td id=\"T_d6344_row2_col3\" class=\"data row2 col3\" >-3.028063</td>\n",
              "      <td id=\"T_d6344_row2_col4\" class=\"data row2 col4\" >-2.983452</td>\n",
              "      <td id=\"T_d6344_row2_col5\" class=\"data row2 col5\" >-2.904273</td>\n",
              "      <td id=\"T_d6344_row2_col6\" class=\"data row2 col6\" >-1.679164</td>\n",
              "      <td id=\"T_d6344_row2_col7\" class=\"data row2 col7\" >-1.641631</td>\n",
              "      <td id=\"T_d6344_row2_col8\" class=\"data row2 col8\" >-1.650462</td>\n",
              "      <td id=\"T_d6344_row2_col9\" class=\"data row2 col9\" >-1.699234</td>\n",
              "    </tr>\n",
              "    <tr>\n",
              "      <th id=\"T_d6344_level0_row3\" class=\"row_heading level0 row3\" >3</th>\n",
              "      <td id=\"T_d6344_row3_col0\" class=\"data row3 col0\" >0.000000</td>\n",
              "      <td id=\"T_d6344_row3_col1\" class=\"data row3 col1\" >0.000000</td>\n",
              "      <td id=\"T_d6344_row3_col2\" class=\"data row3 col2\" >1.000000</td>\n",
              "      <td id=\"T_d6344_row3_col3\" class=\"data row3 col3\" >0.659215</td>\n",
              "      <td id=\"T_d6344_row3_col4\" class=\"data row3 col4\" >0.748521</td>\n",
              "      <td id=\"T_d6344_row3_col5\" class=\"data row3 col5\" >0.378761</td>\n",
              "      <td id=\"T_d6344_row3_col6\" class=\"data row3 col6\" >0.273261</td>\n",
              "      <td id=\"T_d6344_row3_col7\" class=\"data row3 col7\" >0.169040</td>\n",
              "      <td id=\"T_d6344_row3_col8\" class=\"data row3 col8\" >0.357811</td>\n",
              "      <td id=\"T_d6344_row3_col9\" class=\"data row3 col9\" >0.184629</td>\n",
              "    </tr>\n",
              "    <tr>\n",
              "      <th id=\"T_d6344_level0_row4\" class=\"row_heading level0 row4\" >4</th>\n",
              "      <td id=\"T_d6344_row4_col0\" class=\"data row4 col0\" >0.000000</td>\n",
              "      <td id=\"T_d6344_row4_col1\" class=\"data row4 col1\" >1.000000</td>\n",
              "      <td id=\"T_d6344_row4_col2\" class=\"data row4 col2\" >0.000000</td>\n",
              "      <td id=\"T_d6344_row4_col3\" class=\"data row4 col3\" >0.320155</td>\n",
              "      <td id=\"T_d6344_row4_col4\" class=\"data row4 col4\" >0.237292</td>\n",
              "      <td id=\"T_d6344_row4_col5\" class=\"data row4 col5\" >-0.146525</td>\n",
              "      <td id=\"T_d6344_row4_col6\" class=\"data row4 col6\" >-0.016270</td>\n",
              "      <td id=\"T_d6344_row4_col7\" class=\"data row4 col7\" >0.139678</td>\n",
              "      <td id=\"T_d6344_row4_col8\" class=\"data row4 col8\" >-0.093430</td>\n",
              "      <td id=\"T_d6344_row4_col9\" class=\"data row4 col9\" >-0.219056</td>\n",
              "    </tr>\n",
              "  </tbody>\n",
              "</table>\n"
            ]
          },
          "metadata": {},
          "execution_count": 35
        }
      ]
    },
    {
      "cell_type": "code",
      "source": [
        "X_test.head().style.background_gradient()"
      ],
      "metadata": {
        "execution": {
          "iopub.status.busy": "2024-04-04T11:31:23.642307Z",
          "iopub.execute_input": "2024-04-04T11:31:23.642691Z",
          "iopub.status.idle": "2024-04-04T11:31:23.673927Z",
          "shell.execute_reply.started": "2024-04-04T11:31:23.642661Z",
          "shell.execute_reply": "2024-04-04T11:31:23.672718Z"
        },
        "trusted": true,
        "colab": {
          "base_uri": "https://localhost:8080/",
          "height": 206
        },
        "id": "rrv8rZh0oHLG",
        "outputId": "7265b766-ba71-465d-f79b-4ca537b4edf3"
      },
      "execution_count": 36,
      "outputs": [
        {
          "output_type": "execute_result",
          "data": {
            "text/plain": [
              "<pandas.io.formats.style.Styler at 0x7b76583bb970>"
            ],
            "text/html": [
              "<style type=\"text/css\">\n",
              "#T_5756f_row0_col0, #T_5756f_row0_col1, #T_5756f_row1_col0, #T_5756f_row1_col1, #T_5756f_row2_col0, #T_5756f_row2_col1, #T_5756f_row3_col0, #T_5756f_row3_col1, #T_5756f_row4_col0, #T_5756f_row4_col2, #T_5756f_row4_col3, #T_5756f_row4_col4, #T_5756f_row4_col5, #T_5756f_row4_col6, #T_5756f_row4_col7, #T_5756f_row4_col8, #T_5756f_row4_col9 {\n",
              "  background-color: #fff7fb;\n",
              "  color: #000000;\n",
              "}\n",
              "#T_5756f_row0_col2, #T_5756f_row0_col3, #T_5756f_row0_col6, #T_5756f_row0_col7, #T_5756f_row0_col8, #T_5756f_row0_col9, #T_5756f_row1_col2, #T_5756f_row1_col5, #T_5756f_row2_col2, #T_5756f_row3_col2, #T_5756f_row3_col4, #T_5756f_row4_col1 {\n",
              "  background-color: #023858;\n",
              "  color: #f1f1f1;\n",
              "}\n",
              "#T_5756f_row0_col4 {\n",
              "  background-color: #03517e;\n",
              "  color: #f1f1f1;\n",
              "}\n",
              "#T_5756f_row0_col5 {\n",
              "  background-color: #045382;\n",
              "  color: #f1f1f1;\n",
              "}\n",
              "#T_5756f_row1_col3 {\n",
              "  background-color: #1278b4;\n",
              "  color: #f1f1f1;\n",
              "}\n",
              "#T_5756f_row1_col4 {\n",
              "  background-color: #04649d;\n",
              "  color: #f1f1f1;\n",
              "}\n",
              "#T_5756f_row1_col6 {\n",
              "  background-color: #157ab5;\n",
              "  color: #f1f1f1;\n",
              "}\n",
              "#T_5756f_row1_col7 {\n",
              "  background-color: #197db7;\n",
              "  color: #f1f1f1;\n",
              "}\n",
              "#T_5756f_row1_col8 {\n",
              "  background-color: #3790c0;\n",
              "  color: #f1f1f1;\n",
              "}\n",
              "#T_5756f_row1_col9 {\n",
              "  background-color: #045b8e;\n",
              "  color: #f1f1f1;\n",
              "}\n",
              "#T_5756f_row2_col3 {\n",
              "  background-color: #348ebf;\n",
              "  color: #f1f1f1;\n",
              "}\n",
              "#T_5756f_row2_col4 {\n",
              "  background-color: #4e9ac6;\n",
              "  color: #f1f1f1;\n",
              "}\n",
              "#T_5756f_row2_col5 {\n",
              "  background-color: #4295c3;\n",
              "  color: #f1f1f1;\n",
              "}\n",
              "#T_5756f_row2_col6 {\n",
              "  background-color: #5c9fc9;\n",
              "  color: #f1f1f1;\n",
              "}\n",
              "#T_5756f_row2_col7, #T_5756f_row3_col7 {\n",
              "  background-color: #93b5d6;\n",
              "  color: #000000;\n",
              "}\n",
              "#T_5756f_row2_col8 {\n",
              "  background-color: #7dacd1;\n",
              "  color: #f1f1f1;\n",
              "}\n",
              "#T_5756f_row2_col9 {\n",
              "  background-color: #1b7eb7;\n",
              "  color: #f1f1f1;\n",
              "}\n",
              "#T_5756f_row3_col3 {\n",
              "  background-color: #2383ba;\n",
              "  color: #f1f1f1;\n",
              "}\n",
              "#T_5756f_row3_col5 {\n",
              "  background-color: #187cb6;\n",
              "  color: #f1f1f1;\n",
              "}\n",
              "#T_5756f_row3_col6 {\n",
              "  background-color: #4897c4;\n",
              "  color: #f1f1f1;\n",
              "}\n",
              "#T_5756f_row3_col8 {\n",
              "  background-color: #79abd0;\n",
              "  color: #f1f1f1;\n",
              "}\n",
              "#T_5756f_row3_col9 {\n",
              "  background-color: #2685bb;\n",
              "  color: #f1f1f1;\n",
              "}\n",
              "</style>\n",
              "<table id=\"T_5756f\" class=\"dataframe\">\n",
              "  <thead>\n",
              "    <tr>\n",
              "      <th class=\"blank level0\" >&nbsp;</th>\n",
              "      <th id=\"T_5756f_level0_col0\" class=\"col_heading level0 col0\" >Sex_F</th>\n",
              "      <th id=\"T_5756f_level0_col1\" class=\"col_heading level0 col1\" >Sex_I</th>\n",
              "      <th id=\"T_5756f_level0_col2\" class=\"col_heading level0 col2\" >Sex_M</th>\n",
              "      <th id=\"T_5756f_level0_col3\" class=\"col_heading level0 col3\" >Length</th>\n",
              "      <th id=\"T_5756f_level0_col4\" class=\"col_heading level0 col4\" >Diameter</th>\n",
              "      <th id=\"T_5756f_level0_col5\" class=\"col_heading level0 col5\" >Height</th>\n",
              "      <th id=\"T_5756f_level0_col6\" class=\"col_heading level0 col6\" >Whole weight</th>\n",
              "      <th id=\"T_5756f_level0_col7\" class=\"col_heading level0 col7\" >Whole weight.1</th>\n",
              "      <th id=\"T_5756f_level0_col8\" class=\"col_heading level0 col8\" >Whole weight.2</th>\n",
              "      <th id=\"T_5756f_level0_col9\" class=\"col_heading level0 col9\" >Shell weight</th>\n",
              "    </tr>\n",
              "  </thead>\n",
              "  <tbody>\n",
              "    <tr>\n",
              "      <th id=\"T_5756f_level0_row0\" class=\"row_heading level0 row0\" >0</th>\n",
              "      <td id=\"T_5756f_row0_col0\" class=\"data row0 col0\" >0.000000</td>\n",
              "      <td id=\"T_5756f_row0_col1\" class=\"data row0 col1\" >0.000000</td>\n",
              "      <td id=\"T_5756f_row0_col2\" class=\"data row0 col2\" >1.000000</td>\n",
              "      <td id=\"T_5756f_row0_col3\" class=\"data row0 col3\" >1.083040</td>\n",
              "      <td id=\"T_5756f_row0_col4\" class=\"data row0 col4\" >0.748521</td>\n",
              "      <td id=\"T_5756f_row0_col5\" class=\"data row0 col5\" >0.510082</td>\n",
              "      <td id=\"T_5756f_row0_col6\" class=\"data row0 col6\" >0.980155</td>\n",
              "      <td id=\"T_5756f_row0_col7\" class=\"data row0 col7\" >1.358211</td>\n",
              "      <td id=\"T_5756f_row0_col8\" class=\"data row0 col8\" >1.418973</td>\n",
              "      <td id=\"T_5756f_row0_col9\" class=\"data row0 col9\" >0.572936</td>\n",
              "    </tr>\n",
              "    <tr>\n",
              "      <th id=\"T_5756f_level0_row1\" class=\"row_heading level0 row1\" >1</th>\n",
              "      <td id=\"T_5756f_row1_col0\" class=\"data row1 col0\" >0.000000</td>\n",
              "      <td id=\"T_5756f_row1_col1\" class=\"data row1 col1\" >0.000000</td>\n",
              "      <td id=\"T_5756f_row1_col2\" class=\"data row1 col2\" >1.000000</td>\n",
              "      <td id=\"T_5756f_row1_col3\" class=\"data row1 col3\" >0.532067</td>\n",
              "      <td id=\"T_5756f_row1_col4\" class=\"data row1 col4\" >0.595152</td>\n",
              "      <td id=\"T_5756f_row1_col5\" class=\"data row1 col5\" >0.641403</td>\n",
              "      <td id=\"T_5756f_row1_col6\" class=\"data row1 col6\" >0.422943</td>\n",
              "      <td id=\"T_5756f_row1_col7\" class=\"data row1 col7\" >0.673092</td>\n",
              "      <td id=\"T_5756f_row1_col8\" class=\"data row1 col8\" >0.496655</td>\n",
              "      <td id=\"T_5756f_row1_col9\" class=\"data row1 col9\" >0.376860</td>\n",
              "    </tr>\n",
              "    <tr>\n",
              "      <th id=\"T_5756f_level0_row2\" class=\"row_heading level0 row2\" >2</th>\n",
              "      <td id=\"T_5756f_row2_col0\" class=\"data row2 col0\" >0.000000</td>\n",
              "      <td id=\"T_5756f_row2_col1\" class=\"data row2 col1\" >0.000000</td>\n",
              "      <td id=\"T_5756f_row2_col2\" class=\"data row2 col2\" >1.000000</td>\n",
              "      <td id=\"T_5756f_row2_col3\" class=\"data row2 col3\" >0.362537</td>\n",
              "      <td id=\"T_5756f_row2_col4\" class=\"data row2 col4\" >0.186169</td>\n",
              "      <td id=\"T_5756f_row2_col5\" class=\"data row2 col5\" >0.116118</td>\n",
              "      <td id=\"T_5756f_row2_col6\" class=\"data row2 col6\" >0.109375</td>\n",
              "      <td id=\"T_5756f_row2_col7\" class=\"data row2 col7\" >0.056485</td>\n",
              "      <td id=\"T_5756f_row2_col8\" class=\"data row2 col8\" >0.149546</td>\n",
              "      <td id=\"T_5756f_row2_col9\" class=\"data row2 col9\" >0.111582</td>\n",
              "    </tr>\n",
              "    <tr>\n",
              "      <th id=\"T_5756f_level0_row3\" class=\"row_heading level0 row3\" >3</th>\n",
              "      <td id=\"T_5756f_row3_col0\" class=\"data row3 col0\" >0.000000</td>\n",
              "      <td id=\"T_5756f_row3_col1\" class=\"data row3 col1\" >0.000000</td>\n",
              "      <td id=\"T_5756f_row3_col2\" class=\"data row3 col2\" >1.000000</td>\n",
              "      <td id=\"T_5756f_row3_col3\" class=\"data row3 col3\" >0.447302</td>\n",
              "      <td id=\"T_5756f_row3_col4\" class=\"data row3 col4\" >0.901890</td>\n",
              "      <td id=\"T_5756f_row3_col5\" class=\"data row3 col5\" >0.247439</td>\n",
              "      <td id=\"T_5756f_row3_col6\" class=\"data row3 col6\" >0.184763</td>\n",
              "      <td id=\"T_5756f_row3_col7\" class=\"data row3 col7\" >0.056485</td>\n",
              "      <td id=\"T_5756f_row3_col8\" class=\"data row3 col8\" >0.169381</td>\n",
              "      <td id=\"T_5756f_row3_col9\" class=\"data row3 col9\" >0.069291</td>\n",
              "    </tr>\n",
              "    <tr>\n",
              "      <th id=\"T_5756f_level0_row4\" class=\"row_heading level0 row4\" >4</th>\n",
              "      <td id=\"T_5756f_row4_col0\" class=\"data row4 col0\" >0.000000</td>\n",
              "      <td id=\"T_5756f_row4_col1\" class=\"data row4 col1\" >1.000000</td>\n",
              "      <td id=\"T_5756f_row4_col2\" class=\"data row4 col2\" >0.000000</td>\n",
              "      <td id=\"T_5756f_row4_col3\" class=\"data row4 col3\" >-0.866555</td>\n",
              "      <td id=\"T_5756f_row4_col4\" class=\"data row4 col4\" >-0.785167</td>\n",
              "      <td id=\"T_5756f_row4_col5\" class=\"data row4 col5\" >-0.671810</td>\n",
              "      <td id=\"T_5756f_row4_col6\" class=\"data row4 col6\" >-0.942771</td>\n",
              "      <td id=\"T_5756f_row4_col7\" class=\"data row4 col7\" >-0.897787</td>\n",
              "      <td id=\"T_5756f_row4_col8\" class=\"data row4 col8\" >-1.015748</td>\n",
              "      <td id=\"T_5756f_row4_col9\" class=\"data row4 col9\" >-0.930310</td>\n",
              "    </tr>\n",
              "  </tbody>\n",
              "</table>\n"
            ]
          },
          "metadata": {},
          "execution_count": 36
        }
      ]
    },
    {
      "cell_type": "code",
      "source": [
        "import seaborn as sns\n",
        "import matplotlib.pyplot as plt"
      ],
      "metadata": {
        "execution": {
          "iopub.status.busy": "2024-04-04T11:31:24.449823Z",
          "iopub.execute_input": "2024-04-04T11:31:24.450306Z",
          "iopub.status.idle": "2024-04-04T11:31:24.909069Z",
          "shell.execute_reply.started": "2024-04-04T11:31:24.450272Z",
          "shell.execute_reply": "2024-04-04T11:31:24.9078Z"
        },
        "trusted": true,
        "id": "kSKQZaq8oHLH"
      },
      "execution_count": 37,
      "outputs": []
    },
    {
      "cell_type": "code",
      "source": [
        "corr = X_train.corr()\n",
        "\n",
        "plt.figure(figsize = (10, 10), dpi = 100)\n",
        "sns.heatmap(corr, cmap = 'YlGnBu', fmt = '.2f', annot = True)\n",
        "plt.title('Correlation Heatmap')\n",
        "plt.show()"
      ],
      "metadata": {
        "execution": {
          "iopub.status.busy": "2024-04-04T11:31:25.010391Z",
          "iopub.execute_input": "2024-04-04T11:31:25.010799Z",
          "iopub.status.idle": "2024-04-04T11:31:26.038418Z",
          "shell.execute_reply.started": "2024-04-04T11:31:25.010767Z",
          "shell.execute_reply": "2024-04-04T11:31:26.03708Z"
        },
        "trusted": true,
        "colab": {
          "base_uri": "https://localhost:8080/",
          "height": 946
        },
        "id": "4jHjq57JoHLH",
        "outputId": "11aacc89-1c26-4bed-e8f2-6c9e794a3f13"
      },
      "execution_count": 41,
      "outputs": [
        {
          "output_type": "display_data",
          "data": {
            "text/plain": [
              "<Figure size 1000x1000 with 2 Axes>"
            ],
            "image/png": "[encoded data removed]"
          },
          "metadata": {}
        }
      ]
    },
    {
      "cell_type": "markdown",
      "source": [
        "<div style=\"border-radius: 15px;\n",
        "            border: 2px solid blue;\n",
        "            color:white;\n",
        "            font-family: Helvetica;\n",
        "            text-align: center;\n",
        "            padding: 20px;\n",
        "            width: 800px;\n",
        "            text-align: center;\n",
        "            background-color: #ADD8E6;\n",
        "            font-size: 44px;\n",
        "            text-shadow: 2px 2px 4px #000;\">\n",
        "    Model training & predictions\n",
        "</div>"
      ],
      "metadata": {
        "id": "VTzuWQovoHLH"
      }
    },
    {
      "cell_type": "code",
      "source": [
        "from sklearn.model_selection import train_test_split\n",
        "from sklearn.metrics import mean_squared_error\n",
        "import lightgbm as lgb"
      ],
      "metadata": {
        "execution": {
          "iopub.status.busy": "2024-04-04T11:41:20.218078Z",
          "iopub.execute_input": "2024-04-04T11:41:20.218703Z",
          "iopub.status.idle": "2024-04-04T11:41:20.225859Z",
          "shell.execute_reply.started": "2024-04-04T11:41:20.218659Z",
          "shell.execute_reply": "2024-04-04T11:41:20.22417Z"
        },
        "trusted": true,
        "id": "_AhNXDJcoHLH"
      },
      "execution_count": 42,
      "outputs": []
    },
    {
      "cell_type": "code",
      "source": [
        "X_train1, X_test1, Y_train1, Y_test = train_test_split(X_train, Y_train, test_size = 0.2, random_state = 42)"
      ],
      "metadata": {
        "execution": {
          "iopub.status.busy": "2024-04-04T11:31:33.204411Z",
          "iopub.execute_input": "2024-04-04T11:31:33.204752Z",
          "iopub.status.idle": "2024-04-04T11:31:33.224318Z",
          "shell.execute_reply.started": "2024-04-04T11:31:33.204723Z",
          "shell.execute_reply": "2024-04-04T11:31:33.222948Z"
        },
        "trusted": true,
        "id": "ms22OfdZoHLH"
      },
      "execution_count": 43,
      "outputs": []
    },
    {
      "cell_type": "code",
      "source": [
        "params = {\n",
        "    'n_estimators': 150,\n",
        "    'n_jobs': -1,\n",
        "    'lambda_l1': 0.02,\n",
        "    'lambda_l2': 0.06,\n",
        "    'metric': 'rmse',\n",
        "    'verbose': -1,\n",
        "    'random_state': 42\n",
        "}\n",
        "\n",
        "model = lgb.LGBMRegressor(**params)"
      ],
      "metadata": {
        "execution": {
          "iopub.status.busy": "2024-04-04T11:31:33.226056Z",
          "iopub.execute_input": "2024-04-04T11:31:33.227538Z",
          "iopub.status.idle": "2024-04-04T11:31:33.234358Z",
          "shell.execute_reply.started": "2024-04-04T11:31:33.227493Z",
          "shell.execute_reply": "2024-04-04T11:31:33.232969Z"
        },
        "trusted": true,
        "id": "TUudnmsnoHLH"
      },
      "execution_count": 44,
      "outputs": []
    },
    {
      "cell_type": "code",
      "source": [
        "model.fit(X_train1, Y_train1)\n",
        "\n",
        "lgb.plot_importance(model, importance_type=\"gain\", figsize=(12,8), max_num_features=12,\n",
        "                    title=\"LightGBM Feature Importance (Gain)\")\n",
        "\n",
        "plt.show()"
      ],
      "metadata": {
        "execution": {
          "iopub.status.busy": "2024-04-04T11:31:33.237538Z",
          "iopub.execute_input": "2024-04-04T11:31:33.238069Z",
          "iopub.status.idle": "2024-04-04T11:31:34.931421Z",
          "shell.execute_reply.started": "2024-04-04T11:31:33.238029Z",
          "shell.execute_reply": "2024-04-04T11:31:34.930213Z"
        },
        "trusted": true,
        "colab": {
          "base_uri": "https://localhost:8080/",
          "height": 718
        },
        "id": "JTzxJSxxoHLH",
        "outputId": "d257f413-bf23-4f64-fb41-9664793d609b"
      },
      "execution_count": 45,
      "outputs": [
        {
          "output_type": "display_data",
          "data": {
            "text/plain": [
              "<Figure size 1200x800 with 1 Axes>"
            ],
            "image/png": "[encoded data removed]"
          },
          "metadata": {}
        }
      ]
    },
    {
      "cell_type": "code",
      "source": [
        "preds = model.predict(X_test1)\n",
        "\n",
        "print(f'RMSLE Score: {np.sqrt(mean_squared_error(np.log1p(preds), np.log1p(Y_test)))}')"
      ],
      "metadata": {
        "execution": {
          "iopub.status.busy": "2024-04-04T11:44:45.446453Z",
          "iopub.execute_input": "2024-04-04T11:44:45.446955Z",
          "iopub.status.idle": "2024-04-04T11:44:45.597686Z",
          "shell.execute_reply.started": "2024-04-04T11:44:45.446917Z",
          "shell.execute_reply": "2024-04-04T11:44:45.596209Z"
        },
        "trusted": true,
        "colab": {
          "base_uri": "https://localhost:8080/"
        },
        "id": "-gSdiYVRoHLH",
        "outputId": "ba075ce6-09e1-4cd5-f363-3cc033c56d2d"
      },
      "execution_count": 46,
      "outputs": [
        {
          "output_type": "stream",
          "name": "stdout",
          "text": [
            "RMSLE Score: 0.1521643195857883\n"
          ]
        }
      ]
    },
    {
      "cell_type": "code",
      "source": [
        "preds = model.predict(X_test)"
      ],
      "metadata": {
        "execution": {
          "iopub.status.busy": "2024-04-04T11:44:48.989141Z",
          "iopub.execute_input": "2024-04-04T11:44:48.989629Z",
          "iopub.status.idle": "2024-04-04T11:44:49.454948Z",
          "shell.execute_reply.started": "2024-04-04T11:44:48.98959Z",
          "shell.execute_reply": "2024-04-04T11:44:49.453642Z"
        },
        "trusted": true,
        "id": "34vDhU1AoHLI"
      },
      "execution_count": 47,
      "outputs": []
    },
    {
      "cell_type": "code",
      "source": [
        "submission = pd.DataFrame({'id': test_data.id, 'Rings': preds})\n",
        "submission.to_csv('submission.csv', index = False)"
      ],
      "metadata": {
        "execution": {
          "iopub.status.busy": "2024-04-04T11:44:50.849936Z",
          "iopub.execute_input": "2024-04-04T11:44:50.850422Z",
          "iopub.status.idle": "2024-04-04T11:44:51.067813Z",
          "shell.execute_reply.started": "2024-04-04T11:44:50.850386Z",
          "shell.execute_reply": "2024-04-04T11:44:51.066639Z"
        },
        "trusted": true,
        "id": "fTwSTzfjoHLI"
      },
      "execution_count": 48,
      "outputs": []
    },
    {
      "cell_type": "code",
      "source": [],
      "metadata": {
        "id": "B5KpwS4_oHLI"
      },
      "execution_count": null,
      "outputs": []
    }
  ]
}
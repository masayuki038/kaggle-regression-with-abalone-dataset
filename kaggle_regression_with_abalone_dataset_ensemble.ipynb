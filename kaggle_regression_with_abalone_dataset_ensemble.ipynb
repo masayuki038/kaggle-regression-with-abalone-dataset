{
  "metadata": {
    "kernelspec": {
      "language": "python",
      "display_name": "Python 3",
      "name": "python3"
    },
    "language_info": {
      "name": "python",
      "version": "3.10.13",
      "mimetype": "text/x-python",
      "codemirror_mode": {
        "name": "ipython",
        "version": 3
      },
      "pygments_lexer": "ipython3",
      "nbconvert_exporter": "python",
      "file_extension": ".py"
    },
    "kaggle": {
      "accelerator": "none",
      "dataSources": [
        {
          "sourceId": 72489,
          "databundleVersionId": 8096274,
          "sourceType": "competition"
        }
      ],
      "dockerImageVersionId": 30673,
      "isInternetEnabled": true,
      "language": "python",
      "sourceType": "notebook",
      "isGpuEnabled": false
    },
    "colab": {
      "provenance": [],
      "include_colab_link": true
    }
  },
  "nbformat_minor": 0,
  "nbformat": 4,
  "cells": [
    {
      "cell_type": "markdown",
      "metadata": {
        "id": "view-in-github",
        "colab_type": "text"
      },
      "source": [
        "<a href=\"https://colab.research.google.com/github/masayuki038/kaggle-regression-with-abalone-dataset/blob/main/kaggle_regression_with_abalone_dataset_ensemble.ipynb\" target=\"_parent\"><img src=\"https://colab.research.google.com/assets/colab-badge.svg\" alt=\"Open In Colab\"/></a>"
      ]
    },
    {
      "source": [
        "\n",
        "# IMPORTANT: RUN THIS CELL IN ORDER TO IMPORT YOUR KAGGLE DATA SOURCES\n",
        "# TO THE CORRECT LOCATION (/kaggle/input) IN YOUR NOTEBOOK,\n",
        "# THEN FEEL FREE TO DELETE THIS CELL.\n",
        "# NOTE: THIS NOTEBOOK ENVIRONMENT DIFFERS FROM KAGGLE'S PYTHON\n",
        "# ENVIRONMENT SO THERE MAY BE MISSING LIBRARIES USED BY YOUR\n",
        "# NOTEBOOK.\n",
        "\n",
        "import os\n",
        "import sys\n",
        "from tempfile import NamedTemporaryFile\n",
        "from urllib.request import urlopen\n",
        "from urllib.parse import unquote, urlparse\n",
        "from urllib.error import HTTPError\n",
        "from zipfile import ZipFile\n",
        "import tarfile\n",
        "import shutil\n",
        "\n",
        "CHUNK_SIZE = 40960\n",
        "DATA_SOURCE_MAPPING = 'playground-series-s4e4:https%3A%2F%2Fstorage.googleapis.com%2Fkaggle-competitions-data%2Fkaggle-v2%2F72489%2F8096274%2Fbundle%2Farchive.zip%3FX-Goog-Algorithm%3DGOOG4-RSA-SHA256%26X-Goog-Credential%3Dgcp-kaggle-com%2540kaggle-161607.iam.gserviceaccount.com%252F20240408%252Fauto%252Fstorage%252Fgoog4_request%26X-Goog-Date%3D20240408T144847Z%26X-Goog-Expires%3D259200%26X-Goog-SignedHeaders%3Dhost%26X-Goog-Signature%3D2adb62f2a3206dfd642219682d86a97ac49826e9eec2eed6b223a0787f344ad4ba2158397d4d7fc10a7ae604e644f1212bad8f5b7d2db3f0ae5d5ca20161849f0b191f83043bcbfeb00818cb153d157ed749e2b0c43a0cf1358786307d7865c85b937bede2f0ad449605b46ca7eed6663181659802297acf89ec0f5ab121b191e5b4afb0b1eb47c7ee7f49ff2d2033911e28129ea7a852a7f169f98caf4465e7a6bb1d0369a0ae69bdbe52f9398aa98416a8db6ca9671402693a739c9d8bf2185c686df44fa117e4aa823374c21f9181c69be173ff51cf07be090d8b4027788a0432fd13dd75d5411fab83614954f92b046a7d44d10891a1cdd8cab7fb8e4f26'\n",
        "\n",
        "KAGGLE_INPUT_PATH='/kaggle/input'\n",
        "KAGGLE_WORKING_PATH='/kaggle/working'\n",
        "KAGGLE_SYMLINK='kaggle'\n",
        "\n",
        "!umount /kaggle/input/ 2> /dev/null\n",
        "shutil.rmtree('/kaggle/input', ignore_errors=True)\n",
        "os.makedirs(KAGGLE_INPUT_PATH, 0o777, exist_ok=True)\n",
        "os.makedirs(KAGGLE_WORKING_PATH, 0o777, exist_ok=True)\n",
        "\n",
        "try:\n",
        "  os.symlink(KAGGLE_INPUT_PATH, os.path.join(\"..\", 'input'), target_is_directory=True)\n",
        "except FileExistsError:\n",
        "  pass\n",
        "try:\n",
        "  os.symlink(KAGGLE_WORKING_PATH, os.path.join(\"..\", 'working'), target_is_directory=True)\n",
        "except FileExistsError:\n",
        "  pass\n",
        "\n",
        "for data_source_mapping in DATA_SOURCE_MAPPING.split(','):\n",
        "    directory, download_url_encoded = data_source_mapping.split(':')\n",
        "    download_url = unquote(download_url_encoded)\n",
        "    filename = urlparse(download_url).path\n",
        "    destination_path = os.path.join(KAGGLE_INPUT_PATH, directory)\n",
        "    try:\n",
        "        with urlopen(download_url) as fileres, NamedTemporaryFile() as tfile:\n",
        "            total_length = fileres.headers['content-length']\n",
        "            print(f'Downloading {directory}, {total_length} bytes compressed')\n",
        "            dl = 0\n",
        "            data = fileres.read(CHUNK_SIZE)\n",
        "            while len(data) > 0:\n",
        "                dl += len(data)\n",
        "                tfile.write(data)\n",
        "                done = int(50 * dl / int(total_length))\n",
        "                sys.stdout.write(f\"\\r[{'=' * done}{' ' * (50-done)}] {dl} bytes downloaded\")\n",
        "                sys.stdout.flush()\n",
        "                data = fileres.read(CHUNK_SIZE)\n",
        "            if filename.endswith('.zip'):\n",
        "              with ZipFile(tfile) as zfile:\n",
        "                zfile.extractall(destination_path)\n",
        "            else:\n",
        "              with tarfile.open(tfile.name) as tarfile:\n",
        "                tarfile.extractall(destination_path)\n",
        "            print(f'\\nDownloaded and uncompressed: {directory}')\n",
        "    except HTTPError as e:\n",
        "        print(f'Failed to load (likely expired) {download_url} to path {destination_path}')\n",
        "        continue\n",
        "    except OSError as e:\n",
        "        print(f'Failed to load {download_url} to path {destination_path}')\n",
        "        continue\n",
        "\n",
        "print('Data source import complete.')\n"
      ],
      "metadata": {
        "id": "RsONI0I1Lu5c",
        "colab": {
          "base_uri": "https://localhost:8080/"
        },
        "outputId": "79e5cb25-e2a3-45ca-d941-67bae3926001"
      },
      "cell_type": "code",
      "outputs": [
        {
          "output_type": "stream",
          "name": "stdout",
          "text": [
            "Downloading playground-series-s4e4, 2529839 bytes compressed\n",
            "[==================================================] 2529839 bytes downloaded\n",
            "Downloaded and uncompressed: playground-series-s4e4\n",
            "Data source import complete.\n"
          ]
        }
      ],
      "execution_count": 1
    },
    {
      "cell_type": "markdown",
      "source": [
        "# Abalone age estimation: EDA which makes sense\n",
        "\n",
        "This model analyzes the competition data and compares the performance of a few models with tuned hyperparameters. It furthermore shows how to ensemble the models.\n",
        "\n",
        "Reference: [Regression with an Abalone Dataset](https://www.kaggle.com/competitions/playground-series-s4e4)"
      ],
      "metadata": {
        "_uuid": "8f2839f25d086af736a60e9eeb907d3b93b6e0e5",
        "_cell_guid": "b1076dfc-b9ad-4769-8c92-a6c4dae69d19",
        "id": "0z1DXyNCLu5e"
      }
    },
    {
      "cell_type": "code",
      "source": [
        "!pip install --quiet colorama catboost"
      ],
      "metadata": {
        "colab": {
          "base_uri": "https://localhost:8080/"
        },
        "id": "-b_7fLZdMIWG",
        "outputId": "5938e5b5-701e-4301-c065-4f733ea822e5"
      },
      "execution_count": 5,
      "outputs": [
        {
          "output_type": "stream",
          "name": "stdout",
          "text": [
            "\u001b[2K     \u001b[90m━━━━━━━━━━━━━━━━━━━━━━━━━━━━━━━━━━━━━━━━\u001b[0m \u001b[32m98.5/98.5 MB\u001b[0m \u001b[31m3.0 MB/s\u001b[0m eta \u001b[36m0:00:00\u001b[0m\n",
            "\u001b[?25h"
          ]
        }
      ]
    },
    {
      "cell_type": "code",
      "source": [
        "import pandas as pd\n",
        "import numpy as np\n",
        "import matplotlib.pyplot as plt\n",
        "import seaborn as sns\n",
        "from colorama import Fore, Style\n",
        "import xgboost\n",
        "import lightgbm\n",
        "import catboost\n",
        "\n",
        "from sklearn.base import clone\n",
        "from sklearn.model_selection import KFold, StratifiedKFold\n",
        "from sklearn.pipeline import make_pipeline, Pipeline\n",
        "from sklearn.compose import TransformedTargetRegressor, ColumnTransformer\n",
        "from sklearn.preprocessing import StandardScaler, OneHotEncoder, PolynomialFeatures, SplineTransformer\n",
        "from sklearn.kernel_approximation import Nystroem\n",
        "from sklearn.linear_model import Ridge, LinearRegression\n",
        "from sklearn.isotonic import IsotonicRegression\n",
        "from sklearn.ensemble import ExtraTreesRegressor, RandomForestRegressor, HistGradientBoostingRegressor\n",
        "from sklearn.neighbors import KNeighborsRegressor\n",
        "from sklearn.metrics import mean_squared_log_error"
      ],
      "metadata": {
        "_kg_hide-input": true,
        "execution": {
          "iopub.status.busy": "2024-04-07T06:36:03.481635Z",
          "iopub.execute_input": "2024-04-07T06:36:03.482153Z",
          "iopub.status.idle": "2024-04-07T06:36:09.564341Z",
          "shell.execute_reply.started": "2024-04-07T06:36:03.482116Z",
          "shell.execute_reply": "2024-04-07T06:36:09.562966Z"
        },
        "trusted": true,
        "id": "jdogOUpgLu5g"
      },
      "execution_count": 6,
      "outputs": []
    },
    {
      "cell_type": "code",
      "source": [
        "# Configuration\n",
        "COMPUTE_TEST_PRED = True\n",
        "USE_ORIGINAL_DATA = False\n",
        "\n",
        "# Containers for results\n",
        "oof, test_pred = {}, {}"
      ],
      "metadata": {
        "execution": {
          "iopub.status.busy": "2024-04-07T06:36:09.567584Z",
          "iopub.execute_input": "2024-04-07T06:36:09.568611Z",
          "iopub.status.idle": "2024-04-07T06:36:09.576448Z",
          "shell.execute_reply.started": "2024-04-07T06:36:09.568558Z",
          "shell.execute_reply": "2024-04-07T06:36:09.574392Z"
        },
        "trusted": true,
        "id": "AWsrZRQgLu5g"
      },
      "execution_count": 37,
      "outputs": []
    },
    {
      "cell_type": "markdown",
      "source": [
        "# Reading the data\n",
        "\n",
        "We read the data files and observe the following:\n",
        "- The sex of these animals is either male, female or infant. All other features are numeric.\n",
        "- All feature values end in 0 or 5 - this is typical for measurements with finite precision.\n",
        "- The target variable, Rings, is integer.\n",
        "\n",
        "**Insight:**\n",
        "- As the target variable is integer, we can use it to cross-validate with a `StratifiedKFold`. The stratification gives a better cv–lb correlation than a simple `KFold`.\n",
        "- With >90000 samples, the training dataset is too big for kernel-based regressors (e.g., `SVR`, `KernelRidge`, `GaussianProcessRegressor`).\n",
        "- `Sex` is a categorical feature. For some models, we'll need to one-hot encode it, for other models it suffices to mark it as categorical."
      ],
      "metadata": {
        "id": "_lwkC_D_Lu5h"
      }
    },
    {
      "cell_type": "code",
      "source": [
        "train = pd.read_csv('/kaggle/input/playground-series-s4e4/train.csv', index_col='id')\n",
        "test = pd.read_csv('/kaggle/input/playground-series-s4e4/test.csv', index_col='id')\n",
        "\n",
        "train['Sex'] = train.Sex.astype('category')\n",
        "test['Sex'] = test.Sex.astype(train.Sex.dtype)\n",
        "\n",
        "if not train.isna().any().any():\n",
        "    print('There are no missing values in train.')\n",
        "if not test.isna().any().any():\n",
        "    print('There are no missing values in test.')\n",
        "\n",
        "print(f\"Train shape: {train.shape}   test shape: {test.shape}\")\n",
        "\n",
        "train['Height_Shell_weight'] = train['Height'] * train['Shell weight']\n",
        "test['Height_Shell_weight'] = test['Height'] * test['Shell weight']\n",
        "\n",
        "#train['Height_Shell_weight2'] = train['Height'] / train['Shell weight']\n",
        "#test['Height_Shell_weight2'] = test['Height'] / train['Shell weight']\n",
        "\n",
        "numeric_features = ['Length', 'Diameter', 'Height', 'Whole weight', 'Whole weight.1', 'Whole weight.2', 'Shell weight', 'Height_Shell_weight']\n",
        "numeric_vars = numeric_features + ['Rings']\n",
        "\n",
        "train"
      ],
      "metadata": {
        "execution": {
          "iopub.status.busy": "2024-04-07T06:36:09.578439Z",
          "iopub.execute_input": "2024-04-07T06:36:09.578903Z",
          "iopub.status.idle": "2024-04-07T06:36:10.066906Z",
          "shell.execute_reply.started": "2024-04-07T06:36:09.578862Z",
          "shell.execute_reply": "2024-04-07T06:36:10.065285Z"
        },
        "trusted": true,
        "id": "lHzh9ryrLu5i",
        "colab": {
          "base_uri": "https://localhost:8080/",
          "height": 507
        },
        "outputId": "00209b26-0b8b-4489-eeaa-7f6c39ad5931"
      },
      "execution_count": 60,
      "outputs": [
        {
          "output_type": "stream",
          "name": "stdout",
          "text": [
            "There are no missing values in train.\n",
            "There are no missing values in test.\n",
            "Train shape: (90615, 9)   test shape: (60411, 8)\n"
          ]
        },
        {
          "output_type": "execute_result",
          "data": {
            "text/plain": [
              "      Sex  Length  Diameter  Height  Whole weight  Whole weight.1  \\\n",
              "id                                                                  \n",
              "0       F   0.550     0.430   0.150        0.7715          0.3285   \n",
              "1       F   0.630     0.490   0.145        1.1300          0.4580   \n",
              "2       I   0.160     0.110   0.025        0.0210          0.0055   \n",
              "3       M   0.595     0.475   0.150        0.9145          0.3755   \n",
              "4       I   0.555     0.425   0.130        0.7820          0.3695   \n",
              "...    ..     ...       ...     ...           ...             ...   \n",
              "90610   M   0.335     0.235   0.075        0.1585          0.0685   \n",
              "90611   M   0.555     0.425   0.150        0.8790          0.3865   \n",
              "90612   I   0.435     0.330   0.095        0.3215          0.1510   \n",
              "90613   I   0.345     0.270   0.075        0.2000          0.0980   \n",
              "90614   I   0.425     0.325   0.100        0.3455          0.1525   \n",
              "\n",
              "       Whole weight.2  Shell weight  Rings  Height_Shell_weight  \n",
              "id                                                               \n",
              "0              0.1465        0.2400     11             0.036000  \n",
              "1              0.2765        0.3200     11             0.046400  \n",
              "2              0.0030        0.0050      6             0.000125  \n",
              "3              0.2055        0.2500     10             0.037500  \n",
              "4              0.1600        0.1975      9             0.025675  \n",
              "...               ...           ...    ...                  ...  \n",
              "90610          0.0370        0.0450      6             0.003375  \n",
              "90611          0.1815        0.2400      9             0.036000  \n",
              "90612          0.0785        0.0815      6             0.007743  \n",
              "90613          0.0490        0.0700      6             0.005250  \n",
              "90614          0.0785        0.1050      8             0.010500  \n",
              "\n",
              "[90615 rows x 10 columns]"
            ],
            "text/html": [
              "\n",
              "  <div id=\"df-47766b00-73cb-4657-9201-96d78d3cd43a\" class=\"colab-df-container\">\n",
              "    <div>\n",
              "<style scoped>\n",
              "    .dataframe tbody tr th:only-of-type {\n",
              "        vertical-align: middle;\n",
              "    }\n",
              "\n",
              "    .dataframe tbody tr th {\n",
              "        vertical-align: top;\n",
              "    }\n",
              "\n",
              "    .dataframe thead th {\n",
              "        text-align: right;\n",
              "    }\n",
              "</style>\n",
              "<table border=\"1\" class=\"dataframe\">\n",
              "  <thead>\n",
              "    <tr style=\"text-align: right;\">\n",
              "      <th></th>\n",
              "      <th>Sex</th>\n",
              "      <th>Length</th>\n",
              "      <th>Diameter</th>\n",
              "      <th>Height</th>\n",
              "      <th>Whole weight</th>\n",
              "      <th>Whole weight.1</th>\n",
              "      <th>Whole weight.2</th>\n",
              "      <th>Shell weight</th>\n",
              "      <th>Rings</th>\n",
              "      <th>Height_Shell_weight</th>\n",
              "    </tr>\n",
              "    <tr>\n",
              "      <th>id</th>\n",
              "      <th></th>\n",
              "      <th></th>\n",
              "      <th></th>\n",
              "      <th></th>\n",
              "      <th></th>\n",
              "      <th></th>\n",
              "      <th></th>\n",
              "      <th></th>\n",
              "      <th></th>\n",
              "      <th></th>\n",
              "    </tr>\n",
              "  </thead>\n",
              "  <tbody>\n",
              "    <tr>\n",
              "      <th>0</th>\n",
              "      <td>F</td>\n",
              "      <td>0.550</td>\n",
              "      <td>0.430</td>\n",
              "      <td>0.150</td>\n",
              "      <td>0.7715</td>\n",
              "      <td>0.3285</td>\n",
              "      <td>0.1465</td>\n",
              "      <td>0.2400</td>\n",
              "      <td>11</td>\n",
              "      <td>0.036000</td>\n",
              "    </tr>\n",
              "    <tr>\n",
              "      <th>1</th>\n",
              "      <td>F</td>\n",
              "      <td>0.630</td>\n",
              "      <td>0.490</td>\n",
              "      <td>0.145</td>\n",
              "      <td>1.1300</td>\n",
              "      <td>0.4580</td>\n",
              "      <td>0.2765</td>\n",
              "      <td>0.3200</td>\n",
              "      <td>11</td>\n",
              "      <td>0.046400</td>\n",
              "    </tr>\n",
              "    <tr>\n",
              "      <th>2</th>\n",
              "      <td>I</td>\n",
              "      <td>0.160</td>\n",
              "      <td>0.110</td>\n",
              "      <td>0.025</td>\n",
              "      <td>0.0210</td>\n",
              "      <td>0.0055</td>\n",
              "      <td>0.0030</td>\n",
              "      <td>0.0050</td>\n",
              "      <td>6</td>\n",
              "      <td>0.000125</td>\n",
              "    </tr>\n",
              "    <tr>\n",
              "      <th>3</th>\n",
              "      <td>M</td>\n",
              "      <td>0.595</td>\n",
              "      <td>0.475</td>\n",
              "      <td>0.150</td>\n",
              "      <td>0.9145</td>\n",
              "      <td>0.3755</td>\n",
              "      <td>0.2055</td>\n",
              "      <td>0.2500</td>\n",
              "      <td>10</td>\n",
              "      <td>0.037500</td>\n",
              "    </tr>\n",
              "    <tr>\n",
              "      <th>4</th>\n",
              "      <td>I</td>\n",
              "      <td>0.555</td>\n",
              "      <td>0.425</td>\n",
              "      <td>0.130</td>\n",
              "      <td>0.7820</td>\n",
              "      <td>0.3695</td>\n",
              "      <td>0.1600</td>\n",
              "      <td>0.1975</td>\n",
              "      <td>9</td>\n",
              "      <td>0.025675</td>\n",
              "    </tr>\n",
              "    <tr>\n",
              "      <th>...</th>\n",
              "      <td>...</td>\n",
              "      <td>...</td>\n",
              "      <td>...</td>\n",
              "      <td>...</td>\n",
              "      <td>...</td>\n",
              "      <td>...</td>\n",
              "      <td>...</td>\n",
              "      <td>...</td>\n",
              "      <td>...</td>\n",
              "      <td>...</td>\n",
              "    </tr>\n",
              "    <tr>\n",
              "      <th>90610</th>\n",
              "      <td>M</td>\n",
              "      <td>0.335</td>\n",
              "      <td>0.235</td>\n",
              "      <td>0.075</td>\n",
              "      <td>0.1585</td>\n",
              "      <td>0.0685</td>\n",
              "      <td>0.0370</td>\n",
              "      <td>0.0450</td>\n",
              "      <td>6</td>\n",
              "      <td>0.003375</td>\n",
              "    </tr>\n",
              "    <tr>\n",
              "      <th>90611</th>\n",
              "      <td>M</td>\n",
              "      <td>0.555</td>\n",
              "      <td>0.425</td>\n",
              "      <td>0.150</td>\n",
              "      <td>0.8790</td>\n",
              "      <td>0.3865</td>\n",
              "      <td>0.1815</td>\n",
              "      <td>0.2400</td>\n",
              "      <td>9</td>\n",
              "      <td>0.036000</td>\n",
              "    </tr>\n",
              "    <tr>\n",
              "      <th>90612</th>\n",
              "      <td>I</td>\n",
              "      <td>0.435</td>\n",
              "      <td>0.330</td>\n",
              "      <td>0.095</td>\n",
              "      <td>0.3215</td>\n",
              "      <td>0.1510</td>\n",
              "      <td>0.0785</td>\n",
              "      <td>0.0815</td>\n",
              "      <td>6</td>\n",
              "      <td>0.007743</td>\n",
              "    </tr>\n",
              "    <tr>\n",
              "      <th>90613</th>\n",
              "      <td>I</td>\n",
              "      <td>0.345</td>\n",
              "      <td>0.270</td>\n",
              "      <td>0.075</td>\n",
              "      <td>0.2000</td>\n",
              "      <td>0.0980</td>\n",
              "      <td>0.0490</td>\n",
              "      <td>0.0700</td>\n",
              "      <td>6</td>\n",
              "      <td>0.005250</td>\n",
              "    </tr>\n",
              "    <tr>\n",
              "      <th>90614</th>\n",
              "      <td>I</td>\n",
              "      <td>0.425</td>\n",
              "      <td>0.325</td>\n",
              "      <td>0.100</td>\n",
              "      <td>0.3455</td>\n",
              "      <td>0.1525</td>\n",
              "      <td>0.0785</td>\n",
              "      <td>0.1050</td>\n",
              "      <td>8</td>\n",
              "      <td>0.010500</td>\n",
              "    </tr>\n",
              "  </tbody>\n",
              "</table>\n",
              "<p>90615 rows × 10 columns</p>\n",
              "</div>\n",
              "    <div class=\"colab-df-buttons\">\n",
              "\n",
              "  <div class=\"colab-df-container\">\n",
              "    <button class=\"colab-df-convert\" onclick=\"convertToInteractive('df-47766b00-73cb-4657-9201-96d78d3cd43a')\"\n",
              "            title=\"Convert this dataframe to an interactive table.\"\n",
              "            style=\"display:none;\">\n",
              "\n",
              "  <svg xmlns=\"http://www.w3.org/2000/svg\" height=\"24px\" viewBox=\"0 -960 960 960\">\n",
              "    <path d=\"M120-120v-720h720v720H120Zm60-500h600v-160H180v160Zm220 220h160v-160H400v160Zm0 220h160v-160H400v160ZM180-400h160v-160H180v160Zm440 0h160v-160H620v160ZM180-180h160v-160H180v160Zm440 0h160v-160H620v160Z\"/>\n",
              "  </svg>\n",
              "    </button>\n",
              "\n",
              "  <style>\n",
              "    .colab-df-container {\n",
              "      display:flex;\n",
              "      gap: 12px;\n",
              "    }\n",
              "\n",
              "    .colab-df-convert {\n",
              "      background-color: #E8F0FE;\n",
              "      border: none;\n",
              "      border-radius: 50%;\n",
              "      cursor: pointer;\n",
              "      display: none;\n",
              "      fill: #1967D2;\n",
              "      height: 32px;\n",
              "      padding: 0 0 0 0;\n",
              "      width: 32px;\n",
              "    }\n",
              "\n",
              "    .colab-df-convert:hover {\n",
              "      background-color: #E2EBFA;\n",
              "      box-shadow: 0px 1px 2px rgba(60, 64, 67, 0.3), 0px 1px 3px 1px rgba(60, 64, 67, 0.15);\n",
              "      fill: #174EA6;\n",
              "    }\n",
              "\n",
              "    .colab-df-buttons div {\n",
              "      margin-bottom: 4px;\n",
              "    }\n",
              "\n",
              "    [theme=dark] .colab-df-convert {\n",
              "      background-color: #3B4455;\n",
              "      fill: #D2E3FC;\n",
              "    }\n",
              "\n",
              "    [theme=dark] .colab-df-convert:hover {\n",
              "      background-color: #434B5C;\n",
              "      box-shadow: 0px 1px 3px 1px rgba(0, 0, 0, 0.15);\n",
              "      filter: drop-shadow(0px 1px 2px rgba(0, 0, 0, 0.3));\n",
              "      fill: #FFFFFF;\n",
              "    }\n",
              "  </style>\n",
              "\n",
              "    <script>\n",
              "      const buttonEl =\n",
              "        document.querySelector('#df-47766b00-73cb-4657-9201-96d78d3cd43a button.colab-df-convert');\n",
              "      buttonEl.style.display =\n",
              "        google.colab.kernel.accessAllowed ? 'block' : 'none';\n",
              "\n",
              "      async function convertToInteractive(key) {\n",
              "        const element = document.querySelector('#df-47766b00-73cb-4657-9201-96d78d3cd43a');\n",
              "        const dataTable =\n",
              "          await google.colab.kernel.invokeFunction('convertToInteractive',\n",
              "                                                    [key], {});\n",
              "        if (!dataTable) return;\n",
              "\n",
              "        const docLinkHtml = 'Like what you see? Visit the ' +\n",
              "          '<a target=\"_blank\" href=https://colab.research.google.com/notebooks/data_table.ipynb>data table notebook</a>'\n",
              "          + ' to learn more about interactive tables.';\n",
              "        element.innerHTML = '';\n",
              "        dataTable['output_type'] = 'display_data';\n",
              "        await google.colab.output.renderOutput(dataTable, element);\n",
              "        const docLink = document.createElement('div');\n",
              "        docLink.innerHTML = docLinkHtml;\n",
              "        element.appendChild(docLink);\n",
              "      }\n",
              "    </script>\n",
              "  </div>\n",
              "\n",
              "\n",
              "<div id=\"df-fb29041c-19c1-4cb9-9f1b-a15c9be1ef49\">\n",
              "  <button class=\"colab-df-quickchart\" onclick=\"quickchart('df-fb29041c-19c1-4cb9-9f1b-a15c9be1ef49')\"\n",
              "            title=\"Suggest charts\"\n",
              "            style=\"display:none;\">\n",
              "\n",
              "<svg xmlns=\"http://www.w3.org/2000/svg\" height=\"24px\"viewBox=\"0 0 24 24\"\n",
              "     width=\"24px\">\n",
              "    <g>\n",
              "        <path d=\"M19 3H5c-1.1 0-2 .9-2 2v14c0 1.1.9 2 2 2h14c1.1 0 2-.9 2-2V5c0-1.1-.9-2-2-2zM9 17H7v-7h2v7zm4 0h-2V7h2v10zm4 0h-2v-4h2v4z\"/>\n",
              "    </g>\n",
              "</svg>\n",
              "  </button>\n",
              "\n",
              "<style>\n",
              "  .colab-df-quickchart {\n",
              "      --bg-color: #E8F0FE;\n",
              "      --fill-color: #1967D2;\n",
              "      --hover-bg-color: #E2EBFA;\n",
              "      --hover-fill-color: #174EA6;\n",
              "      --disabled-fill-color: #AAA;\n",
              "      --disabled-bg-color: #DDD;\n",
              "  }\n",
              "\n",
              "  [theme=dark] .colab-df-quickchart {\n",
              "      --bg-color: #3B4455;\n",
              "      --fill-color: #D2E3FC;\n",
              "      --hover-bg-color: #434B5C;\n",
              "      --hover-fill-color: #FFFFFF;\n",
              "      --disabled-bg-color: #3B4455;\n",
              "      --disabled-fill-color: #666;\n",
              "  }\n",
              "\n",
              "  .colab-df-quickchart {\n",
              "    background-color: var(--bg-color);\n",
              "    border: none;\n",
              "    border-radius: 50%;\n",
              "    cursor: pointer;\n",
              "    display: none;\n",
              "    fill: var(--fill-color);\n",
              "    height: 32px;\n",
              "    padding: 0;\n",
              "    width: 32px;\n",
              "  }\n",
              "\n",
              "  .colab-df-quickchart:hover {\n",
              "    background-color: var(--hover-bg-color);\n",
              "    box-shadow: 0 1px 2px rgba(60, 64, 67, 0.3), 0 1px 3px 1px rgba(60, 64, 67, 0.15);\n",
              "    fill: var(--button-hover-fill-color);\n",
              "  }\n",
              "\n",
              "  .colab-df-quickchart-complete:disabled,\n",
              "  .colab-df-quickchart-complete:disabled:hover {\n",
              "    background-color: var(--disabled-bg-color);\n",
              "    fill: var(--disabled-fill-color);\n",
              "    box-shadow: none;\n",
              "  }\n",
              "\n",
              "  .colab-df-spinner {\n",
              "    border: 2px solid var(--fill-color);\n",
              "    border-color: transparent;\n",
              "    border-bottom-color: var(--fill-color);\n",
              "    animation:\n",
              "      spin 1s steps(1) infinite;\n",
              "  }\n",
              "\n",
              "  @keyframes spin {\n",
              "    0% {\n",
              "      border-color: transparent;\n",
              "      border-bottom-color: var(--fill-color);\n",
              "      border-left-color: var(--fill-color);\n",
              "    }\n",
              "    20% {\n",
              "      border-color: transparent;\n",
              "      border-left-color: var(--fill-color);\n",
              "      border-top-color: var(--fill-color);\n",
              "    }\n",
              "    30% {\n",
              "      border-color: transparent;\n",
              "      border-left-color: var(--fill-color);\n",
              "      border-top-color: var(--fill-color);\n",
              "      border-right-color: var(--fill-color);\n",
              "    }\n",
              "    40% {\n",
              "      border-color: transparent;\n",
              "      border-right-color: var(--fill-color);\n",
              "      border-top-color: var(--fill-color);\n",
              "    }\n",
              "    60% {\n",
              "      border-color: transparent;\n",
              "      border-right-color: var(--fill-color);\n",
              "    }\n",
              "    80% {\n",
              "      border-color: transparent;\n",
              "      border-right-color: var(--fill-color);\n",
              "      border-bottom-color: var(--fill-color);\n",
              "    }\n",
              "    90% {\n",
              "      border-color: transparent;\n",
              "      border-bottom-color: var(--fill-color);\n",
              "    }\n",
              "  }\n",
              "</style>\n",
              "\n",
              "  <script>\n",
              "    async function quickchart(key) {\n",
              "      const quickchartButtonEl =\n",
              "        document.querySelector('#' + key + ' button');\n",
              "      quickchartButtonEl.disabled = true;  // To prevent multiple clicks.\n",
              "      quickchartButtonEl.classList.add('colab-df-spinner');\n",
              "      try {\n",
              "        const charts = await google.colab.kernel.invokeFunction(\n",
              "            'suggestCharts', [key], {});\n",
              "      } catch (error) {\n",
              "        console.error('Error during call to suggestCharts:', error);\n",
              "      }\n",
              "      quickchartButtonEl.classList.remove('colab-df-spinner');\n",
              "      quickchartButtonEl.classList.add('colab-df-quickchart-complete');\n",
              "    }\n",
              "    (() => {\n",
              "      let quickchartButtonEl =\n",
              "        document.querySelector('#df-fb29041c-19c1-4cb9-9f1b-a15c9be1ef49 button');\n",
              "      quickchartButtonEl.style.display =\n",
              "        google.colab.kernel.accessAllowed ? 'block' : 'none';\n",
              "    })();\n",
              "  </script>\n",
              "</div>\n",
              "\n",
              "  <div id=\"id_5d00a720-974f-4ac2-bdc3-d23eb7909079\">\n",
              "    <style>\n",
              "      .colab-df-generate {\n",
              "        background-color: #E8F0FE;\n",
              "        border: none;\n",
              "        border-radius: 50%;\n",
              "        cursor: pointer;\n",
              "        display: none;\n",
              "        fill: #1967D2;\n",
              "        height: 32px;\n",
              "        padding: 0 0 0 0;\n",
              "        width: 32px;\n",
              "      }\n",
              "\n",
              "      .colab-df-generate:hover {\n",
              "        background-color: #E2EBFA;\n",
              "        box-shadow: 0px 1px 2px rgba(60, 64, 67, 0.3), 0px 1px 3px 1px rgba(60, 64, 67, 0.15);\n",
              "        fill: #174EA6;\n",
              "      }\n",
              "\n",
              "      [theme=dark] .colab-df-generate {\n",
              "        background-color: #3B4455;\n",
              "        fill: #D2E3FC;\n",
              "      }\n",
              "\n",
              "      [theme=dark] .colab-df-generate:hover {\n",
              "        background-color: #434B5C;\n",
              "        box-shadow: 0px 1px 3px 1px rgba(0, 0, 0, 0.15);\n",
              "        filter: drop-shadow(0px 1px 2px rgba(0, 0, 0, 0.3));\n",
              "        fill: #FFFFFF;\n",
              "      }\n",
              "    </style>\n",
              "    <button class=\"colab-df-generate\" onclick=\"generateWithVariable('train')\"\n",
              "            title=\"Generate code using this dataframe.\"\n",
              "            style=\"display:none;\">\n",
              "\n",
              "  <svg xmlns=\"http://www.w3.org/2000/svg\" height=\"24px\"viewBox=\"0 0 24 24\"\n",
              "       width=\"24px\">\n",
              "    <path d=\"M7,19H8.4L18.45,9,17,7.55,7,17.6ZM5,21V16.75L18.45,3.32a2,2,0,0,1,2.83,0l1.4,1.43a1.91,1.91,0,0,1,.58,1.4,1.91,1.91,0,0,1-.58,1.4L9.25,21ZM18.45,9,17,7.55Zm-12,3A5.31,5.31,0,0,0,4.9,8.1,5.31,5.31,0,0,0,1,6.5,5.31,5.31,0,0,0,4.9,4.9,5.31,5.31,0,0,0,6.5,1,5.31,5.31,0,0,0,8.1,4.9,5.31,5.31,0,0,0,12,6.5,5.46,5.46,0,0,0,6.5,12Z\"/>\n",
              "  </svg>\n",
              "    </button>\n",
              "    <script>\n",
              "      (() => {\n",
              "      const buttonEl =\n",
              "        document.querySelector('#id_5d00a720-974f-4ac2-bdc3-d23eb7909079 button.colab-df-generate');\n",
              "      buttonEl.style.display =\n",
              "        google.colab.kernel.accessAllowed ? 'block' : 'none';\n",
              "\n",
              "      buttonEl.onclick = () => {\n",
              "        google.colab.notebook.generateWithVariable('train');\n",
              "      }\n",
              "      })();\n",
              "    </script>\n",
              "  </div>\n",
              "\n",
              "    </div>\n",
              "  </div>\n"
            ],
            "application/vnd.google.colaboratory.intrinsic+json": {
              "type": "dataframe",
              "variable_name": "train",
              "summary": "{\n  \"name\": \"train\",\n  \"rows\": 90615,\n  \"fields\": [\n    {\n      \"column\": \"id\",\n      \"properties\": {\n        \"dtype\": \"number\",\n        \"std\": 26158,\n        \"min\": 0,\n        \"max\": 90614,\n        \"num_unique_values\": 90615,\n        \"samples\": [\n          3502,\n          76031,\n          49473\n        ],\n        \"semantic_type\": \"\",\n        \"description\": \"\"\n      }\n    },\n    {\n      \"column\": \"Sex\",\n      \"properties\": {\n        \"dtype\": \"category\",\n        \"num_unique_values\": 3,\n        \"samples\": [\n          \"F\",\n          \"I\",\n          \"M\"\n        ],\n        \"semantic_type\": \"\",\n        \"description\": \"\"\n      }\n    },\n    {\n      \"column\": \"Length\",\n      \"properties\": {\n        \"dtype\": \"number\",\n        \"std\": 0.11821670901526686,\n        \"min\": 0.075,\n        \"max\": 0.815,\n        \"num_unique_values\": 157,\n        \"samples\": [\n          0.77,\n          0.535,\n          0.09\n        ],\n        \"semantic_type\": \"\",\n        \"description\": \"\"\n      }\n    },\n    {\n      \"column\": \"Diameter\",\n      \"properties\": {\n        \"dtype\": \"number\",\n        \"std\": 0.09802631939013517,\n        \"min\": 0.055,\n        \"max\": 0.65,\n        \"num_unique_values\": 126,\n        \"samples\": [\n          0.57,\n          0.525,\n          0.308\n        ],\n        \"semantic_type\": \"\",\n        \"description\": \"\"\n      }\n    },\n    {\n      \"column\": \"Height\",\n      \"properties\": {\n        \"dtype\": \"number\",\n        \"std\": 0.03800756247879023,\n        \"min\": 0.0,\n        \"max\": 1.13,\n        \"num_unique_values\": 90,\n        \"samples\": [\n          0.21,\n          0.12,\n          1.13\n        ],\n        \"semantic_type\": \"\",\n        \"description\": \"\"\n      }\n    },\n    {\n      \"column\": \"Whole weight\",\n      \"properties\": {\n        \"dtype\": \"number\",\n        \"std\": 0.4576706970769096,\n        \"min\": 0.002,\n        \"max\": 2.8255,\n        \"num_unique_values\": 3175,\n        \"samples\": [\n          1.347,\n          0.196,\n          1.8045\n        ],\n        \"semantic_type\": \"\",\n        \"description\": \"\"\n      }\n    },\n    {\n      \"column\": \"Whole weight.1\",\n      \"properties\": {\n        \"dtype\": \"number\",\n        \"std\": 0.20442847843867115,\n        \"min\": 0.001,\n        \"max\": 1.488,\n        \"num_unique_values\": 1799,\n        \"samples\": [\n          0.1005,\n          0.5115,\n          1.012\n        ],\n        \"semantic_type\": \"\",\n        \"description\": \"\"\n      }\n    },\n    {\n      \"column\": \"Whole weight.2\",\n      \"properties\": {\n        \"dtype\": \"number\",\n        \"std\": 0.10090888847544377,\n        \"min\": 0.0005,\n        \"max\": 0.76,\n        \"num_unique_values\": 979,\n        \"samples\": [\n          0.1175,\n          0.2855,\n          0.171\n        ],\n        \"semantic_type\": \"\",\n        \"description\": \"\"\n      }\n    },\n    {\n      \"column\": \"Shell weight\",\n      \"properties\": {\n        \"dtype\": \"number\",\n        \"std\": 0.13020333874135173,\n        \"min\": 0.0015,\n        \"max\": 1.005,\n        \"num_unique_values\": 1129,\n        \"samples\": [\n          0.2695,\n          1.005,\n          0.4255\n        ],\n        \"semantic_type\": \"\",\n        \"description\": \"\"\n      }\n    },\n    {\n      \"column\": \"Rings\",\n      \"properties\": {\n        \"dtype\": \"number\",\n        \"std\": 3,\n        \"min\": 1,\n        \"max\": 29,\n        \"num_unique_values\": 28,\n        \"samples\": [\n          20,\n          27,\n          12\n        ],\n        \"semantic_type\": \"\",\n        \"description\": \"\"\n      }\n    },\n    {\n      \"column\": \"Height_Shell_weight\",\n      \"properties\": {\n        \"dtype\": \"number\",\n        \"std\": 0.02659114425615078,\n        \"min\": 0.0,\n        \"max\": 0.3164,\n        \"num_unique_values\": 7875,\n        \"samples\": [\n          0.076055,\n          0.061875,\n          0.11428999999999999\n        ],\n        \"semantic_type\": \"\",\n        \"description\": \"\"\n      }\n    }\n  ]\n}"
            }
          },
          "metadata": {},
          "execution_count": 60
        }
      ]
    },
    {
      "cell_type": "markdown",
      "source": [
        "We can add the original dataset to the synthetic data for training. Although with only 4177 samples it is twenty times smaller than the competition dataset, its addition improves the scores of all models.\n",
        "\n",
        "Thanks to @iqbalsyahakbar [for the code](https://www.kaggle.com/competitions/playground-series-s4e4/discussion/488082)."
      ],
      "metadata": {
        "id": "P3aquMG7Lu5i"
      }
    },
    {
      "cell_type": "code",
      "source": [
        "if USE_ORIGINAL_DATA:\n",
        "    !pip install ucimlrepo\n",
        "\n",
        "    from ucimlrepo import fetch_ucirepo\n",
        "\n",
        "    # fetch dataset\n",
        "    abalone = fetch_ucirepo(id=1)\n",
        "\n",
        "    # data (as pandas dataframes)\n",
        "    original_dataset = pd.concat([abalone.data.features, abalone.data.targets], axis = 1).rename({\n",
        "        'Whole_weight' : 'Whole weight',\n",
        "        'Shucked_weight' : 'Whole weight.1',\n",
        "        'Viscera_weight' : 'Whole weight.2',\n",
        "        'Shell_weight' : 'Shell weight'\n",
        "    }, axis = 1)\n",
        "    original_dataset['Sex'] = original_dataset.Sex.astype(train.Sex.dtype)\n",
        "    print(\"Original dataset shape:\", original_dataset.shape)"
      ],
      "metadata": {
        "execution": {
          "iopub.status.busy": "2024-04-07T06:36:10.069803Z",
          "iopub.execute_input": "2024-04-07T06:36:10.070264Z",
          "iopub.status.idle": "2024-04-07T06:36:28.382571Z",
          "shell.execute_reply.started": "2024-04-07T06:36:10.070227Z",
          "shell.execute_reply": "2024-04-07T06:36:28.381021Z"
        },
        "trusted": true,
        "id": "yS3ZJ2BqLu5j"
      },
      "execution_count": 61,
      "outputs": []
    },
    {
      "cell_type": "markdown",
      "source": [
        "# Correlation\n",
        "\n",
        "All features are highly correlated to the target variable. This is very plausible: The older an individual abalone gets, the higher its weight, length, and so on.\n",
        "\n",
        "**Insight:**\n",
        "- There is no need to downselect features. All features are useful for predicting the target.\n",
        "- We don't need to look at feature importances. All features are important."
      ],
      "metadata": {
        "id": "hdQSHj5WLu5j"
      }
    },
    {
      "cell_type": "code",
      "source": [
        "cc = np.corrcoef(train[numeric_vars], rowvar=False)\n",
        "sns.heatmap(cc, center=0, cmap='coolwarm', annot=True,\n",
        "            xticklabels=numeric_vars, yticklabels=numeric_vars)\n",
        "plt.show()"
      ],
      "metadata": {
        "execution": {
          "iopub.status.busy": "2024-04-07T06:36:28.384399Z",
          "iopub.execute_input": "2024-04-07T06:36:28.384859Z",
          "iopub.status.idle": "2024-04-07T06:36:29.007943Z",
          "shell.execute_reply.started": "2024-04-07T06:36:28.384817Z",
          "shell.execute_reply": "2024-04-07T06:36:29.006654Z"
        },
        "trusted": true,
        "id": "IZ21RtEpLu5k",
        "colab": {
          "base_uri": "https://localhost:8080/",
          "height": 562
        },
        "outputId": "751218c7-05a6-4893-e321-c133efe44b5c"
      },
      "execution_count": 62,
      "outputs": [
        {
          "output_type": "display_data",
          "data": {
            "text/plain": [
              "<Figure size 640x480 with 2 Axes>"
            ],
            "image/png": "[encoded data removed]"
          },
          "metadata": {}
        }
      ]
    },
    {
      "cell_type": "markdown",
      "source": [
        "# Target distribution"
      ],
      "metadata": {
        "id": "Sg6fa0phLu5k"
      }
    },
    {
      "cell_type": "code",
      "source": [
        "vc = train.Rings.value_counts()\n",
        "plt.figure(figsize=(6, 2))\n",
        "plt.bar(vc.index, vc)\n",
        "plt.show()"
      ],
      "metadata": {
        "execution": {
          "iopub.status.busy": "2024-04-07T06:36:29.009934Z",
          "iopub.execute_input": "2024-04-07T06:36:29.010746Z",
          "iopub.status.idle": "2024-04-07T06:36:29.29458Z",
          "shell.execute_reply.started": "2024-04-07T06:36:29.010701Z",
          "shell.execute_reply": "2024-04-07T06:36:29.292865Z"
        },
        "trusted": true,
        "id": "nJ1GXDfTLu5k",
        "colab": {
          "base_uri": "https://localhost:8080/",
          "height": 214
        },
        "outputId": "e29f530c-56c1-4841-ff97-ed1fba33286e"
      },
      "execution_count": 63,
      "outputs": [
        {
          "output_type": "display_data",
          "data": {
            "text/plain": [
              "<Figure size 600x200 with 1 Axes>"
            ],
            "image/png": "[encoded data removed]"
          },
          "metadata": {}
        }
      ]
    },
    {
      "cell_type": "markdown",
      "source": [
        "**Insight:**\n",
        "- Because all training targets are between 1 and 29, we may clip all predictions to the interval \\[1, 29\\]."
      ],
      "metadata": {
        "id": "Vgu79otmLu5l"
      }
    },
    {
      "cell_type": "markdown",
      "source": [
        "# Feature engineering\n",
        "\n",
        "Because the competition metric is RMSLE, all our models will predict the logarithm of the target. In this situation, some models will perform better if we feed them the logarithm of the features."
      ],
      "metadata": {
        "id": "dRBFSjInLu5m"
      }
    },
    {
      "cell_type": "code",
      "source": [
        "log_features = []\n",
        "for col in numeric_features:\n",
        "    train[f'log_{col}'] = np.log1p(train[col])\n",
        "    test[f'log_{col}'] = np.log1p(test[col])\n",
        "    if USE_ORIGINAL_DATA:\n",
        "        original_dataset[f'log_{col}'] = np.log1p(original_dataset[col])\n",
        "    log_features.append(f'log_{col}')\n"
      ],
      "metadata": {
        "execution": {
          "iopub.status.busy": "2024-04-07T06:36:29.296188Z",
          "iopub.execute_input": "2024-04-07T06:36:29.296623Z",
          "iopub.status.idle": "2024-04-07T06:36:29.341326Z",
          "shell.execute_reply.started": "2024-04-07T06:36:29.29659Z",
          "shell.execute_reply": "2024-04-07T06:36:29.339933Z"
        },
        "trusted": true,
        "id": "5_qy3YVALu5m"
      },
      "execution_count": 64,
      "outputs": []
    },
    {
      "cell_type": "markdown",
      "source": [
        "# Cross-validation\n",
        "\n",
        "To ensure that our cross-validation results are consistent, we'll use the same function for cross-validating all models.\n",
        "\n",
        "Notice that in cross-validation, we first split the dataset and then add the original data only to the training dataset. The validation dataset consists purely of competition data. This setup lets us correctly assess whether the original data are useful or harmful."
      ],
      "metadata": {
        "id": "-1DUay49Lu5m"
      }
    },
    {
      "cell_type": "code",
      "source": [
        "kf = StratifiedKFold(n_splits=5, shuffle=True, random_state=1)\n",
        "\n",
        "def cross_validate(model, label, features=test.columns, n_repeats=1):\n",
        "    \"\"\"Compute out-of-fold and test predictions for a given model.\n",
        "\n",
        "    Out-of-fold and test predictions are stored in the global variables\n",
        "    oof and test_pred, respectively.\n",
        "\n",
        "    If n_repeats > 1, the model is trained several times with different seeds.\n",
        "\n",
        "    All predictions are clipped to the interval [1, 29].\n",
        "    \"\"\"\n",
        "    scores = []\n",
        "    oof_preds = np.full_like(train.Rings, np.nan, dtype=float)\n",
        "    for fold, (idx_tr, idx_va) in enumerate(kf.split(train, train.Rings)):\n",
        "        X_tr = train.iloc[idx_tr][features]\n",
        "        X_va = train.iloc[idx_va][features]\n",
        "        y_tr = train.iloc[idx_tr].Rings\n",
        "        y_va = train.iloc[idx_va].Rings\n",
        "\n",
        "        if USE_ORIGINAL_DATA:\n",
        "            X_tr = pd.concat([X_tr, original_dataset[features]], axis=0)\n",
        "            y_tr = pd.concat([y_tr, original_dataset.Rings], axis=0)\n",
        "\n",
        "        y_pred = np.zeros_like(y_va, dtype=float)\n",
        "        for i in range(n_repeats):\n",
        "            m = clone(model)\n",
        "            if n_repeats > 1:\n",
        "                mm = m\n",
        "                if isinstance(mm, Pipeline):\n",
        "                    mm = mm[-1]\n",
        "                if isinstance(mm, TransformedTargetRegressor):\n",
        "                    mm = mm.regressor\n",
        "                mm.set_params(random_state=i)\n",
        "            m.fit(X_tr, y_tr)\n",
        "            y_pred += m.predict(X_va)\n",
        "        y_pred /= n_repeats\n",
        "        y_pred = y_pred.clip(1, 29)\n",
        "\n",
        "#         residuals = np.log1p(y_va) - np.log1p(y_pred)\n",
        "#         plt.figure(figsize=(6, 2))\n",
        "#         plt.scatter(y_pred, residuals, s=1)\n",
        "#         plt.axhline(0, color='k')\n",
        "#         plt.show()\n",
        "\n",
        "        score = mean_squared_log_error(y_va, y_pred, squared=False)\n",
        "        print(f\"# Fold {fold}: RMSLE={score:.5f}\")\n",
        "        scores.append(score)\n",
        "        oof_preds[idx_va] = y_pred\n",
        "    print(f\"{Fore.GREEN}# Overall: {np.array(scores).mean():.5f} {label}{Style.RESET_ALL}\")\n",
        "    oof[label] = oof_preds\n",
        "\n",
        "    if COMPUTE_TEST_PRED:\n",
        "        # Retrain n_repeats times with the whole dataset and average\n",
        "        y_pred = np.zeros(len(test), dtype=float)\n",
        "        X_tr = train[features]\n",
        "        y_tr = train.Rings\n",
        "        if USE_ORIGINAL_DATA:\n",
        "            X_tr = pd.concat([X_tr, original_dataset[features]], axis=0)\n",
        "            y_tr = pd.concat([y_tr, original_dataset.Rings], axis=0)\n",
        "        for i in range(n_repeats):\n",
        "            m = clone(model)\n",
        "            if n_repeats > 1:\n",
        "                mm = m\n",
        "                if isinstance(mm, Pipeline):\n",
        "                    mm = mm[-1]\n",
        "                if isinstance(mm, TransformedTargetRegressor):\n",
        "                    mm = mm.regressor\n",
        "                mm.set_params(random_state=i)\n",
        "            m.fit(X_tr, y_tr)\n",
        "            y_pred += m.predict(test[features])\n",
        "        y_pred /= n_repeats\n",
        "        y_pred = y_pred.clip(1, 29)\n",
        "        test_pred[label] = y_pred\n"
      ],
      "metadata": {
        "execution": {
          "iopub.status.busy": "2024-04-07T06:36:29.342882Z",
          "iopub.execute_input": "2024-04-07T06:36:29.343254Z",
          "iopub.status.idle": "2024-04-07T06:36:29.366653Z",
          "shell.execute_reply.started": "2024-04-07T06:36:29.343223Z",
          "shell.execute_reply": "2024-04-07T06:36:29.364759Z"
        },
        "trusted": true,
        "id": "i8K9c12jLu5m"
      },
      "execution_count": 65,
      "outputs": []
    },
    {
      "cell_type": "markdown",
      "source": [
        "# Models\n",
        "\n",
        "We compare several models. As the competition requires us to optimize the mean squared log error, we use a `TransformedTargetRegressor`. If a raw model optimizes the mean squared error (MSE), its `TransformedTargetRegressor` will optimize the mean squared log error.\n",
        "\n",
        "We start with two linear models (ridge regression). For these models, we need to one-hot encode the categorical feature and to scale all features. The linear models improve if we add some nonlinear features with either `PolynomialFeatures` or `Nystroem`."
      ],
      "metadata": {
        "id": "nIbNUrjkLu5n"
      }
    },
    {
      "cell_type": "code",
      "source": [
        "# PolynomialFeatures + Ridge\n",
        "model = make_pipeline(ColumnTransformer([('ohe', OneHotEncoder(drop='first'), ['Sex'])],\n",
        "                                        remainder='passthrough'),\n",
        "                      StandardScaler(),\n",
        "                      PolynomialFeatures(degree=3),\n",
        "                      TransformedTargetRegressor(Ridge(100),\n",
        "                                                 func=np.log1p,\n",
        "                                                 inverse_func=np.expm1))\n",
        "cross_validate(model, 'Poly-Ridge', numeric_features + log_features + ['Sex'])\n",
        "# Overall: 0.15293 Poly-Ridge"
      ],
      "metadata": {
        "execution": {
          "iopub.status.busy": "2024-04-07T06:36:29.369163Z",
          "iopub.execute_input": "2024-04-07T06:36:29.369659Z",
          "iopub.status.idle": "2024-04-07T06:36:55.911333Z",
          "shell.execute_reply.started": "2024-04-07T06:36:29.369618Z",
          "shell.execute_reply": "2024-04-07T06:36:55.909646Z"
        },
        "trusted": true,
        "id": "gtSVAp79Lu5n",
        "colab": {
          "base_uri": "https://localhost:8080/"
        },
        "outputId": "3bf79af9-ba65-47ab-fea7-e37f16d52ce6"
      },
      "execution_count": 66,
      "outputs": [
        {
          "output_type": "stream",
          "name": "stdout",
          "text": [
            "# Fold 0: RMSLE=0.15135\n",
            "# Fold 1: RMSLE=0.15352\n",
            "# Fold 2: RMSLE=0.15325\n",
            "# Fold 3: RMSLE=0.15367\n",
            "# Fold 4: RMSLE=0.15318\n",
            "\u001b[32m# Overall: 0.15300 Poly-Ridge\u001b[0m\n"
          ]
        }
      ]
    },
    {
      "cell_type": "code",
      "source": [
        "# Nystroem transformer + Ridge\n",
        "model = make_pipeline(ColumnTransformer([('ohe', OneHotEncoder(drop='first'), ['Sex'])],\n",
        "                                        remainder='passthrough'),\n",
        "                      StandardScaler(),\n",
        "                      Nystroem(n_components=500),\n",
        "                      TransformedTargetRegressor(Ridge(0.1),\n",
        "                                                 func=np.log1p,\n",
        "                                                 inverse_func=np.expm1))\n",
        "cross_validate(model, 'Nystroem-Ridge', numeric_features + log_features + ['Sex'])\n",
        "# Overall: 0.15159 Nystroem-Ridge"
      ],
      "metadata": {
        "execution": {
          "iopub.status.busy": "2024-04-07T06:36:55.917613Z",
          "iopub.execute_input": "2024-04-07T06:36:55.919727Z",
          "iopub.status.idle": "2024-04-07T06:37:19.033467Z",
          "shell.execute_reply.started": "2024-04-07T06:36:55.919635Z",
          "shell.execute_reply": "2024-04-07T06:37:19.031663Z"
        },
        "trusted": true,
        "id": "CtkPLUpDLu5n",
        "colab": {
          "base_uri": "https://localhost:8080/"
        },
        "outputId": "9242fae3-6e08-4108-9403-25116858f8a2"
      },
      "execution_count": 67,
      "outputs": [
        {
          "output_type": "stream",
          "name": "stdout",
          "text": [
            "# Fold 0: RMSLE=0.14975\n",
            "# Fold 1: RMSLE=0.15174\n",
            "# Fold 2: RMSLE=0.15226\n",
            "# Fold 3: RMSLE=0.15222\n",
            "# Fold 4: RMSLE=0.15187\n",
            "\u001b[32m# Overall: 0.15157 Nystroem-Ridge\u001b[0m\n"
          ]
        }
      ]
    },
    {
      "cell_type": "markdown",
      "source": [
        "`KNeighborsRegressor` seems to be the worst of all models I looked at for this competition:"
      ],
      "metadata": {
        "id": "XW_L3rHwLu5n"
      }
    },
    {
      "cell_type": "code",
      "source": [
        "# K nearest neighbors\n",
        "model = make_pipeline(ColumnTransformer([('ohe', OneHotEncoder(drop='first'), ['Sex'])],\n",
        "                                        remainder='passthrough'),\n",
        "                      StandardScaler(),\n",
        "                      TransformedTargetRegressor(KNeighborsRegressor(n_neighbors=50),\n",
        "                                                 func=np.log1p,\n",
        "                                                 inverse_func=np.expm1))\n",
        "cross_validate(model, 'KNN', log_features + ['Sex'])\n",
        "# Overall: 0.15458 KNN\n"
      ],
      "metadata": {
        "execution": {
          "iopub.status.busy": "2024-04-07T06:37:19.036334Z",
          "iopub.execute_input": "2024-04-07T06:37:19.037624Z",
          "iopub.status.idle": "2024-04-07T06:37:56.576239Z",
          "shell.execute_reply.started": "2024-04-07T06:37:19.037563Z",
          "shell.execute_reply": "2024-04-07T06:37:56.574557Z"
        },
        "trusted": true,
        "id": "KwcHOJXULu5o",
        "colab": {
          "base_uri": "https://localhost:8080/"
        },
        "outputId": "b0533b47-cc9d-43bc-dfb4-f84b362c28f4"
      },
      "execution_count": 68,
      "outputs": [
        {
          "output_type": "stream",
          "name": "stdout",
          "text": [
            "# Fold 0: RMSLE=0.15247\n",
            "# Fold 1: RMSLE=0.15520\n",
            "# Fold 2: RMSLE=0.15544\n",
            "# Fold 4: RMSLE=0.15502\n",
            "\u001b[32m# Overall: 0.15455 KNN\u001b[0m\n"
          ]
        }
      ]
    },
    {
      "cell_type": "code",
      "source": [
        "# Random forest\n",
        "model = make_pipeline(ColumnTransformer([('ohe', OneHotEncoder(drop='first'), ['Sex'])],\n",
        "                                        remainder='passthrough'),\n",
        "                      TransformedTargetRegressor(RandomForestRegressor(n_estimators=200, min_samples_leaf=8, max_features=5),\n",
        "                                                 func=np.log1p,\n",
        "                                                 inverse_func=np.expm1))\n",
        "cross_validate(model, 'Random forest', log_features + ['Sex'])\n",
        "# Overall: 0.14962 Random forest"
      ],
      "metadata": {
        "execution": {
          "iopub.status.busy": "2024-04-07T06:37:56.578519Z",
          "iopub.execute_input": "2024-04-07T06:37:56.578995Z",
          "iopub.status.idle": "2024-04-07T06:41:50.129558Z",
          "shell.execute_reply.started": "2024-04-07T06:37:56.578957Z",
          "shell.execute_reply": "2024-04-07T06:41:50.127694Z"
        },
        "trusted": true,
        "id": "tihbNG_DLu5o",
        "colab": {
          "base_uri": "https://localhost:8080/"
        },
        "outputId": "32a334ef-cf5a-453f-c5c8-8afd38eb9d2f"
      },
      "execution_count": 69,
      "outputs": [
        {
          "output_type": "stream",
          "name": "stdout",
          "text": [
            "# Fold 0: RMSLE=0.14822\n",
            "# Fold 1: RMSLE=0.14995\n",
            "# Fold 2: RMSLE=0.15069\n",
            "# Fold 3: RMSLE=0.15028\n",
            "# Fold 4: RMSLE=0.15025\n",
            "\u001b[32m# Overall: 0.14988 Random forest\u001b[0m\n"
          ]
        }
      ]
    },
    {
      "cell_type": "code",
      "source": [
        "# ExtraTreesRegressor\n",
        "model = make_pipeline(ColumnTransformer([('ohe', OneHotEncoder(drop='first'), ['Sex'])],\n",
        "                                        remainder='passthrough'),\n",
        "                      TransformedTargetRegressor(ExtraTreesRegressor(n_estimators=200, min_samples_leaf=7),\n",
        "                                                 func=np.log1p,\n",
        "                                                 inverse_func=np.expm1))\n",
        "cross_validate(model, 'ExtraTrees', log_features + ['Sex'])\n",
        "# Overall: 0.15048 ExtraTrees"
      ],
      "metadata": {
        "execution": {
          "iopub.status.busy": "2024-04-07T06:41:50.131996Z",
          "iopub.execute_input": "2024-04-07T06:41:50.133521Z",
          "iopub.status.idle": "2024-04-07T06:44:08.312425Z",
          "shell.execute_reply.started": "2024-04-07T06:41:50.13347Z",
          "shell.execute_reply": "2024-04-07T06:44:08.310878Z"
        },
        "trusted": true,
        "id": "LRdVgAEeLu5o",
        "colab": {
          "base_uri": "https://localhost:8080/"
        },
        "outputId": "4b1336c8-8d06-444b-810f-6c8e983e7db6"
      },
      "execution_count": 70,
      "outputs": [
        {
          "output_type": "stream",
          "name": "stdout",
          "text": [
            "# Fold 0: RMSLE=0.14883\n",
            "# Fold 1: RMSLE=0.15113\n",
            "# Fold 2: RMSLE=0.15140\n",
            "# Fold 3: RMSLE=0.15102\n",
            "# Fold 4: RMSLE=0.15120\n",
            "\u001b[32m# Overall: 0.15071 ExtraTrees\u001b[0m\n"
          ]
        }
      ]
    },
    {
      "cell_type": "code",
      "source": [
        "# HistGradientBoostingRegressor\n",
        "# Hyperparameters were tuned with Optuna\n",
        "hgb_params = {'max_iter': 300, 'max_leaf_nodes': 43, 'early_stopping': False, 'learning_rate': 0.08019987638525192, 'min_samples_leaf': 37} # 0.14916\n",
        "model = make_pipeline(ColumnTransformer([('ohe', OneHotEncoder(), ['Sex'])],\n",
        "                                        remainder='passthrough'),\n",
        "                      TransformedTargetRegressor(HistGradientBoostingRegressor(**hgb_params),\n",
        "                                                 func=np.log1p,\n",
        "                                                 inverse_func=np.expm1))\n",
        "cross_validate(model, 'HGB', numeric_features + ['Sex'])\n",
        "# Overall: 0.14925 HGB"
      ],
      "metadata": {
        "execution": {
          "iopub.status.busy": "2024-04-07T06:44:08.314854Z",
          "iopub.execute_input": "2024-04-07T06:44:08.315325Z",
          "iopub.status.idle": "2024-04-07T06:44:32.772252Z",
          "shell.execute_reply.started": "2024-04-07T06:44:08.315286Z",
          "shell.execute_reply": "2024-04-07T06:44:32.771162Z"
        },
        "trusted": true,
        "id": "zj9NAsujLu5o",
        "colab": {
          "base_uri": "https://localhost:8080/"
        },
        "outputId": "704add71-8bfb-4da9-ae92-1453d5fa2180"
      },
      "execution_count": 71,
      "outputs": [
        {
          "output_type": "stream",
          "name": "stdout",
          "text": [
            "# Fold 0: RMSLE=0.14769\n",
            "# Fold 1: RMSLE=0.14941\n",
            "# Fold 2: RMSLE=0.15045\n",
            "# Fold 3: RMSLE=0.14970\n",
            "# Fold 4: RMSLE=0.14938\n",
            "\u001b[32m# Overall: 0.14933 HGB\u001b[0m\n"
          ]
        }
      ]
    },
    {
      "cell_type": "markdown",
      "source": [
        "We implement two XGBoost models as suggested in @siukeitin's discussion [log1p-transformed target + MSE objective vs MSLE objective](https://www.kaggle.com/competitions/playground-series-s4e4/discussion/488283).\n",
        "- The first XGBoost model optimizes MSE and has a log-transformed target.\n",
        "- The second XGBoost model optimizes MSLE directly and doesn't need a target transformation."
      ],
      "metadata": {
        "id": "haF8O_O2Lu5o"
      }
    },
    {
      "cell_type": "code",
      "source": [
        "# XGBoost with RMSE objective\n",
        "# Hyperparameters were tuned with Optuna\n",
        "xgb_params = {'grow_policy': 'lossguide', 'n_estimators': 300, 'learning_rate': 0.09471805900675286, 'max_depth': 8, 'reg_lambda': 33.33929116223339, 'min_child_weight': 27.048028004026204, 'colsample_bytree': 0.6105442825961575, 'objective': 'reg:squarederror', 'tree_method': 'hist', 'gamma': 0, 'enable_categorical': True} # 0.14859\n",
        "model = TransformedTargetRegressor(xgboost.XGBRegressor(**xgb_params),\n",
        "                                                 func=np.log1p,\n",
        "                                                 inverse_func=np.expm1)\n",
        "cross_validate(model, 'XGBoost', numeric_features + ['Sex'], n_repeats=5)\n",
        "# Overall: 0.14853 XGBoost"
      ],
      "metadata": {
        "execution": {
          "iopub.status.busy": "2024-04-07T06:44:32.774188Z",
          "iopub.execute_input": "2024-04-07T06:44:32.774944Z",
          "iopub.status.idle": "2024-04-07T06:45:58.68829Z",
          "shell.execute_reply.started": "2024-04-07T06:44:32.774906Z",
          "shell.execute_reply": "2024-04-07T06:45:58.687229Z"
        },
        "trusted": true,
        "id": "ybhbqcLjLu5o",
        "colab": {
          "base_uri": "https://localhost:8080/"
        },
        "outputId": "723b208e-51f7-4b51-bbd0-d86b6c166374"
      },
      "execution_count": 72,
      "outputs": [
        {
          "output_type": "stream",
          "name": "stdout",
          "text": [
            "# Fold 0: RMSLE=0.14670\n",
            "# Fold 1: RMSLE=0.14891\n",
            "# Fold 2: RMSLE=0.14947\n",
            "# Fold 3: RMSLE=0.14924\n",
            "# Fold 4: RMSLE=0.14904\n",
            "\u001b[32m# Overall: 0.14867 XGBoost\u001b[0m\n"
          ]
        }
      ]
    },
    {
      "cell_type": "code",
      "source": [
        "# XGBoost with RMSLE objective\n",
        "# Hyperparameters were tuned with Optuna\n",
        "xgb_params = {'grow_policy': 'depthwise', 'n_estimators': 500, 'learning_rate': 0.0896765799823656, 'max_depth': 8, 'reg_lambda': 1.003764844090402, 'min_child_weight': 0.20627702562667777, 'colsample_bytree': 0.5142803343048419, 'objective': 'reg:squaredlogerror', 'tree_method': 'hist', 'gamma': 0, 'enable_categorical': True} # 0.14875\n",
        "model = xgboost.XGBRegressor(**xgb_params)\n",
        "cross_validate(model, 'XGBoost-RMSLE', numeric_features + ['Sex'], n_repeats=5)\n"
      ],
      "metadata": {
        "execution": {
          "iopub.status.busy": "2024-04-07T06:45:58.692742Z",
          "iopub.execute_input": "2024-04-07T06:45:58.696084Z",
          "iopub.status.idle": "2024-04-07T06:48:09.509578Z",
          "shell.execute_reply.started": "2024-04-07T06:45:58.696037Z",
          "shell.execute_reply": "2024-04-07T06:48:09.508461Z"
        },
        "trusted": true,
        "id": "OGb1KLfwLu5o",
        "colab": {
          "base_uri": "https://localhost:8080/"
        },
        "outputId": "0f4279cd-3aec-4c18-e644-4d739266346c"
      },
      "execution_count": 73,
      "outputs": [
        {
          "output_type": "stream",
          "name": "stdout",
          "text": [
            "# Fold 0: RMSLE=0.14719\n",
            "# Fold 1: RMSLE=0.14896\n",
            "# Fold 2: RMSLE=0.14976\n",
            "# Fold 3: RMSLE=0.14944\n",
            "# Fold 4: RMSLE=0.14916\n",
            "\u001b[32m# Overall: 0.14890 XGBoost-RMSLE\u001b[0m\n"
          ]
        }
      ]
    },
    {
      "cell_type": "code",
      "source": [
        "# LightGBM\n",
        "# Hyperparameters were tuned with Optuna\n",
        "lgbm_params = {'n_estimators': 1000, 'learning_rate': 0.038622511348472645, 'colsample_bytree': 0.5757189042456357, 'reg_lambda': 0.09664116733307193, 'min_child_samples': 87, 'num_leaves': 43, 'verbose': -1} # 0.14804\n",
        "model = TransformedTargetRegressor(lightgbm.LGBMRegressor(**lgbm_params),\n",
        "                                                 func=np.log1p,\n",
        "                                                 inverse_func=np.expm1)\n",
        "cross_validate(model, 'LightGBM', numeric_features + ['Sex'], n_repeats=5)\n",
        "# Overall: 0.14804 LightGBM\n"
      ],
      "metadata": {
        "execution": {
          "iopub.status.busy": "2024-04-07T06:48:09.511813Z",
          "iopub.execute_input": "2024-04-07T06:48:09.512782Z",
          "iopub.status.idle": "2024-04-07T06:53:17.721821Z",
          "shell.execute_reply.started": "2024-04-07T06:48:09.512732Z",
          "shell.execute_reply": "2024-04-07T06:53:17.719972Z"
        },
        "trusted": true,
        "id": "Pq9mrmL5Lu5p",
        "colab": {
          "base_uri": "https://localhost:8080/"
        },
        "outputId": "bb0448ef-a628-4c83-f552-22e72299db10"
      },
      "execution_count": 74,
      "outputs": [
        {
          "output_type": "stream",
          "name": "stdout",
          "text": [
            "# Fold 0: RMSLE=0.14622\n",
            "# Fold 1: RMSLE=0.14831\n",
            "# Fold 2: RMSLE=0.14913\n",
            "# Fold 3: RMSLE=0.14873\n",
            "# Fold 4: RMSLE=0.14850\n",
            "\u001b[32m# Overall: 0.14818 LightGBM\u001b[0m\n"
          ]
        }
      ]
    },
    {
      "cell_type": "markdown",
      "source": [
        "There [was a discussion](https://www.kaggle.com/competitions/playground-series-s4e4/discussion/491703) about whether a sqrt transformation of the target was better than the log transformation. The following LightGBM model uses the sqrt transformation and has a higher error than the model above. Log transformation is the way to go!"
      ],
      "metadata": {
        "id": "T7qbrS3SLu5p"
      }
    },
    {
      "cell_type": "code",
      "source": [
        "# LightGBM with sqrt transformation\n",
        "# Hyperparameters were tuned with Optuna\n",
        "lgbm_params = {'n_estimators': 1000, 'learning_rate': 0.038622511348472645, 'colsample_bytree': 0.5757189042456357, 'reg_lambda': 0.09664116733307193, 'min_child_samples': 87, 'num_leaves': 43, 'verbose': -1} # 0.14804\n",
        "model = TransformedTargetRegressor(lightgbm.LGBMRegressor(**lgbm_params),\n",
        "                                                 func=np.sqrt,\n",
        "                                                 inverse_func=np.square)\n",
        "cross_validate(model, 'LightGBM-sqrt', numeric_features + ['Sex'], n_repeats=5)\n"
      ],
      "metadata": {
        "execution": {
          "iopub.status.busy": "2024-04-07T06:53:17.723498Z",
          "iopub.execute_input": "2024-04-07T06:53:17.723901Z",
          "iopub.status.idle": "2024-04-07T06:58:20.567054Z",
          "shell.execute_reply.started": "2024-04-07T06:53:17.723868Z",
          "shell.execute_reply": "2024-04-07T06:58:20.56524Z"
        },
        "trusted": true,
        "id": "nveVCDu4Lu5p",
        "colab": {
          "base_uri": "https://localhost:8080/"
        },
        "outputId": "14bd7c0c-6f15-4bd6-f961-eb862ec55580"
      },
      "execution_count": 75,
      "outputs": [
        {
          "output_type": "stream",
          "name": "stdout",
          "text": [
            "# Fold 0: RMSLE=0.14628\n",
            "# Fold 1: RMSLE=0.14841\n",
            "# Fold 2: RMSLE=0.14932\n",
            "# Fold 3: RMSLE=0.14879\n",
            "# Fold 4: RMSLE=0.14865\n",
            "\u001b[32m# Overall: 0.14829 LightGBM-sqrt\u001b[0m\n"
          ]
        }
      ]
    },
    {
      "cell_type": "code",
      "source": [
        "# Catboost\n",
        "# Hyperparameters were tuned with Optuna\n",
        "cb_params = {'grow_policy': 'SymmetricTree', 'n_estimators': 1000, 'learning_rate': 0.128912681527133, 'l2_leaf_reg': 1.836927907521674, 'max_depth': 6, 'colsample_bylevel': 0.6775373040510968, 'random_strength': 0, 'boost_from_average': True, 'loss_function': 'RMSE', 'cat_features': ['Sex'], 'verbose': False} # 0.14847\n",
        "model = TransformedTargetRegressor(catboost.CatBoostRegressor(**cb_params),\n",
        "                                                 func=np.log1p,\n",
        "                                                 inverse_func=np.expm1)\n",
        "cross_validate(model, 'Catboost', log_features + ['Sex'], n_repeats=5)\n",
        "# Overall: 0.14851 Catboost"
      ],
      "metadata": {
        "execution": {
          "iopub.status.busy": "2024-04-07T06:58:20.569595Z",
          "iopub.execute_input": "2024-04-07T06:58:20.570227Z",
          "iopub.status.idle": "2024-04-07T07:09:38.573394Z",
          "shell.execute_reply.started": "2024-04-07T06:58:20.570173Z",
          "shell.execute_reply": "2024-04-07T07:09:38.571177Z"
        },
        "trusted": true,
        "id": "MSooyG_TLu5p",
        "colab": {
          "base_uri": "https://localhost:8080/"
        },
        "outputId": "93352b35-0fb0-41e7-e1d1-9fb403e378c9"
      },
      "execution_count": 76,
      "outputs": [
        {
          "output_type": "stream",
          "name": "stdout",
          "text": [
            "# Fold 0: RMSLE=0.14666\n",
            "# Fold 1: RMSLE=0.14862\n",
            "# Fold 2: RMSLE=0.14927\n",
            "# Fold 3: RMSLE=0.14913\n",
            "# Fold 4: RMSLE=0.14889\n",
            "\u001b[32m# Overall: 0.14851 Catboost\u001b[0m\n"
          ]
        }
      ]
    },
    {
      "cell_type": "markdown",
      "source": [
        "# Ensemble\n",
        "\n",
        "`Ridge` is always a good method to ensemble regression models. It determines the optimal weights for blending the ensemble members, as shown in the pie chart.\n",
        "\n",
        "Note that I haven't tuned the regularization `alpha` of the regressor. If you modify the code so that you can cross-validate the ensemble and tune the hyperparameter, you'll get a better ensemble score."
      ],
      "metadata": {
        "id": "3psshGwxLu5p"
      }
    },
    {
      "cell_type": "code",
      "source": [
        "members = [name for name in oof.keys() if 'Stack' not in name]\n",
        "\n",
        "X = np.log1p(np.column_stack([oof[name] for name in members]))\n",
        "model = TransformedTargetRegressor(Ridge(positive=True, tol=1e-6),\n",
        "                                   func=np.log1p,\n",
        "                                   inverse_func=np.expm1)\n",
        "model.fit(X, train.Rings)\n",
        "print('Ensemble weights')\n",
        "weights = pd.Series(model.regressor_.coef_, index=members)\n",
        "print(weights)\n",
        "print('Total weight:', weights.sum())\n",
        "print('Intercept:', model.regressor_.intercept_)\n",
        "oof['Stack'] = model.predict(X) # not really out-of-fold...\n",
        "print(f\"Score: {mean_squared_log_error(train.Rings, oof['Stack'], squared=False):.5f}\")\n",
        "\n",
        "# Pie chart\n",
        "weights = weights[weights >= 0.005] # hide small weights in pie chart\n",
        "plt.pie(weights, labels=weights.index, autopct=\"%.0f%%\")\n",
        "plt.title('Ensemble weights')\n",
        "plt.show()\n",
        "\n",
        "# Test predictions\n",
        "if COMPUTE_TEST_PRED:\n",
        "    X = np.log1p(np.column_stack([test_pred[name] for name in members]))\n",
        "    test_pred['Stack'] = model.predict(X)"
      ],
      "metadata": {
        "execution": {
          "iopub.status.busy": "2024-04-07T07:09:38.57589Z",
          "iopub.execute_input": "2024-04-07T07:09:38.57634Z",
          "iopub.status.idle": "2024-04-07T07:09:39.015113Z",
          "shell.execute_reply.started": "2024-04-07T07:09:38.576305Z",
          "shell.execute_reply": "2024-04-07T07:09:39.012782Z"
        },
        "trusted": true,
        "id": "9Aa6Y4BfLu5p",
        "colab": {
          "base_uri": "https://localhost:8080/",
          "height": 706
        },
        "outputId": "9bd71347-111a-4f56-84dd-77b54716ab33"
      },
      "execution_count": 77,
      "outputs": [
        {
          "output_type": "stream",
          "name": "stdout",
          "text": [
            "Ensemble weights\n",
            "Poly-Ridge        0.000988\n",
            "Nystroem-Ridge    0.017103\n",
            "KNN               0.000000\n",
            "Random forest     0.046410\n",
            "ExtraTrees        0.000000\n",
            "HGB               0.057885\n",
            "XGBoost           0.101462\n",
            "XGBoost-RMSLE     0.080066\n",
            "LightGBM          0.233437\n",
            "LightGBM-sqrt     0.255030\n",
            "Catboost          0.214052\n",
            "dtype: float64\n",
            "Total weight: 1.0064323821774455\n",
            "Intercept: -0.01617647394098576\n",
            "Score: 0.14799\n"
          ]
        },
        {
          "output_type": "display_data",
          "data": {
            "text/plain": [
              "<Figure size 640x480 with 1 Axes>"
            ],
            "image/png": "[encoded data removed]"
          },
          "metadata": {}
        }
      ]
    },
    {
      "cell_type": "markdown",
      "source": [
        "# Evaluation\n",
        "\n",
        "The bar chart shows that for the given dataset, LightGBM, Catboost and XGBoost give the best predictions. The ensemble ('Stack') outperforms every single model."
      ],
      "metadata": {
        "id": "rsPi-GAtLu5p"
      }
    },
    {
      "cell_type": "code",
      "source": [
        "result_list = []\n",
        "for label in oof.keys():\n",
        "    score = mean_squared_log_error(train.Rings, oof[label], squared=False)\n",
        "    result_list.append((label, score))\n",
        "result_df = pd.DataFrame(result_list, columns=['label', 'score'])\n",
        "result_df.sort_values('score', inplace=True)\n",
        "\n",
        "plt.figure(figsize=(12, len(result_df) * 0.4 + 0.4))\n",
        "bars = plt.barh(np.arange(len(result_df)), result_df.score, color='lightgreen')\n",
        "plt.gca().bar_label(bars, fmt='%.5f')\n",
        "plt.yticks(np.arange(len(result_df)), result_df.label)\n",
        "plt.gca().invert_yaxis()\n",
        "plt.xlim(0.14, 0.16)\n",
        "plt.xlabel('Root mean squared log error (lower is better)')\n",
        "plt.show()"
      ],
      "metadata": {
        "_kg_hide-input": true,
        "execution": {
          "iopub.status.busy": "2024-04-07T07:09:39.018476Z",
          "iopub.execute_input": "2024-04-07T07:09:39.019236Z",
          "iopub.status.idle": "2024-04-07T07:09:39.540874Z",
          "shell.execute_reply.started": "2024-04-07T07:09:39.019174Z",
          "shell.execute_reply": "2024-04-07T07:09:39.539311Z"
        },
        "trusted": true,
        "id": "sEAXO0feLu5q",
        "colab": {
          "base_uri": "https://localhost:8080/",
          "height": 480
        },
        "outputId": "b4503d6e-45aa-4e64-8087-32382890a674"
      },
      "execution_count": 78,
      "outputs": [
        {
          "output_type": "display_data",
          "data": {
            "text/plain": [
              "<Figure size 1200x520 with 1 Axes>"
            ],
            "image/png": "[encoded data removed]"
          },
          "metadata": {}
        }
      ]
    },
    {
      "cell_type": "markdown",
      "source": [
        "# Submission"
      ],
      "metadata": {
        "id": "9DFopOUjLu5q"
      }
    },
    {
      "cell_type": "code",
      "source": [
        "if COMPUTE_TEST_PRED:\n",
        "    sub = pd.Series(test_pred['Stack'], index=test.index, name='Rings')\n",
        "    sub.to_csv('submission.csv')\n",
        "    !head submission.csv"
      ],
      "metadata": {
        "execution": {
          "iopub.status.busy": "2024-04-07T07:09:39.542656Z",
          "iopub.execute_input": "2024-04-07T07:09:39.543158Z",
          "iopub.status.idle": "2024-04-07T07:09:40.917261Z",
          "shell.execute_reply.started": "2024-04-07T07:09:39.543122Z",
          "shell.execute_reply": "2024-04-07T07:09:40.915392Z"
        },
        "trusted": true,
        "id": "mCx_cD1JLu5q",
        "colab": {
          "base_uri": "https://localhost:8080/"
        },
        "outputId": "1299e115-0a41-4bda-97b6-d724d3971578"
      },
      "execution_count": 79,
      "outputs": [
        {
          "output_type": "stream",
          "name": "stdout",
          "text": [
            "id,Rings\n",
            "90615,9.784208459955511\n",
            "90616,9.760161169497787\n",
            "90617,9.997228227536024\n",
            "90618,10.525742244938842\n",
            "90619,7.590270234612247\n",
            "90620,9.26281092503005\n",
            "90621,10.951880140475073\n",
            "90622,6.097010890766147\n",
            "90623,7.934816447383621\n"
          ]
        }
      ]
    },
    {
      "cell_type": "markdown",
      "source": [
        "# Exercises\n",
        "\n",
        "By completing at least one of the following exercises, you have a good chance of improving your leaderboard score:\n",
        "1. Re-run the whole notebook with another seed for the StratifiedKFold to test for overfitting. How much do the cv scores and the ensemble weights depend on the seed?\n",
        "1. Improve the ensemble by tuning the regularization and by manually excluding models.\n",
        "1. Implement and tune a LightGBM model with RMSLE objective (and without target transformation) as described in @siukeitin's discussion [log1p-transformed target + MSE objective vs MSLE objective](https://www.kaggle.com/competitions/playground-series-s4e4/discussion/488283). Add it to the ensemble.\n",
        "1. Implement and tune a neural network and add it to the ensemble."
      ],
      "metadata": {
        "id": "M0abhoZYLu5q"
      }
    }
  ]
}